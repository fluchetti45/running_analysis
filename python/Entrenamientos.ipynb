{
 "cells": [
  {
   "cell_type": "markdown",
   "id": "1d87566b-e17f-4043-abf5-bde90c9dbf41",
   "metadata": {},
   "source": [
    "# Entrenamientos\n",
    "\n",
    "A continuacion una exploracion de los datos que brinda Garmin de mis entrenamientos. La informacion la obtuve de la pagina de Garmin Connect, una aplicacion que almacena los entrenamientos con la informacion de cada uno."
   ]
  },
  {
   "cell_type": "markdown",
   "id": "3fd8bcd5-1c3f-4e68-b501-a2bc46e9e7c8",
   "metadata": {
    "jp-MarkdownHeadingCollapsed": true
   },
   "source": [
    "## Importo librerias utiles"
   ]
  },
  {
   "cell_type": "code",
   "execution_count": 2,
   "id": "1ab5a0fc-0fb2-405e-85d1-35930cccfef6",
   "metadata": {},
   "outputs": [],
   "source": [
    "import numpy as np\n",
    "import pandas as pd\n",
    "import matplotlib.pyplot as plt\n",
    "import seaborn as sns\n",
    "import re\n",
    "%matplotlib inline"
   ]
  },
  {
   "cell_type": "markdown",
   "id": "35cd1fc4-850c-40a5-a5e4-51005e54cfeb",
   "metadata": {
    "jp-MarkdownHeadingCollapsed": true
   },
   "source": [
    "## Carga, inspeccion y transformacion de datos"
   ]
  },
  {
   "cell_type": "code",
   "execution_count": 3,
   "id": "665c8de0-0229-4f92-8c4c-621eb873bbc2",
   "metadata": {},
   "outputs": [
    {
     "data": {
      "text/plain": [
       "(222, 41)"
      ]
     },
     "execution_count": 3,
     "metadata": {},
     "output_type": "execute_result"
    }
   ],
   "source": [
    "act = pd.read_csv(\"../running.csv\")\n",
    "\n",
    "act.shape"
   ]
  },
  {
   "cell_type": "markdown",
   "id": "3d735a9d-2a99-436f-93a5-b9baf1c7189e",
   "metadata": {},
   "source": [
    "Tenemos 222 registros con 41 features para cada uno. Esto es, 222 actividades con 41 caracteristicas."
   ]
  },
  {
   "cell_type": "code",
   "execution_count": 4,
   "id": "d2632d75-aa5d-409f-b767-5495e1a7d123",
   "metadata": {
    "scrolled": true
   },
   "outputs": [
    {
     "data": {
      "text/html": [
       "<div>\n",
       "<style scoped>\n",
       "    .dataframe tbody tr th:only-of-type {\n",
       "        vertical-align: middle;\n",
       "    }\n",
       "\n",
       "    .dataframe tbody tr th {\n",
       "        vertical-align: top;\n",
       "    }\n",
       "\n",
       "    .dataframe thead th {\n",
       "        text-align: right;\n",
       "    }\n",
       "</style>\n",
       "<table border=\"1\" class=\"dataframe\">\n",
       "  <thead>\n",
       "    <tr style=\"text-align: right;\">\n",
       "      <th></th>\n",
       "      <th>Tipo de actividad</th>\n",
       "      <th>Fecha</th>\n",
       "      <th>Favorito</th>\n",
       "      <th>Título</th>\n",
       "      <th>Distancia</th>\n",
       "      <th>Calorías</th>\n",
       "      <th>Tiempo</th>\n",
       "      <th>Frecuencia cardiaca media</th>\n",
       "      <th>FC máxima</th>\n",
       "      <th>Cadencia de carrera media</th>\n",
       "      <th>...</th>\n",
       "      <th>Ritmo máximo de respiración</th>\n",
       "      <th>Cambio en estrés</th>\n",
       "      <th>Inicio del periodo de estrés</th>\n",
       "      <th>Fin del periodo de estrés</th>\n",
       "      <th>Estrés medio</th>\n",
       "      <th>Estrés máximo</th>\n",
       "      <th>Tiempo en movimiento</th>\n",
       "      <th>Tiempo transcurrido</th>\n",
       "      <th>Altura mínima</th>\n",
       "      <th>Altura máxima</th>\n",
       "    </tr>\n",
       "  </thead>\n",
       "  <tbody>\n",
       "    <tr>\n",
       "      <th>127</th>\n",
       "      <td>Carrera</td>\n",
       "      <td>2023-09-18 19:42:52</td>\n",
       "      <td>False</td>\n",
       "      <td>Ciudad de Buenos Aires - 3x1k/1'30</td>\n",
       "      <td>7.90</td>\n",
       "      <td>584</td>\n",
       "      <td>00:44:28</td>\n",
       "      <td>160</td>\n",
       "      <td>192</td>\n",
       "      <td>162</td>\n",
       "      <td>...</td>\n",
       "      <td>--</td>\n",
       "      <td>--</td>\n",
       "      <td>--</td>\n",
       "      <td>--</td>\n",
       "      <td>--</td>\n",
       "      <td>--</td>\n",
       "      <td>00:43:12</td>\n",
       "      <td>00:45:16</td>\n",
       "      <td>4</td>\n",
       "      <td>40</td>\n",
       "    </tr>\n",
       "    <tr>\n",
       "      <th>202</th>\n",
       "      <td>Carrera</td>\n",
       "      <td>2023-03-21 15:07:40</td>\n",
       "      <td>False</td>\n",
       "      <td>Ciudad de Buenos Aires - Carrera de progresión</td>\n",
       "      <td>7.58</td>\n",
       "      <td>534</td>\n",
       "      <td>00:40:00</td>\n",
       "      <td>166</td>\n",
       "      <td>192</td>\n",
       "      <td>163</td>\n",
       "      <td>...</td>\n",
       "      <td>--</td>\n",
       "      <td>--</td>\n",
       "      <td>--</td>\n",
       "      <td>--</td>\n",
       "      <td>--</td>\n",
       "      <td>--</td>\n",
       "      <td>00:39:58</td>\n",
       "      <td>00:45:31</td>\n",
       "      <td>-6</td>\n",
       "      <td>39</td>\n",
       "    </tr>\n",
       "    <tr>\n",
       "      <th>91</th>\n",
       "      <td>Carrera</td>\n",
       "      <td>2023-12-12 19:41:30</td>\n",
       "      <td>False</td>\n",
       "      <td>Ciudad de Buenos Aires - 3x1k/1'30</td>\n",
       "      <td>7.29</td>\n",
       "      <td>552</td>\n",
       "      <td>00:41:55</td>\n",
       "      <td>161</td>\n",
       "      <td>193</td>\n",
       "      <td>149</td>\n",
       "      <td>...</td>\n",
       "      <td>--</td>\n",
       "      <td>--</td>\n",
       "      <td>--</td>\n",
       "      <td>--</td>\n",
       "      <td>--</td>\n",
       "      <td>--</td>\n",
       "      <td>00:38:47</td>\n",
       "      <td>00:43:29</td>\n",
       "      <td>-6</td>\n",
       "      <td>41</td>\n",
       "    </tr>\n",
       "    <tr>\n",
       "      <th>10</th>\n",
       "      <td>Carrera</td>\n",
       "      <td>2024-07-05 18:16:47</td>\n",
       "      <td>False</td>\n",
       "      <td>Ciudad de Buenos Aires - 7x1k/1' (4'40/4'20)</td>\n",
       "      <td>12.34</td>\n",
       "      <td>950</td>\n",
       "      <td>01:05:10</td>\n",
       "      <td>168</td>\n",
       "      <td>191</td>\n",
       "      <td>164</td>\n",
       "      <td>...</td>\n",
       "      <td>--</td>\n",
       "      <td>--</td>\n",
       "      <td>--</td>\n",
       "      <td>--</td>\n",
       "      <td>--</td>\n",
       "      <td>--</td>\n",
       "      <td>01:02:01</td>\n",
       "      <td>01:05:51</td>\n",
       "      <td>5</td>\n",
       "      <td>38</td>\n",
       "    </tr>\n",
       "    <tr>\n",
       "      <th>24</th>\n",
       "      <td>Carrera</td>\n",
       "      <td>2024-06-02 17:53:45</td>\n",
       "      <td>False</td>\n",
       "      <td>Ciudad de Buenos Aires - 60' (5'45 - 5'15) con...</td>\n",
       "      <td>10.99</td>\n",
       "      <td>859</td>\n",
       "      <td>01:00:02</td>\n",
       "      <td>166</td>\n",
       "      <td>185</td>\n",
       "      <td>166</td>\n",
       "      <td>...</td>\n",
       "      <td>--</td>\n",
       "      <td>--</td>\n",
       "      <td>--</td>\n",
       "      <td>--</td>\n",
       "      <td>--</td>\n",
       "      <td>--</td>\n",
       "      <td>01:00:01</td>\n",
       "      <td>01:00:02</td>\n",
       "      <td>4</td>\n",
       "      <td>37</td>\n",
       "    </tr>\n",
       "  </tbody>\n",
       "</table>\n",
       "<p>5 rows × 41 columns</p>\n",
       "</div>"
      ],
      "text/plain": [
       "    Tipo de actividad                Fecha  Favorito  \\\n",
       "127           Carrera  2023-09-18 19:42:52     False   \n",
       "202           Carrera  2023-03-21 15:07:40     False   \n",
       "91            Carrera  2023-12-12 19:41:30     False   \n",
       "10            Carrera  2024-07-05 18:16:47     False   \n",
       "24            Carrera  2024-06-02 17:53:45     False   \n",
       "\n",
       "                                                Título Distancia Calorías  \\\n",
       "127                 Ciudad de Buenos Aires - 3x1k/1'30      7.90      584   \n",
       "202     Ciudad de Buenos Aires - Carrera de progresión      7.58      534   \n",
       "91                  Ciudad de Buenos Aires - 3x1k/1'30      7.29      552   \n",
       "10        Ciudad de Buenos Aires - 7x1k/1' (4'40/4'20)     12.34      950   \n",
       "24   Ciudad de Buenos Aires - 60' (5'45 - 5'15) con...     10.99      859   \n",
       "\n",
       "       Tiempo  Frecuencia cardiaca media  FC máxima Cadencia de carrera media  \\\n",
       "127  00:44:28                        160        192                       162   \n",
       "202  00:40:00                        166        192                       163   \n",
       "91   00:41:55                        161        193                       149   \n",
       "10   01:05:10                        168        191                       164   \n",
       "24   01:00:02                        166        185                       166   \n",
       "\n",
       "     ... Ritmo máximo de respiración Cambio en estrés  \\\n",
       "127  ...                          --               --   \n",
       "202  ...                          --               --   \n",
       "91   ...                          --               --   \n",
       "10   ...                          --               --   \n",
       "24   ...                          --               --   \n",
       "\n",
       "    Inicio del periodo de estrés Fin del periodo de estrés Estrés medio  \\\n",
       "127                           --                        --           --   \n",
       "202                           --                        --           --   \n",
       "91                            --                        --           --   \n",
       "10                            --                        --           --   \n",
       "24                            --                        --           --   \n",
       "\n",
       "     Estrés máximo  Tiempo en movimiento  Tiempo transcurrido  Altura mínima  \\\n",
       "127             --              00:43:12             00:45:16              4   \n",
       "202             --              00:39:58             00:45:31             -6   \n",
       "91              --              00:38:47             00:43:29             -6   \n",
       "10              --              01:02:01             01:05:51              5   \n",
       "24              --              01:00:01             01:00:02              4   \n",
       "\n",
       "     Altura máxima  \n",
       "127             40  \n",
       "202             39  \n",
       "91              41  \n",
       "10              38  \n",
       "24              37  \n",
       "\n",
       "[5 rows x 41 columns]"
      ]
     },
     "execution_count": 4,
     "metadata": {},
     "output_type": "execute_result"
    }
   ],
   "source": [
    "act.sample(5)"
   ]
  },
  {
   "cell_type": "markdown",
   "id": "8352789f-d5ac-48ea-b583-5c87638f2d01",
   "metadata": {},
   "source": [
    "Inspeccionemos las columnas. Desde ya vemos que hay un problema en el formato. Contienen espacios en blanco, no estan en minusculas y poseen letras con tildes. Esto resulta fastidioso a la hora de acceder a los datos."
   ]
  },
  {
   "cell_type": "code",
   "execution_count": 5,
   "id": "087aec16-2f3c-4223-bb8d-1457000a8c51",
   "metadata": {
    "scrolled": true
   },
   "outputs": [
    {
     "data": {
      "text/plain": [
       "Index(['Tipo de actividad', 'Fecha', 'Favorito', 'Título', 'Distancia',\n",
       "       'Calorías', 'Tiempo', 'Frecuencia cardiaca media', 'FC máxima',\n",
       "       'Cadencia de carrera media', 'Cadencia de carrera máxima',\n",
       "       'Ritmo medio', 'Ritmo óptimo', 'Ascenso total', 'Descenso total',\n",
       "       'Longitud media de zancada', 'Relación vertical media',\n",
       "       'Oscilación vertical media', 'Tiempo medio de contacto con el suelo',\n",
       "       'Training Stress Score®', 'Dificultad', 'Fluidez', 'Swolf medio',\n",
       "       'Velocidad media de palada', 'Repeticiones totales', 'Descompresión',\n",
       "       'Mejor tiempo de vuelta', 'Número de vueltas', 'Temperatura máxima',\n",
       "       'Ritmo respiratorio medio', 'Ritmo mínimo de respiración',\n",
       "       'Ritmo máximo de respiración', 'Cambio en estrés',\n",
       "       'Inicio del periodo de estrés', 'Fin del periodo de estrés',\n",
       "       'Estrés medio', 'Estrés máximo', 'Tiempo en movimiento',\n",
       "       'Tiempo transcurrido', 'Altura mínima', 'Altura máxima'],\n",
       "      dtype='object')"
      ]
     },
     "execution_count": 5,
     "metadata": {},
     "output_type": "execute_result"
    }
   ],
   "source": [
    "act.columns"
   ]
  },
  {
   "cell_type": "markdown",
   "id": "6ff1b6e8-3c03-4bb8-a4a7-f918b51b9919",
   "metadata": {},
   "source": [
    "### Transformo nombres de columnas.\n",
    "\n",
    "Llevo los nombres a minuscula, reemplazo las letras con tildes por las mismas sin y reemplazo los espacios en blanco por guiones bajos. Basicamente llevo a formato **snake_case**. Para ello:\n",
    "\n",
    "1) Me armo un diccionario donde mapeo la letra que quiero reemplazar con la que la reemplaza.\n",
    "2) Creo un patron donde voy a tener las letras que quiero reemplazar.\n",
    "3) Busco, para el nombre de cada columna, si contiene letras que quiero reemplazar y guardo cuales son.\n",
    "4) Reemplazo las letras.\n",
    "\n",
    "Ejemplo con una oracion:"
   ]
  },
  {
   "cell_type": "code",
   "execution_count": 6,
   "id": "4bfd09aa-7f57-4314-93e5-89a5a426c0d7",
   "metadata": {
    "scrolled": true
   },
   "outputs": [
    {
     "name": "stdout",
     "output_type": "stream",
     "text": [
      "[' ', 'ú', ' ', 'á', ' ', ' ']\n",
      "  _\n",
      "ú u\n",
      "á a\n",
      "La_musica_esta_muy_fuerte\n"
     ]
    }
   ],
   "source": [
    "to_replace = {\"á\":\"a\",\"é\":\"e\",\"í\":\"i\",\"ó\":\"o\",\"ú\":\"u\",\"ñ\":\"n\",\" \":\"_\"}\n",
    "patron = re.compile('|'.join(to_replace.keys())) # [á|é|í|ó|ú|ñ| ]\n",
    "# Defino una oracion y busco los caracteres que matchean.\n",
    "o1 = 'La música está muy fuerte'\n",
    "matches = patron.findall(o1)\n",
    "print(matches)\n",
    "# Y ahora reemplazo para cada uno. Hago un set para que no siga con repetidos.\n",
    "for match in set(matches):\n",
    "    print(match, to_replace[match])\n",
    "    o1 = o1.replace(match, to_replace[match])\n",
    "print(o1)"
   ]
  },
  {
   "cell_type": "markdown",
   "id": "9e8cdcbd-e974-4af5-b5b3-8d1a7917dce6",
   "metadata": {},
   "source": [
    "Ahora con los nombres de las columnas."
   ]
  },
  {
   "cell_type": "code",
   "execution_count": 7,
   "id": "db232fa7-74ef-4ad9-a420-034b8b236a41",
   "metadata": {},
   "outputs": [],
   "source": [
    "# Diccionario con mapeo para reemplazar.\n",
    "to_replace = {\"á\":\"a\",\"é\":\"e\",\"í\":\"i\",\"ó\":\"o\",\"ú\":\"u\",\"ñ\":\"n\",\" \":\"_\"}\n",
    "patron = re.compile('|'.join(to_replace.keys())) # [á|é|í|ó|ú|ñ| ]\n",
    "\n",
    "def to_snake_case(col_name):\n",
    "    # Cambio nombre de la columna. Llevo a minusculas, reemplazo espacios en blanco por _ y letras con tildes por las mismas sin.\n",
    "    col_name  = col_name.lower()\n",
    "    matches = patron.findall(col_name) # Busco coincidencias, si las hay reemplazo.\n",
    "    if matches:\n",
    "        for match in set(matches):\n",
    "            col_name = col_name.replace(match,to_replace[match])\n",
    "    return col_name    "
   ]
  },
  {
   "cell_type": "code",
   "execution_count": 8,
   "id": "d03a0b3d-b881-4670-9e7a-30bf88c22e47",
   "metadata": {
    "scrolled": true
   },
   "outputs": [
    {
     "data": {
      "text/plain": [
       "Index(['tipo_de_actividad', 'fecha', 'favorito', 'titulo', 'distancia',\n",
       "       'calorias', 'tiempo', 'frecuencia_cardiaca_media', 'fc_maxima',\n",
       "       'cadencia_de_carrera_media', 'cadencia_de_carrera_maxima',\n",
       "       'ritmo_medio', 'ritmo_optimo', 'ascenso_total', 'descenso_total',\n",
       "       'longitud_media_de_zancada', 'relacion_vertical_media',\n",
       "       'oscilacion_vertical_media', 'tiempo_medio_de_contacto_con_el_suelo',\n",
       "       'training_stress_score®', 'dificultad', 'fluidez', 'swolf_medio',\n",
       "       'velocidad_media_de_palada', 'repeticiones_totales', 'descompresion',\n",
       "       'mejor_tiempo_de_vuelta', 'numero_de_vueltas', 'temperatura_maxima',\n",
       "       'ritmo_respiratorio_medio', 'ritmo_minimo_de_respiracion',\n",
       "       'ritmo_maximo_de_respiracion', 'cambio_en_estres',\n",
       "       'inicio_del_periodo_de_estres', 'fin_del_periodo_de_estres',\n",
       "       'estres_medio', 'estres_maximo', 'tiempo_en_movimiento',\n",
       "       'tiempo_transcurrido', 'altura_minima', 'altura_maxima'],\n",
       "      dtype='object')"
      ]
     },
     "execution_count": 8,
     "metadata": {},
     "output_type": "execute_result"
    }
   ],
   "source": [
    "act.columns = [to_snake_case(col) for col in act.columns]\n",
    "act.columns"
   ]
  },
  {
   "cell_type": "markdown",
   "id": "e0f83ed9-515b-4681-889a-75e15ef566b6",
   "metadata": {},
   "source": [
    "### Recorto el dataframe\n",
    "\n",
    "Veamos ahora que tipo de actividades hay registradas y que datos son interesantes."
   ]
  },
  {
   "cell_type": "code",
   "execution_count": 9,
   "id": "851fe29b-6afb-4c94-8b2e-06e6ec6f45bf",
   "metadata": {},
   "outputs": [
    {
     "data": {
      "text/plain": [
       "tipo_de_actividad\n",
       "Carrera                   219\n",
       "Ciclismo                    1\n",
       "Entrenamiento en cinta      1\n",
       "Trabajo de respiración      1\n",
       "Name: count, dtype: int64"
      ]
     },
     "execution_count": 9,
     "metadata": {},
     "output_type": "execute_result"
    }
   ],
   "source": [
    "act.tipo_de_actividad.value_counts()"
   ]
  },
  {
   "cell_type": "markdown",
   "id": "09610e71-f131-4172-9e2d-d3802c6e0c7a",
   "metadata": {},
   "source": [
    "Voy a quedarme solo con las carreras."
   ]
  },
  {
   "cell_type": "code",
   "execution_count": 10,
   "id": "a2143d64-cd4a-4bae-834d-11c0e9963fdc",
   "metadata": {},
   "outputs": [],
   "source": [
    "run = act[act.tipo_de_actividad == \"Carrera\"]"
   ]
  },
  {
   "cell_type": "code",
   "execution_count": 11,
   "id": "7d098b58-f781-4acc-a1d2-c60dcdfb16ae",
   "metadata": {},
   "outputs": [
    {
     "data": {
      "text/plain": [
       "tipo_de_actividad                                                      Carrera\n",
       "fecha                                                      2024-07-31 19:23:59\n",
       "favorito                                                                 False\n",
       "titulo                                   Ciudad de Buenos Aires - 3x1k /3' Vo2\n",
       "distancia                                                                 9.02\n",
       "calorias                                                                   717\n",
       "tiempo                                                                00:50:41\n",
       "frecuencia_cardiaca_media                                                  166\n",
       "fc_maxima                                                                  195\n",
       "cadencia_de_carrera_media                                                  165\n",
       "cadencia_de_carrera_maxima                                                 248\n",
       "ritmo_medio                                                               5:37\n",
       "ritmo_optimo                                                              3:33\n",
       "ascenso_total                                                               75\n",
       "descenso_total                                                              66\n",
       "longitud_media_de_zancada                                                 1.07\n",
       "relacion_vertical_media                                                    NaN\n",
       "oscilacion_vertical_media                                                  NaN\n",
       "tiempo_medio_de_contacto_con_el_suelo                                      NaN\n",
       "training_stress_score®                                                     0.0\n",
       "dificultad                                                                 NaN\n",
       "fluidez                                                                    NaN\n",
       "swolf_medio                                                                NaN\n",
       "velocidad_media_de_palada                                                  NaN\n",
       "repeticiones_totales                                                       NaN\n",
       "descompresion                                                               No\n",
       "mejor_tiempo_de_vuelta                                                00:00:15\n",
       "numero_de_vueltas                                                           19\n",
       "temperatura_maxima                                                         NaN\n",
       "ritmo_respiratorio_medio                                                    --\n",
       "ritmo_minimo_de_respiracion                                                 --\n",
       "ritmo_maximo_de_respiracion                                                 --\n",
       "cambio_en_estres                                                            --\n",
       "inicio_del_periodo_de_estres                                                --\n",
       "fin_del_periodo_de_estres                                                   --\n",
       "estres_medio                                                                --\n",
       "estres_maximo                                                               --\n",
       "tiempo_en_movimiento                                                  00:49:51\n",
       "tiempo_transcurrido                                                   00:52:26\n",
       "altura_minima                                                                4\n",
       "altura_maxima                                                               41\n",
       "Name: 0, dtype: object"
      ]
     },
     "execution_count": 11,
     "metadata": {},
     "output_type": "execute_result"
    }
   ],
   "source": [
    "run.iloc[0] # Inspecciono un registro para ver que datos trae."
   ]
  },
  {
   "cell_type": "markdown",
   "id": "19cec80f-cac1-4e56-baf7-729c558e7be6",
   "metadata": {},
   "source": [
    "Muchas columnas estan repletas de NaN, afortunadamente la mayoria no son de interes (salvo dificultad) por lo que las voy a borrar.\n",
    "\n",
    "\n",
    "Me armo un array con los indices de las columnas que quiero mantener."
   ]
  },
  {
   "cell_type": "code",
   "execution_count": 12,
   "id": "9fa2456f-6817-423b-a73d-7eef61c2f717",
   "metadata": {},
   "outputs": [
    {
     "name": "stdout",
     "output_type": "stream",
     "text": [
      "0 tipo_de_actividad\n",
      "1 fecha\n",
      "2 favorito\n",
      "3 titulo\n",
      "4 distancia\n",
      "5 calorias\n",
      "6 tiempo\n",
      "7 frecuencia_cardiaca_media\n",
      "8 fc_maxima\n",
      "9 cadencia_de_carrera_media\n",
      "10 cadencia_de_carrera_maxima\n",
      "11 ritmo_medio\n",
      "12 ritmo_optimo\n",
      "13 ascenso_total\n",
      "14 descenso_total\n",
      "15 longitud_media_de_zancada\n",
      "16 relacion_vertical_media\n",
      "17 oscilacion_vertical_media\n",
      "18 tiempo_medio_de_contacto_con_el_suelo\n",
      "19 training_stress_score®\n",
      "20 dificultad\n",
      "21 fluidez\n",
      "22 swolf_medio\n",
      "23 velocidad_media_de_palada\n",
      "24 repeticiones_totales\n",
      "25 descompresion\n",
      "26 mejor_tiempo_de_vuelta\n",
      "27 numero_de_vueltas\n",
      "28 temperatura_maxima\n",
      "29 ritmo_respiratorio_medio\n",
      "30 ritmo_minimo_de_respiracion\n",
      "31 ritmo_maximo_de_respiracion\n",
      "32 cambio_en_estres\n",
      "33 inicio_del_periodo_de_estres\n",
      "34 fin_del_periodo_de_estres\n",
      "35 estres_medio\n",
      "36 estres_maximo\n",
      "37 tiempo_en_movimiento\n",
      "38 tiempo_transcurrido\n",
      "39 altura_minima\n",
      "40 altura_maxima\n"
     ]
    }
   ],
   "source": [
    "for index, colname in enumerate(act.columns):\n",
    "    print(index, colname)"
   ]
  },
  {
   "cell_type": "code",
   "execution_count": 13,
   "id": "556e41f5-0d8b-4cfa-bdb2-1f9712e961e7",
   "metadata": {},
   "outputs": [
    {
     "data": {
      "text/plain": [
       "array(['fecha', 'titulo', 'distancia', 'calorias', 'tiempo',\n",
       "       'frecuencia_cardiaca_media', 'fc_maxima', 'ritmo_medio',\n",
       "       'ascenso_total', 'descenso_total', 'altura_minima',\n",
       "       'altura_maxima'], dtype=object)"
      ]
     },
     "execution_count": 13,
     "metadata": {},
     "output_type": "execute_result"
    }
   ],
   "source": [
    "indices = np.array((1,3,4,5,6,7,8,11,13,14,39,40))\n",
    "act.columns.values[indices]"
   ]
  },
  {
   "cell_type": "code",
   "execution_count": 14,
   "id": "dbcb9c1a-fe58-494f-b5b1-545ec3373e5d",
   "metadata": {},
   "outputs": [
    {
     "data": {
      "text/plain": [
       "(219, 12)"
      ]
     },
     "execution_count": 14,
     "metadata": {},
     "output_type": "execute_result"
    }
   ],
   "source": [
    "run = run[run.columns.values[indices]]\n",
    "run.shape"
   ]
  },
  {
   "cell_type": "markdown",
   "id": "c6ffeb9d-93ce-44af-b25a-e36baadc5f55",
   "metadata": {},
   "source": [
    "Pasamos de 41 columnas a 12. Y de 222 actividades a 219."
   ]
  },
  {
   "cell_type": "markdown",
   "id": "afc7a636-5fe5-4a16-88e7-df65cdf7565e",
   "metadata": {},
   "source": [
    "### Transformo los tipos de datos\n",
    "\n",
    "Veamos ahora que tipo de datos se almacenan en estas columnas."
   ]
  },
  {
   "cell_type": "code",
   "execution_count": 15,
   "id": "ef5c8d25-6bab-46a9-8021-c543683b5ef0",
   "metadata": {
    "scrolled": true
   },
   "outputs": [
    {
     "data": {
      "text/plain": [
       "fecha                        object\n",
       "titulo                       object\n",
       "distancia                    object\n",
       "calorias                     object\n",
       "tiempo                       object\n",
       "frecuencia_cardiaca_media     int64\n",
       "fc_maxima                     int64\n",
       "ritmo_medio                  object\n",
       "ascenso_total                object\n",
       "descenso_total               object\n",
       "altura_minima                object\n",
       "altura_maxima                object\n",
       "dtype: object"
      ]
     },
     "execution_count": 15,
     "metadata": {},
     "output_type": "execute_result"
    }
   ],
   "source": [
    "run.dtypes"
   ]
  },
  {
   "cell_type": "markdown",
   "id": "57c37233-8413-420d-8ef3-3f99923a10be",
   "metadata": {},
   "source": [
    "Tengo que transformar varios tipos para trabajarlos mas facil.\n",
    "\n",
    " - A date --> fecha\n",
    " - A time --> tiempo, ritmo_medio, tiempo_en_movimiento, tiempo_transcurrido\n",
    " - A float/int --> distancia, calorias, ascenso_total, descenso_total, altura_minimia, altura_maxima\n",
    "\n",
    "Arranco por la fecha. Para trabajar con fechas ~importo datetime~ uso el tipo de dato datetime de pandas."
   ]
  },
  {
   "cell_type": "code",
   "execution_count": 16,
   "id": "2fbf47d5-bdef-42f4-9674-5ae81fc7f38d",
   "metadata": {
    "scrolled": true
   },
   "outputs": [
    {
     "data": {
      "text/plain": [
       "0     2024-07-31 19:23:59\n",
       "1     2024-07-26 18:57:16\n",
       "2     2024-07-24 18:12:00\n",
       "3     2024-07-21 19:04:20\n",
       "4     2024-07-19 17:31:37\n",
       "              ...        \n",
       "217   2023-02-16 19:34:51\n",
       "218   2023-02-14 20:21:18\n",
       "219   2023-02-11 20:23:02\n",
       "220   2023-02-09 19:32:05\n",
       "221   2023-02-07 20:04:40\n",
       "Name: fecha, Length: 219, dtype: datetime64[ns]"
      ]
     },
     "execution_count": 16,
     "metadata": {},
     "output_type": "execute_result"
    }
   ],
   "source": [
    "run.fecha = pd.to_datetime(run.fecha, format=\"%Y-%m-%d %H:%M:%S\")\n",
    "run.fecha"
   ]
  },
  {
   "cell_type": "markdown",
   "id": "6d8bdec7-3b32-401c-8454-225855117dbc",
   "metadata": {},
   "source": [
    "Algo que podemos hacer ahora es crear columnas para anio, mes y dia. Nos valemos de la fecha para ello."
   ]
  },
  {
   "cell_type": "code",
   "execution_count": 17,
   "id": "d6f4831c-df89-4f4d-bd18-dcd675ec37aa",
   "metadata": {},
   "outputs": [],
   "source": [
    "run['anio'] = run.fecha.apply(lambda x: x.year)\n",
    "run['mes'] = run.fecha.apply(lambda x: x.month)\n",
    "run['dia'] = run.fecha.apply(lambda x: x.day)"
   ]
  },
  {
   "cell_type": "markdown",
   "id": "3101694a-f6fd-46b0-b3e0-561f07ac86cc",
   "metadata": {},
   "source": [
    "Tambien agrego el dia de la semana en que fue el entrenamiento. Primero hay que sacar que dia fue cuando se realizo el entrenamiento. Como tenemos la fecha en datetime podemos usar el metodo **weekday** para ver que dia de la semana fue. Vienen en enteros arrancando por 0-Lunes,1-Martes,etc.."
   ]
  },
  {
   "cell_type": "code",
   "execution_count": 18,
   "id": "4b68e3e1-d51f-4919-836a-216c5ee591fc",
   "metadata": {},
   "outputs": [],
   "source": [
    "run['dia_semana'] = run.fecha.apply(lambda f: f.weekday())"
   ]
  },
  {
   "cell_type": "code",
   "execution_count": 19,
   "id": "5444c838-e9c2-4497-94a9-51ec6c710b2e",
   "metadata": {},
   "outputs": [
    {
     "data": {
      "text/html": [
       "<div>\n",
       "<style scoped>\n",
       "    .dataframe tbody tr th:only-of-type {\n",
       "        vertical-align: middle;\n",
       "    }\n",
       "\n",
       "    .dataframe tbody tr th {\n",
       "        vertical-align: top;\n",
       "    }\n",
       "\n",
       "    .dataframe thead th {\n",
       "        text-align: right;\n",
       "    }\n",
       "</style>\n",
       "<table border=\"1\" class=\"dataframe\">\n",
       "  <thead>\n",
       "    <tr style=\"text-align: right;\">\n",
       "      <th></th>\n",
       "      <th>fecha</th>\n",
       "      <th>anio</th>\n",
       "      <th>mes</th>\n",
       "      <th>dia</th>\n",
       "      <th>dia_semana</th>\n",
       "    </tr>\n",
       "  </thead>\n",
       "  <tbody>\n",
       "    <tr>\n",
       "      <th>187</th>\n",
       "      <td>2023-05-30 15:49:25</td>\n",
       "      <td>2023</td>\n",
       "      <td>5</td>\n",
       "      <td>30</td>\n",
       "      <td>1</td>\n",
       "    </tr>\n",
       "    <tr>\n",
       "      <th>23</th>\n",
       "      <td>2024-06-05 18:50:30</td>\n",
       "      <td>2024</td>\n",
       "      <td>6</td>\n",
       "      <td>5</td>\n",
       "      <td>2</td>\n",
       "    </tr>\n",
       "    <tr>\n",
       "      <th>44</th>\n",
       "      <td>2024-04-07 18:09:45</td>\n",
       "      <td>2024</td>\n",
       "      <td>4</td>\n",
       "      <td>7</td>\n",
       "      <td>6</td>\n",
       "    </tr>\n",
       "    <tr>\n",
       "      <th>15</th>\n",
       "      <td>2024-06-23 16:09:09</td>\n",
       "      <td>2024</td>\n",
       "      <td>6</td>\n",
       "      <td>23</td>\n",
       "      <td>6</td>\n",
       "    </tr>\n",
       "    <tr>\n",
       "      <th>85</th>\n",
       "      <td>2023-12-27 19:18:44</td>\n",
       "      <td>2023</td>\n",
       "      <td>12</td>\n",
       "      <td>27</td>\n",
       "      <td>2</td>\n",
       "    </tr>\n",
       "  </tbody>\n",
       "</table>\n",
       "</div>"
      ],
      "text/plain": [
       "                  fecha  anio  mes  dia  dia_semana\n",
       "187 2023-05-30 15:49:25  2023    5   30           1\n",
       "23  2024-06-05 18:50:30  2024    6    5           2\n",
       "44  2024-04-07 18:09:45  2024    4    7           6\n",
       "15  2024-06-23 16:09:09  2024    6   23           6\n",
       "85  2023-12-27 19:18:44  2023   12   27           2"
      ]
     },
     "execution_count": 19,
     "metadata": {},
     "output_type": "execute_result"
    }
   ],
   "source": [
    "run[[\"fecha\",\"anio\",\"mes\",\"dia\",'dia_semana']].sample(5)"
   ]
  },
  {
   "cell_type": "markdown",
   "id": "ff490527-3ccd-4ac9-bff9-9461d486b590",
   "metadata": {},
   "source": [
    "Sigo con los tiempos, el metodo es el mismo solo que ahora me quedo con el time. Si quiero convertir usando el formato en el que vienen los datos, HH:MM:SS, me arroja error. Por lo que se lee del error es que hay algun registro mal formateado, le sobran datos al parsear:\n",
    "\n",
    "`ValueError: unconverted data remains when parsing with format \"%H:%M:%S\": \".1\", at position 64. You might want to try`..\n",
    "\n",
    "Si los datos vienen en formato HH:MM:SS, podemos filtrar por alguna cadena de longitud mayor a 8. Creo una mascara booleana para obtener los registros con longitud mayor a 8 y filtro con ella para arreglar el error."
   ]
  },
  {
   "cell_type": "code",
   "execution_count": 20,
   "id": "c9ac82e0-5baa-463c-9494-4fcd3ee0fcc7",
   "metadata": {},
   "outputs": [
    {
     "name": "stdout",
     "output_type": "stream",
     "text": [
      "1\n",
      "64    00:06:19.1\n",
      "Name: tiempo, dtype: object\n"
     ]
    }
   ],
   "source": [
    "# pd.to_datetime(run.tiempo, format = \"%H:%M:%S\").dt.time # arroja error nombrado anteriormente.\n",
    "mask = run.tiempo.apply(len) > 8\n",
    "print(mask.sum())\n",
    "print(run.loc[mask].tiempo)\n",
    "# La arreglo, le saco lo que sobra.\n",
    "run.loc[mask,\"tiempo\"] = \"00:06:19\""
   ]
  },
  {
   "cell_type": "markdown",
   "id": "2bc65346-d9c1-4d77-98e6-2634ff911e41",
   "metadata": {},
   "source": [
    "Ahora si convierto. Como esto me va a cambiar el tipo de dato voy a agregarlo en una nueva columna. Este tipo, timedelta, es mas comodo para trabajar con tiempos."
   ]
  },
  {
   "cell_type": "code",
   "execution_count": 21,
   "id": "436ed142-d955-4d6c-aa0b-d93722edc730",
   "metadata": {},
   "outputs": [],
   "source": [
    "run[\"tiempo_timedelta\"] = pd.to_timedelta(run.tiempo)"
   ]
  },
  {
   "cell_type": "markdown",
   "id": "0ee95972-ac18-4cde-8cdc-551907b15867",
   "metadata": {},
   "source": [
    "Voy a hacer lo mismo con ritmo medio. Si quiero pasarlo a timedelta me pide que tenga formato HH:MM:SS. Me estan faltando HH:M, que son todos 0."
   ]
  },
  {
   "cell_type": "code",
   "execution_count": 22,
   "id": "83dca82f-994f-4879-9c07-c837b5451aa3",
   "metadata": {},
   "outputs": [
    {
     "data": {
      "text/plain": [
       "0     0 days 00:05:37\n",
       "1     0 days 00:05:56\n",
       "2     0 days 00:05:50\n",
       "3     0 days 00:05:48\n",
       "4     0 days 00:05:15\n",
       "            ...      \n",
       "217   0 days 00:06:02\n",
       "218   0 days 00:06:58\n",
       "219   0 days 00:06:24\n",
       "220   0 days 00:06:25\n",
       "221   0 days 00:05:21\n",
       "Name: ritmo_medio_timedelta, Length: 219, dtype: timedelta64[ns]"
      ]
     },
     "execution_count": 22,
     "metadata": {},
     "output_type": "execute_result"
    }
   ],
   "source": [
    "# Agrego 00:0 a cada str para converitr.\n",
    "run['ritmo_medio_timedelta'] = pd.to_timedelta('00:0' + run.ritmo_medio)\n",
    "run.ritmo_medio_timedelta"
   ]
  },
  {
   "cell_type": "markdown",
   "id": "7277fbba-c279-4291-b156-5484c82b237a",
   "metadata": {},
   "source": [
    "Ahora convierto a enteros o flotantes. Las columnas a transformar eran:\n",
    "\n",
    "distancia, calorias, ascenso_total, descenso_total, altura_minimia, altura_maxima."
   ]
  },
  {
   "cell_type": "code",
   "execution_count": 23,
   "id": "078dffa4-ea41-425f-bb00-c92cde329680",
   "metadata": {},
   "outputs": [],
   "source": [
    "run.distancia = run.distancia.apply(float)\n",
    "run.ascenso_total = run.ascenso_total.apply(int)\n",
    "run.altura_minima = run.altura_minima.apply(int)\n",
    "run.altura_maxima = run.altura_maxima.apply(int)"
   ]
  },
  {
   "cell_type": "markdown",
   "id": "7fad6aa6-bef6-437e-97a8-9f58c8ae7296",
   "metadata": {},
   "source": [
    "Y las siguientes dos arrojan errores. Ambas por errores en los datos.\n",
    "\n",
    "- run.descenso_total.apply(float) --> ValueError: could not convert string to float: '--'\n",
    "- run.calorias.apply(int) --> ValueError: invalid literal for int() with base 10: '1,235'"
   ]
  },
  {
   "cell_type": "code",
   "execution_count": 24,
   "id": "29b0d39d-6538-454f-b795-29a160a6a96e",
   "metadata": {
    "scrolled": true
   },
   "outputs": [
    {
     "data": {
      "text/html": [
       "<div>\n",
       "<style scoped>\n",
       "    .dataframe tbody tr th:only-of-type {\n",
       "        vertical-align: middle;\n",
       "    }\n",
       "\n",
       "    .dataframe tbody tr th {\n",
       "        vertical-align: top;\n",
       "    }\n",
       "\n",
       "    .dataframe thead th {\n",
       "        text-align: right;\n",
       "    }\n",
       "</style>\n",
       "<table border=\"1\" class=\"dataframe\">\n",
       "  <thead>\n",
       "    <tr style=\"text-align: right;\">\n",
       "      <th></th>\n",
       "      <th>fecha</th>\n",
       "      <th>titulo</th>\n",
       "      <th>distancia</th>\n",
       "      <th>calorias</th>\n",
       "      <th>tiempo</th>\n",
       "      <th>frecuencia_cardiaca_media</th>\n",
       "      <th>fc_maxima</th>\n",
       "      <th>ritmo_medio</th>\n",
       "      <th>ascenso_total</th>\n",
       "      <th>descenso_total</th>\n",
       "      <th>altura_minima</th>\n",
       "      <th>altura_maxima</th>\n",
       "      <th>anio</th>\n",
       "      <th>mes</th>\n",
       "      <th>dia</th>\n",
       "      <th>dia_semana</th>\n",
       "      <th>tiempo_timedelta</th>\n",
       "      <th>ritmo_medio_timedelta</th>\n",
       "    </tr>\n",
       "  </thead>\n",
       "  <tbody>\n",
       "    <tr>\n",
       "      <th>221</th>\n",
       "      <td>2023-02-07 20:04:40</td>\n",
       "      <td>Junín - Benchmark Run</td>\n",
       "      <td>1.68</td>\n",
       "      <td>130</td>\n",
       "      <td>00:09:00</td>\n",
       "      <td>178</td>\n",
       "      <td>190</td>\n",
       "      <td>5:21</td>\n",
       "      <td>2</td>\n",
       "      <td>--</td>\n",
       "      <td>68</td>\n",
       "      <td>76</td>\n",
       "      <td>2023</td>\n",
       "      <td>2</td>\n",
       "      <td>7</td>\n",
       "      <td>1</td>\n",
       "      <td>0 days 00:09:00</td>\n",
       "      <td>0 days 00:05:21</td>\n",
       "    </tr>\n",
       "  </tbody>\n",
       "</table>\n",
       "</div>"
      ],
      "text/plain": [
       "                  fecha                 titulo  distancia calorias    tiempo  \\\n",
       "221 2023-02-07 20:04:40  Junín - Benchmark Run       1.68      130  00:09:00   \n",
       "\n",
       "     frecuencia_cardiaca_media  fc_maxima ritmo_medio  ascenso_total  \\\n",
       "221                        178        190        5:21              2   \n",
       "\n",
       "    descenso_total  altura_minima  altura_maxima  anio  mes  dia  dia_semana  \\\n",
       "221             --             68             76  2023    2    7           1   \n",
       "\n",
       "    tiempo_timedelta ritmo_medio_timedelta  \n",
       "221  0 days 00:09:00       0 days 00:05:21  "
      ]
     },
     "execution_count": 24,
     "metadata": {},
     "output_type": "execute_result"
    }
   ],
   "source": [
    "# run.descenso_total.apply(float) \n",
    "mask = run.descenso_total == \"--\"\n",
    "run[mask]"
   ]
  },
  {
   "cell_type": "code",
   "execution_count": 25,
   "id": "f86826b2-7bef-4b0c-85ee-7f24e7b5bd81",
   "metadata": {},
   "outputs": [],
   "source": [
    "run.loc[mask,\"descenso_total\"] = \"0\"\n",
    "run['descenso_total'] = run.descenso_total.apply(float)"
   ]
  },
  {
   "cell_type": "code",
   "execution_count": 26,
   "id": "58ec1520-e3c7-4c33-85dc-7cd632a75725",
   "metadata": {
    "scrolled": true
   },
   "outputs": [
    {
     "data": {
      "text/plain": [
       "fecha                         datetime64[ns]\n",
       "titulo                                object\n",
       "distancia                            float64\n",
       "calorias                               int64\n",
       "tiempo                                object\n",
       "frecuencia_cardiaca_media              int64\n",
       "fc_maxima                              int64\n",
       "ritmo_medio                           object\n",
       "ascenso_total                          int64\n",
       "descenso_total                       float64\n",
       "altura_minima                          int64\n",
       "altura_maxima                          int64\n",
       "anio                                   int64\n",
       "mes                                    int64\n",
       "dia                                    int64\n",
       "dia_semana                             int64\n",
       "tiempo_timedelta             timedelta64[ns]\n",
       "ritmo_medio_timedelta        timedelta64[ns]\n",
       "dtype: object"
      ]
     },
     "execution_count": 26,
     "metadata": {},
     "output_type": "execute_result"
    }
   ],
   "source": [
    "# run.calorias.apply(int) \n",
    "run['calorias'] = run.calorias.apply(lambda x: int(x.replace(\",\",\"\")))\n",
    "run.dtypes"
   ]
  },
  {
   "cell_type": "markdown",
   "id": "5a5a448f-32c2-45fe-9fe9-12ff45643adc",
   "metadata": {},
   "source": [
    "Y finalmente, antes de visualizar, busco si hay valores faltantes."
   ]
  },
  {
   "cell_type": "code",
   "execution_count": 27,
   "id": "ee0fef1c-1312-4fe1-92b9-193284b12727",
   "metadata": {},
   "outputs": [
    {
     "data": {
      "text/plain": [
       "np.int64(0)"
      ]
     },
     "execution_count": 27,
     "metadata": {},
     "output_type": "execute_result"
    }
   ],
   "source": [
    "run.isna().sum().sum()"
   ]
  },
  {
   "cell_type": "markdown",
   "id": "32bbb2da-d4dc-4505-9d9c-e564acaf27e7",
   "metadata": {},
   "source": [
    "## Visualizacion\n",
    "\n",
    "\n",
    "Ahora si. Podemos visualizar los datos. Comenzamos visualizando la cantidad de entrenamientos por anio."
   ]
  },
  {
   "cell_type": "markdown",
   "id": "ac095463-cd77-4ca4-950e-62a2131ae666",
   "metadata": {
    "jp-MarkdownHeadingCollapsed": true
   },
   "source": [
    "### Cantidad de entrenamientos por anio"
   ]
  },
  {
   "cell_type": "markdown",
   "id": "7791c3c1-f520-4561-8d2f-d0f3a0881bb7",
   "metadata": {},
   "source": [
    "#### Bar plot\n",
    "\n",
    "Cantidad de entrenamientos por anio"
   ]
  },
  {
   "cell_type": "code",
   "execution_count": 28,
   "id": "ccc2c400-2531-42f9-8e80-58f0ac55b757",
   "metadata": {
    "scrolled": true
   },
   "outputs": [
    {
     "data": {
      "text/plain": [
       "anio\n",
       "2023    134\n",
       "2024     85\n",
       "Name: count, dtype: int64"
      ]
     },
     "execution_count": 28,
     "metadata": {},
     "output_type": "execute_result"
    }
   ],
   "source": [
    "runs_by_year = run.anio.value_counts(dropna=False)\n",
    "runs_by_year"
   ]
  },
  {
   "cell_type": "code",
   "execution_count": 29,
   "id": "642e5f94-9225-40d4-b218-95c616c8289d",
   "metadata": {},
   "outputs": [
    {
     "name": "stdout",
     "output_type": "stream",
     "text": [
      "Hay una diferencia de 49 entrenamientos entre 2023 y 2024\n"
     ]
    }
   ],
   "source": [
    "print(f'Hay una diferencia de {runs_by_year[2023] - runs_by_year[2024]} entrenamientos entre 2023 y 2024')"
   ]
  },
  {
   "cell_type": "code",
   "execution_count": 30,
   "id": "f1953a84-f340-4a12-8c88-e1e4b0adf084",
   "metadata": {
    "scrolled": true
   },
   "outputs": [
    {
     "data": {
      "image/png": "[encoded data removed]",
      "text/plain": [
       "<Figure size 640x480 with 1 Axes>"
      ]
     },
     "metadata": {},
     "output_type": "display_data"
    }
   ],
   "source": [
    "years=['2023','2024']\n",
    "color_dict = {2023:'orange',2024:'blue'}\n",
    "\n",
    "fig, ax = plt.subplots()\n",
    "\n",
    "ax.bar(x=years, height = runs_by_year.values, color=color_dict.values(), label = color_dict.keys())\n",
    "ax.set_title(\"Cantidad de entrenamientos por anio\")\n",
    "ax.set_xlabel(\"Anio\")\n",
    "ax.set_ylabel(\"Cantidad\")\n",
    "ax.legend()\n",
    "plt.show()"
   ]
  },
  {
   "cell_type": "markdown",
   "id": "28b54861-09e2-411b-ac9b-aa1f8e896cdc",
   "metadata": {},
   "source": [
    "#### Pie chart\n",
    "\n",
    "Cantidad de entrenamientos por anio. Necesito los porcentajes del total para cada anio."
   ]
  },
  {
   "cell_type": "code",
   "execution_count": 31,
   "id": "c20069b1-6148-46de-b199-b82737f4b905",
   "metadata": {},
   "outputs": [
    {
     "name": "stdout",
     "output_type": "stream",
     "text": [
      "anio\n",
      "2023    61.2\n",
      "2024    38.8\n",
      "Name: count, dtype: float64\n"
     ]
    }
   ],
   "source": [
    "total_runs = run.shape[0]\n",
    "percentage_run_by_year = round(run.anio.value_counts() / total_runs,3) * 100\n",
    "print(percentage_run_by_year)"
   ]
  },
  {
   "cell_type": "code",
   "execution_count": 32,
   "id": "5c7a7185-c978-4474-a087-07d74f6bb69c",
   "metadata": {
    "scrolled": true
   },
   "outputs": [
    {
     "data": {
      "image/png": "[encoded data removed]",
      "text/plain": [
       "<Figure size 640x480 with 1 Axes>"
      ]
     },
     "metadata": {},
     "output_type": "display_data"
    }
   ],
   "source": [
    "sizes = percentage_run_by_year.values\n",
    "fig, ax = plt.subplots()\n",
    "ax.pie(sizes,labels = years,autopct='%1.1f%%', colors = color_dict.values())\n",
    "ax.set_title('Porcentaje cantidad de entrenamientos por anio')\n",
    "ax.legend()\n",
    "plt.show()"
   ]
  },
  {
   "cell_type": "markdown",
   "id": "4c6e0fcd-bef0-44eb-976b-1a2682e7a395",
   "metadata": {
    "jp-MarkdownHeadingCollapsed": true
   },
   "source": [
    "### Cantidad de entrenamientos por mes y anio.\n",
    "\n",
    "Para esto necesito indexar por mes y contar cuantos hubo en cada anio."
   ]
  },
  {
   "cell_type": "code",
   "execution_count": 33,
   "id": "085ccd11-d354-4af3-9685-fc8f24772b94",
   "metadata": {
    "scrolled": true
   },
   "outputs": [
    {
     "data": {
      "text/html": [
       "<div>\n",
       "<style scoped>\n",
       "    .dataframe tbody tr th:only-of-type {\n",
       "        vertical-align: middle;\n",
       "    }\n",
       "\n",
       "    .dataframe tbody tr th {\n",
       "        vertical-align: top;\n",
       "    }\n",
       "\n",
       "    .dataframe thead th {\n",
       "        text-align: right;\n",
       "    }\n",
       "</style>\n",
       "<table border=\"1\" class=\"dataframe\">\n",
       "  <thead>\n",
       "    <tr style=\"text-align: right;\">\n",
       "      <th>anio</th>\n",
       "      <th>2023</th>\n",
       "      <th>2024</th>\n",
       "    </tr>\n",
       "    <tr>\n",
       "      <th>mes</th>\n",
       "      <th></th>\n",
       "      <th></th>\n",
       "    </tr>\n",
       "  </thead>\n",
       "  <tbody>\n",
       "    <tr>\n",
       "      <th>1</th>\n",
       "      <td>0</td>\n",
       "      <td>11</td>\n",
       "    </tr>\n",
       "    <tr>\n",
       "      <th>2</th>\n",
       "      <td>10</td>\n",
       "      <td>14</td>\n",
       "    </tr>\n",
       "    <tr>\n",
       "      <th>3</th>\n",
       "      <td>12</td>\n",
       "      <td>14</td>\n",
       "    </tr>\n",
       "    <tr>\n",
       "      <th>4</th>\n",
       "      <td>8</td>\n",
       "      <td>10</td>\n",
       "    </tr>\n",
       "    <tr>\n",
       "      <th>5</th>\n",
       "      <td>3</td>\n",
       "      <td>11</td>\n",
       "    </tr>\n",
       "    <tr>\n",
       "      <th>6</th>\n",
       "      <td>17</td>\n",
       "      <td>13</td>\n",
       "    </tr>\n",
       "    <tr>\n",
       "      <th>7</th>\n",
       "      <td>17</td>\n",
       "      <td>12</td>\n",
       "    </tr>\n",
       "    <tr>\n",
       "      <th>8</th>\n",
       "      <td>17</td>\n",
       "      <td>0</td>\n",
       "    </tr>\n",
       "    <tr>\n",
       "      <th>9</th>\n",
       "      <td>12</td>\n",
       "      <td>0</td>\n",
       "    </tr>\n",
       "    <tr>\n",
       "      <th>10</th>\n",
       "      <td>13</td>\n",
       "      <td>0</td>\n",
       "    </tr>\n",
       "    <tr>\n",
       "      <th>11</th>\n",
       "      <td>12</td>\n",
       "      <td>0</td>\n",
       "    </tr>\n",
       "    <tr>\n",
       "      <th>12</th>\n",
       "      <td>13</td>\n",
       "      <td>0</td>\n",
       "    </tr>\n",
       "  </tbody>\n",
       "</table>\n",
       "</div>"
      ],
      "text/plain": [
       "anio  2023  2024\n",
       "mes             \n",
       "1        0    11\n",
       "2       10    14\n",
       "3       12    14\n",
       "4        8    10\n",
       "5        3    11\n",
       "6       17    13\n",
       "7       17    12\n",
       "8       17     0\n",
       "9       12     0\n",
       "10      13     0\n",
       "11      12     0\n",
       "12      13     0"
      ]
     },
     "execution_count": 33,
     "metadata": {},
     "output_type": "execute_result"
    }
   ],
   "source": [
    "run_by_month_year = run.pivot_table('titulo',index='mes',columns='anio', aggfunc=\"count\", fill_value=0)\n",
    "run_by_month_year"
   ]
  },
  {
   "cell_type": "code",
   "execution_count": 34,
   "id": "6e5f6dd5-81b1-493d-a85e-c5101766a4f5",
   "metadata": {},
   "outputs": [],
   "source": [
    "months_in_spanish = [\n",
    "    \"Enero\", \n",
    "    \"Febrero\", \n",
    "    \"Marzo\", \n",
    "    \"Abril\", \n",
    "    \"Mayo\", \n",
    "    \"Junio\", \n",
    "    \"Julio\", \n",
    "    \"Agosto\", \n",
    "    \"Septiembre\", \n",
    "    \"Octubre\", \n",
    "    \"Noviembre\", \n",
    "    \"Diciembre\"\n",
    "]"
   ]
  },
  {
   "cell_type": "code",
   "execution_count": 35,
   "id": "049203ad-6343-457a-b3f2-1c3206cb6511",
   "metadata": {
    "scrolled": true
   },
   "outputs": [
    {
     "data": {
      "image/png": "[encoded data removed]",
      "text/plain": [
       "<Figure size 640x480 with 1 Axes>"
      ]
     },
     "metadata": {},
     "output_type": "display_data"
    }
   ],
   "source": [
    "# Le cambio el indice que eran enteros.\n",
    "run_by_month_year.index = months_in_spanish\n",
    "run_by_month_year.plot.bar(stacked=True, rot=45, xlabel=\"Mes\", ylabel=\"Cantidad\", color = color_dict.values())\n",
    "plt.show()\n",
    "# Agregar labels"
   ]
  },
  {
   "cell_type": "markdown",
   "id": "13d1f505-7eaa-495d-8e6a-21967ca5618a",
   "metadata": {
    "jp-MarkdownHeadingCollapsed": true
   },
   "source": [
    "### Kilometros por anio\n",
    "\n",
    "\n",
    "Veamos cuantos kilometros corri a lo largo de cada anio. Agrupo los datos por anio y sumo las distancias."
   ]
  },
  {
   "cell_type": "code",
   "execution_count": 36,
   "id": "0da79b8e-d0eb-4f3a-b6c0-740653c9c284",
   "metadata": {
    "scrolled": true
   },
   "outputs": [
    {
     "data": {
      "text/plain": [
       "anio\n",
       "2023    1310.0\n",
       "2024     838.0\n",
       "Name: distancia, dtype: float64"
      ]
     },
     "execution_count": 36,
     "metadata": {},
     "output_type": "execute_result"
    }
   ],
   "source": [
    "kms_per_year = round(run.groupby('anio').aggregate({'distancia':'sum'}).distancia)\n",
    "kms_per_year"
   ]
  },
  {
   "cell_type": "code",
   "execution_count": 37,
   "id": "64d80585-abc4-4b6e-af04-47136691c429",
   "metadata": {},
   "outputs": [
    {
     "name": "stdout",
     "output_type": "stream",
     "text": [
      "Corri 472 kilometros mas en 2023 que en 2024\n"
     ]
    }
   ],
   "source": [
    "diff = kms_per_year.max() - kms_per_year.min()\n",
    "anio_max = kms_per_year.idxmax()\n",
    "anio_min = kms_per_year.idxmin()\n",
    "print(f'Corri {int(diff)} kilometros mas en {anio_max} que en {anio_min}')"
   ]
  },
  {
   "cell_type": "code",
   "execution_count": 38,
   "id": "c8d4d087-b667-480d-b20f-54c0b8c99d41",
   "metadata": {},
   "outputs": [
    {
     "name": "stdout",
     "output_type": "stream",
     "text": [
      "Esta diferencia se ve en los 49 entrenamientos que tengo de más en 2023\n"
     ]
    }
   ],
   "source": [
    "diff = runs_by_year.max() - runs_by_year.min()\n",
    "anio_max = runs_by_year.idxmax()\n",
    "anio_min = runs_by_year.idxmin()\n",
    "\n",
    "print(f'Esta diferencia se ve en los {diff} entrenamientos que tengo de más en {anio_max}')"
   ]
  },
  {
   "cell_type": "code",
   "execution_count": 39,
   "id": "8b87e297-86e7-47b8-93fb-034294c848d3",
   "metadata": {},
   "outputs": [
    {
     "data": {
      "image/png": "[encoded data removed]",
      "text/plain": [
       "<Figure size 640x480 with 1 Axes>"
      ]
     },
     "metadata": {},
     "output_type": "display_data"
    }
   ],
   "source": [
    "kms_per_year = round(run.groupby('anio').aggregate({'distancia':'sum'}).distancia)\n",
    "\n",
    "fig, ax = plt.subplots()\n",
    "\n",
    "for anio, kilometros in kms_per_year.items():\n",
    "    b = ax.bar(str(anio), kilometros, label = anio, color = color_dict[anio])\n",
    "    ax.bar_label(b, label_type='edge')\n",
    "ax.set_xlabel(\"Anio\")\n",
    "ax.set_ylabel(\"Kilometros\")\n",
    "ax.legend()\n",
    "plt.show()"
   ]
  },
  {
   "cell_type": "markdown",
   "id": "827b2a7b-0bdc-4ad6-83c4-0c9e2616d7a0",
   "metadata": {
    "jp-MarkdownHeadingCollapsed": true
   },
   "source": [
    "### Kilometros por mes y anio\n",
    "\n",
    "Y ahora veamos kilometros por mes y anio. Ahora en lugar de contar entrenamientos, sumo kilometros."
   ]
  },
  {
   "cell_type": "code",
   "execution_count": 40,
   "id": "efbd8189-02b9-4751-a4a3-68a0dd2f28cb",
   "metadata": {},
   "outputs": [
    {
     "data": {
      "text/html": [
       "<div>\n",
       "<style scoped>\n",
       "    .dataframe tbody tr th:only-of-type {\n",
       "        vertical-align: middle;\n",
       "    }\n",
       "\n",
       "    .dataframe tbody tr th {\n",
       "        vertical-align: top;\n",
       "    }\n",
       "\n",
       "    .dataframe thead th {\n",
       "        text-align: right;\n",
       "    }\n",
       "</style>\n",
       "<table border=\"1\" class=\"dataframe\">\n",
       "  <thead>\n",
       "    <tr style=\"text-align: right;\">\n",
       "      <th>anio</th>\n",
       "      <th>2023</th>\n",
       "      <th>2024</th>\n",
       "    </tr>\n",
       "    <tr>\n",
       "      <th>mes</th>\n",
       "      <th></th>\n",
       "      <th></th>\n",
       "    </tr>\n",
       "  </thead>\n",
       "  <tbody>\n",
       "    <tr>\n",
       "      <th>1</th>\n",
       "      <td>0.00</td>\n",
       "      <td>87.41</td>\n",
       "    </tr>\n",
       "    <tr>\n",
       "      <th>2</th>\n",
       "      <td>74.94</td>\n",
       "      <td>123.59</td>\n",
       "    </tr>\n",
       "    <tr>\n",
       "      <th>3</th>\n",
       "      <td>103.56</td>\n",
       "      <td>114.96</td>\n",
       "    </tr>\n",
       "    <tr>\n",
       "      <th>4</th>\n",
       "      <td>95.02</td>\n",
       "      <td>120.38</td>\n",
       "    </tr>\n",
       "    <tr>\n",
       "      <th>5</th>\n",
       "      <td>21.03</td>\n",
       "      <td>109.53</td>\n",
       "    </tr>\n",
       "    <tr>\n",
       "      <th>6</th>\n",
       "      <td>129.19</td>\n",
       "      <td>142.11</td>\n",
       "    </tr>\n",
       "    <tr>\n",
       "      <th>7</th>\n",
       "      <td>190.31</td>\n",
       "      <td>140.39</td>\n",
       "    </tr>\n",
       "    <tr>\n",
       "      <th>8</th>\n",
       "      <td>197.11</td>\n",
       "      <td>0.00</td>\n",
       "    </tr>\n",
       "    <tr>\n",
       "      <th>9</th>\n",
       "      <td>145.32</td>\n",
       "      <td>0.00</td>\n",
       "    </tr>\n",
       "    <tr>\n",
       "      <th>10</th>\n",
       "      <td>125.55</td>\n",
       "      <td>0.00</td>\n",
       "    </tr>\n",
       "    <tr>\n",
       "      <th>11</th>\n",
       "      <td>119.02</td>\n",
       "      <td>0.00</td>\n",
       "    </tr>\n",
       "    <tr>\n",
       "      <th>12</th>\n",
       "      <td>109.07</td>\n",
       "      <td>0.00</td>\n",
       "    </tr>\n",
       "  </tbody>\n",
       "</table>\n",
       "</div>"
      ],
      "text/plain": [
       "anio    2023    2024\n",
       "mes                 \n",
       "1       0.00   87.41\n",
       "2      74.94  123.59\n",
       "3     103.56  114.96\n",
       "4      95.02  120.38\n",
       "5      21.03  109.53\n",
       "6     129.19  142.11\n",
       "7     190.31  140.39\n",
       "8     197.11    0.00\n",
       "9     145.32    0.00\n",
       "10    125.55    0.00\n",
       "11    119.02    0.00\n",
       "12    109.07    0.00"
      ]
     },
     "execution_count": 40,
     "metadata": {},
     "output_type": "execute_result"
    }
   ],
   "source": [
    "kms_per_month_year = run.pivot_table('distancia', index = 'mes', columns = 'anio', aggfunc='sum', fill_value=0)\n",
    "kms_per_month_year"
   ]
  },
  {
   "cell_type": "code",
   "execution_count": 41,
   "id": "7c39bcf5-f1c3-4955-a6fb-89cc1674152b",
   "metadata": {},
   "outputs": [],
   "source": [
    "kms_per_month_year.index = months_in_spanish"
   ]
  },
  {
   "cell_type": "code",
   "execution_count": 42,
   "id": "7aaef7b0-2e13-4bc6-b743-b97bc583f0c7",
   "metadata": {},
   "outputs": [
    {
     "data": {
      "image/png": "[encoded data removed]",
      "text/plain": [
       "<Figure size 640x480 with 1 Axes>"
      ]
     },
     "metadata": {},
     "output_type": "display_data"
    }
   ],
   "source": [
    "kms_per_month_year.plot.bar(stacked=True, rot=45, xlabel=\"Mes\", ylabel=\"Kilometros\", color = color_dict.values())\n",
    "plt.show()\n",
    "# Agregar labels sobre las barras."
   ]
  },
  {
   "cell_type": "markdown",
   "id": "e47f2ffd-0128-48df-8f37-2f0f182b9220",
   "metadata": {},
   "source": [
    "Puedo hacerlo por separado.."
   ]
  },
  {
   "cell_type": "code",
   "execution_count": 43,
   "id": "cf8a90e9-955b-41d2-accf-0b6226e631bc",
   "metadata": {},
   "outputs": [],
   "source": [
    "kms_per_month_2023 = kms_per_month_year[2023]\n",
    "kms_per_month_2024 = kms_per_month_year[2024]"
   ]
  },
  {
   "cell_type": "code",
   "execution_count": 44,
   "id": "0d6f93a3-1ff2-4c5a-aff4-acef55c6f6a6",
   "metadata": {},
   "outputs": [
    {
     "data": {
      "image/png": "[encoded data removed]",
      "text/plain": [
       "<Figure size 640x480 with 2 Axes>"
      ]
     },
     "metadata": {},
     "output_type": "display_data"
    }
   ],
   "source": [
    "fig, ax = plt.subplots(2, sharex=True, sharey=True)\n",
    "\n",
    "fig.supylabel('Kilometros')\n",
    "fig.suptitle('Cantidad de kilometros por mes')\n",
    "\n",
    "ax[0].bar(x = kms_per_month_2024.index, height = kms_per_month_2024.values, color=color_dict[2023], label = '2024')\n",
    "ax[0].legend()\n",
    "\n",
    "ax[1].bar(x = kms_per_month_2024.index, height = kms_per_month_2023.values, color=color_dict[2024], label = '2023')\n",
    "ax[1].legend()\n",
    "ax[1].set_xticks(range(len(kms_per_month_2024.index)))\n",
    "ax[1].set_xticklabels(kms_per_month_2024.index,rotation=90, ha=\"right\")\n",
    "ax[1].set_xlabel('Mes')\n",
    "plt.show()"
   ]
  },
  {
   "cell_type": "code",
   "execution_count": 45,
   "id": "cda8a891-89e1-4f0b-9c09-5c407e83b165",
   "metadata": {},
   "outputs": [
    {
     "name": "stdout",
     "output_type": "stream",
     "text": [
      "- Enero de 2024 tiene 87 kilometros mas que Enero de 2023.\n",
      "- Febrero de 2024 tiene 48 kilometros mas que Febrero de 2023.\n",
      "- Marzo de 2024 tiene 11 kilometros mas que Marzo de 2023.\n",
      "- Abril de 2024 tiene 25 kilometros mas que Abril de 2023.\n",
      "- Mayo de 2024 tiene 88 kilometros mas que Mayo de 2023.\n",
      "- Junio de 2024 tiene 12 kilometros mas que Junio de 2023.\n",
      "- Julio de 2023 tiene 49 kilometros mas que Julio de 2024.\n",
      "- Agosto de 2023 tiene 197 kilometros mas que Agosto de 2024.\n",
      "- Septiembre de 2023 tiene 145 kilometros mas que Septiembre de 2024.\n",
      "- Octubre de 2023 tiene 125 kilometros mas que Octubre de 2024.\n",
      "- Noviembre de 2023 tiene 119 kilometros mas que Noviembre de 2024.\n",
      "- Diciembre de 2023 tiene 109 kilometros mas que Diciembre de 2024.\n"
     ]
    }
   ],
   "source": [
    "max_per_row = kms_per_month_year.max(axis=1)\n",
    "min_per_row = kms_per_month_year.min(axis=1)\n",
    "diff = max_per_row - min_per_row\n",
    "max_year_per_row = kms_per_month_year.idxmax(axis=1)\n",
    "min_year_per_row = kms_per_month_year.idxmin(axis=1)\n",
    "\n",
    "for month in kms_per_month_year.index:\n",
    "    print(f'- {month} de {max_year_per_row[month]} tiene {int(diff[month])} kilometros mas que {month} de {min_year_per_row[month]}.')"
   ]
  },
  {
   "cell_type": "markdown",
   "id": "c7667920-0191-4bb5-9490-7d29bfc28f7b",
   "metadata": {
    "jp-MarkdownHeadingCollapsed": true
   },
   "source": [
    "### Agosto 2023\n",
    "\n",
    "Veamos el mes de Agosto del anio 2023, que fue el mes con mas kilometros realizados."
   ]
  },
  {
   "cell_type": "code",
   "execution_count": 46,
   "id": "19a5d81e-f0e8-4d3c-9079-60ed4de141fc",
   "metadata": {
    "scrolled": true
   },
   "outputs": [
    {
     "data": {
      "text/html": [
       "<div>\n",
       "<style scoped>\n",
       "    .dataframe tbody tr th:only-of-type {\n",
       "        vertical-align: middle;\n",
       "    }\n",
       "\n",
       "    .dataframe tbody tr th {\n",
       "        vertical-align: top;\n",
       "    }\n",
       "\n",
       "    .dataframe thead th {\n",
       "        text-align: right;\n",
       "    }\n",
       "</style>\n",
       "<table border=\"1\" class=\"dataframe\">\n",
       "  <thead>\n",
       "    <tr style=\"text-align: right;\">\n",
       "      <th></th>\n",
       "      <th>fecha</th>\n",
       "      <th>titulo</th>\n",
       "      <th>distancia</th>\n",
       "      <th>calorias</th>\n",
       "      <th>tiempo</th>\n",
       "      <th>frecuencia_cardiaca_media</th>\n",
       "      <th>fc_maxima</th>\n",
       "      <th>ritmo_medio</th>\n",
       "      <th>ascenso_total</th>\n",
       "      <th>descenso_total</th>\n",
       "      <th>altura_minima</th>\n",
       "      <th>altura_maxima</th>\n",
       "      <th>anio</th>\n",
       "      <th>mes</th>\n",
       "      <th>dia</th>\n",
       "      <th>dia_semana</th>\n",
       "      <th>tiempo_timedelta</th>\n",
       "      <th>ritmo_medio_timedelta</th>\n",
       "    </tr>\n",
       "  </thead>\n",
       "  <tbody>\n",
       "    <tr>\n",
       "      <th>136</th>\n",
       "      <td>2023-08-31 14:50:00</td>\n",
       "      <td>Ciudad de Buenos Aires - 40' reg + 4x20 prog</td>\n",
       "      <td>7.62</td>\n",
       "      <td>585</td>\n",
       "      <td>00:45:24</td>\n",
       "      <td>154</td>\n",
       "      <td>174</td>\n",
       "      <td>5:58</td>\n",
       "      <td>109</td>\n",
       "      <td>113.0</td>\n",
       "      <td>-2</td>\n",
       "      <td>35</td>\n",
       "      <td>2023</td>\n",
       "      <td>8</td>\n",
       "      <td>31</td>\n",
       "      <td>3</td>\n",
       "      <td>0 days 00:45:24</td>\n",
       "      <td>0 days 00:05:58</td>\n",
       "    </tr>\n",
       "    <tr>\n",
       "      <th>137</th>\n",
       "      <td>2023-08-29 08:13:31</td>\n",
       "      <td>Ciudad de Buenos Aires - 40' regenerativos</td>\n",
       "      <td>5.15</td>\n",
       "      <td>362</td>\n",
       "      <td>00:40:04</td>\n",
       "      <td>122</td>\n",
       "      <td>139</td>\n",
       "      <td>7:47</td>\n",
       "      <td>100</td>\n",
       "      <td>100.0</td>\n",
       "      <td>4</td>\n",
       "      <td>25</td>\n",
       "      <td>2023</td>\n",
       "      <td>8</td>\n",
       "      <td>29</td>\n",
       "      <td>1</td>\n",
       "      <td>0 days 00:40:04</td>\n",
       "      <td>0 days 00:07:47</td>\n",
       "    </tr>\n",
       "    <tr>\n",
       "      <th>138</th>\n",
       "      <td>2023-08-27 07:09:57</td>\n",
       "      <td>Ciudad de Buenos Aires Carrera</td>\n",
       "      <td>21.31</td>\n",
       "      <td>1543</td>\n",
       "      <td>01:52:41</td>\n",
       "      <td>161</td>\n",
       "      <td>185</td>\n",
       "      <td>5:17</td>\n",
       "      <td>336</td>\n",
       "      <td>336.0</td>\n",
       "      <td>-3</td>\n",
       "      <td>55</td>\n",
       "      <td>2023</td>\n",
       "      <td>8</td>\n",
       "      <td>27</td>\n",
       "      <td>6</td>\n",
       "      <td>0 days 01:52:41</td>\n",
       "      <td>0 days 00:05:17</td>\n",
       "    </tr>\n",
       "    <tr>\n",
       "      <th>139</th>\n",
       "      <td>2023-08-26 15:14:48</td>\n",
       "      <td>Ciudad de Buenos Aires - 15' reg + 4 prog</td>\n",
       "      <td>3.31</td>\n",
       "      <td>255</td>\n",
       "      <td>00:20:13</td>\n",
       "      <td>152</td>\n",
       "      <td>173</td>\n",
       "      <td>6:07</td>\n",
       "      <td>62</td>\n",
       "      <td>61.0</td>\n",
       "      <td>4</td>\n",
       "      <td>36</td>\n",
       "      <td>2023</td>\n",
       "      <td>8</td>\n",
       "      <td>26</td>\n",
       "      <td>5</td>\n",
       "      <td>0 days 00:20:13</td>\n",
       "      <td>0 days 00:06:07</td>\n",
       "    </tr>\n",
       "    <tr>\n",
       "      <th>140</th>\n",
       "      <td>2023-08-24 18:53:24</td>\n",
       "      <td>Ciudad de Buenos Aires - 30' suaves</td>\n",
       "      <td>4.91</td>\n",
       "      <td>358</td>\n",
       "      <td>00:30:02</td>\n",
       "      <td>147</td>\n",
       "      <td>167</td>\n",
       "      <td>6:07</td>\n",
       "      <td>99</td>\n",
       "      <td>103.0</td>\n",
       "      <td>5</td>\n",
       "      <td>39</td>\n",
       "      <td>2023</td>\n",
       "      <td>8</td>\n",
       "      <td>24</td>\n",
       "      <td>3</td>\n",
       "      <td>0 days 00:30:02</td>\n",
       "      <td>0 days 00:06:07</td>\n",
       "    </tr>\n",
       "    <tr>\n",
       "      <th>141</th>\n",
       "      <td>2023-08-23 15:38:43</td>\n",
       "      <td>Ciudad de Buenos Aires - 5x200 /30</td>\n",
       "      <td>6.14</td>\n",
       "      <td>473</td>\n",
       "      <td>00:35:52</td>\n",
       "      <td>159</td>\n",
       "      <td>181</td>\n",
       "      <td>5:50</td>\n",
       "      <td>98</td>\n",
       "      <td>100.0</td>\n",
       "      <td>4</td>\n",
       "      <td>36</td>\n",
       "      <td>2023</td>\n",
       "      <td>8</td>\n",
       "      <td>23</td>\n",
       "      <td>2</td>\n",
       "      <td>0 days 00:35:52</td>\n",
       "      <td>0 days 00:05:50</td>\n",
       "    </tr>\n",
       "    <tr>\n",
       "      <th>142</th>\n",
       "      <td>2023-08-21 19:32:22</td>\n",
       "      <td>Ciudad de Buenos Aires - 1x1k/1' + 2x500/30</td>\n",
       "      <td>6.23</td>\n",
       "      <td>460</td>\n",
       "      <td>00:35:47</td>\n",
       "      <td>156</td>\n",
       "      <td>186</td>\n",
       "      <td>5:45</td>\n",
       "      <td>102</td>\n",
       "      <td>91.0</td>\n",
       "      <td>6</td>\n",
       "      <td>38</td>\n",
       "      <td>2023</td>\n",
       "      <td>8</td>\n",
       "      <td>21</td>\n",
       "      <td>0</td>\n",
       "      <td>0 days 00:35:47</td>\n",
       "      <td>0 days 00:05:45</td>\n",
       "    </tr>\n",
       "    <tr>\n",
       "      <th>143</th>\n",
       "      <td>2023-08-19 15:52:19</td>\n",
       "      <td>Junín - 50' prog con cuestas</td>\n",
       "      <td>8.17</td>\n",
       "      <td>633</td>\n",
       "      <td>00:50:04</td>\n",
       "      <td>156</td>\n",
       "      <td>169</td>\n",
       "      <td>6:08</td>\n",
       "      <td>23</td>\n",
       "      <td>25.0</td>\n",
       "      <td>74</td>\n",
       "      <td>90</td>\n",
       "      <td>2023</td>\n",
       "      <td>8</td>\n",
       "      <td>19</td>\n",
       "      <td>5</td>\n",
       "      <td>0 days 00:50:04</td>\n",
       "      <td>0 days 00:06:08</td>\n",
       "    </tr>\n",
       "    <tr>\n",
       "      <th>144</th>\n",
       "      <td>2023-08-17 19:22:44</td>\n",
       "      <td>Ciudad de Buenos Aires - 12k cambios de ritmo</td>\n",
       "      <td>15.77</td>\n",
       "      <td>1237</td>\n",
       "      <td>01:26:18</td>\n",
       "      <td>177</td>\n",
       "      <td>194</td>\n",
       "      <td>5:28</td>\n",
       "      <td>181</td>\n",
       "      <td>186.0</td>\n",
       "      <td>1</td>\n",
       "      <td>38</td>\n",
       "      <td>2023</td>\n",
       "      <td>8</td>\n",
       "      <td>17</td>\n",
       "      <td>3</td>\n",
       "      <td>0 days 01:26:18</td>\n",
       "      <td>0 days 00:05:28</td>\n",
       "    </tr>\n",
       "    <tr>\n",
       "      <th>145</th>\n",
       "      <td>2023-08-15 19:04:14</td>\n",
       "      <td>Ciudad de Buenos Aires - 8x1k/1'</td>\n",
       "      <td>13.36</td>\n",
       "      <td>1039</td>\n",
       "      <td>01:14:23</td>\n",
       "      <td>172</td>\n",
       "      <td>192</td>\n",
       "      <td>5:34</td>\n",
       "      <td>178</td>\n",
       "      <td>184.0</td>\n",
       "      <td>4</td>\n",
       "      <td>38</td>\n",
       "      <td>2023</td>\n",
       "      <td>8</td>\n",
       "      <td>15</td>\n",
       "      <td>1</td>\n",
       "      <td>0 days 01:14:23</td>\n",
       "      <td>0 days 00:05:34</td>\n",
       "    </tr>\n",
       "    <tr>\n",
       "      <th>146</th>\n",
       "      <td>2023-08-12 15:24:50</td>\n",
       "      <td>Junín - 2h prog con cuestas</td>\n",
       "      <td>19.86</td>\n",
       "      <td>1487</td>\n",
       "      <td>02:00:04</td>\n",
       "      <td>155</td>\n",
       "      <td>168</td>\n",
       "      <td>6:03</td>\n",
       "      <td>111</td>\n",
       "      <td>119.0</td>\n",
       "      <td>68</td>\n",
       "      <td>95</td>\n",
       "      <td>2023</td>\n",
       "      <td>8</td>\n",
       "      <td>12</td>\n",
       "      <td>5</td>\n",
       "      <td>0 days 02:00:04</td>\n",
       "      <td>0 days 00:06:03</td>\n",
       "    </tr>\n",
       "    <tr>\n",
       "      <th>147</th>\n",
       "      <td>2023-08-10 19:02:37</td>\n",
       "      <td>Ciudad de Buenos Aires - 3x5k /1'</td>\n",
       "      <td>19.84</td>\n",
       "      <td>1467</td>\n",
       "      <td>01:50:01</td>\n",
       "      <td>165</td>\n",
       "      <td>182</td>\n",
       "      <td>5:33</td>\n",
       "      <td>227</td>\n",
       "      <td>229.0</td>\n",
       "      <td>-3</td>\n",
       "      <td>36</td>\n",
       "      <td>2023</td>\n",
       "      <td>8</td>\n",
       "      <td>10</td>\n",
       "      <td>3</td>\n",
       "      <td>0 days 01:50:01</td>\n",
       "      <td>0 days 00:05:33</td>\n",
       "    </tr>\n",
       "    <tr>\n",
       "      <th>148</th>\n",
       "      <td>2023-08-08 16:16:13</td>\n",
       "      <td>Ciudad de Buenos Aires - 50' z1 z2</td>\n",
       "      <td>7.73</td>\n",
       "      <td>564</td>\n",
       "      <td>00:50:02</td>\n",
       "      <td>139</td>\n",
       "      <td>156</td>\n",
       "      <td>6:28</td>\n",
       "      <td>61</td>\n",
       "      <td>68.0</td>\n",
       "      <td>-3</td>\n",
       "      <td>57</td>\n",
       "      <td>2023</td>\n",
       "      <td>8</td>\n",
       "      <td>8</td>\n",
       "      <td>1</td>\n",
       "      <td>0 days 00:50:02</td>\n",
       "      <td>0 days 00:06:28</td>\n",
       "    </tr>\n",
       "    <tr>\n",
       "      <th>149</th>\n",
       "      <td>2023-08-07 19:09:15</td>\n",
       "      <td>Ciudad de Buenos Aires - 1x3k 2x2k 3x1k /1'</td>\n",
       "      <td>15.34</td>\n",
       "      <td>1097</td>\n",
       "      <td>01:23:39</td>\n",
       "      <td>160</td>\n",
       "      <td>183</td>\n",
       "      <td>5:27</td>\n",
       "      <td>186</td>\n",
       "      <td>198.0</td>\n",
       "      <td>4</td>\n",
       "      <td>36</td>\n",
       "      <td>2023</td>\n",
       "      <td>8</td>\n",
       "      <td>7</td>\n",
       "      <td>0</td>\n",
       "      <td>0 days 01:23:39</td>\n",
       "      <td>0 days 00:05:27</td>\n",
       "    </tr>\n",
       "    <tr>\n",
       "      <th>150</th>\n",
       "      <td>2023-08-05 10:14:20</td>\n",
       "      <td>Ciudad de Buenos Aires - 90' prog con cuestas</td>\n",
       "      <td>15.82</td>\n",
       "      <td>1174</td>\n",
       "      <td>01:30:05</td>\n",
       "      <td>158</td>\n",
       "      <td>182</td>\n",
       "      <td>5:42</td>\n",
       "      <td>381</td>\n",
       "      <td>395.0</td>\n",
       "      <td>4</td>\n",
       "      <td>38</td>\n",
       "      <td>2023</td>\n",
       "      <td>8</td>\n",
       "      <td>5</td>\n",
       "      <td>5</td>\n",
       "      <td>0 days 01:30:05</td>\n",
       "      <td>0 days 00:05:42</td>\n",
       "    </tr>\n",
       "    <tr>\n",
       "      <th>151</th>\n",
       "      <td>2023-08-03 19:07:15</td>\n",
       "      <td>Ciudad de Buenos Aires - 3x4k /1'</td>\n",
       "      <td>16.68</td>\n",
       "      <td>1238</td>\n",
       "      <td>01:31:45</td>\n",
       "      <td>165</td>\n",
       "      <td>188</td>\n",
       "      <td>5:30</td>\n",
       "      <td>232</td>\n",
       "      <td>236.0</td>\n",
       "      <td>5</td>\n",
       "      <td>41</td>\n",
       "      <td>2023</td>\n",
       "      <td>8</td>\n",
       "      <td>3</td>\n",
       "      <td>3</td>\n",
       "      <td>0 days 01:31:45</td>\n",
       "      <td>0 days 00:05:30</td>\n",
       "    </tr>\n",
       "    <tr>\n",
       "      <th>152</th>\n",
       "      <td>2023-08-01 15:22:24</td>\n",
       "      <td>Ciudad de Buenos Aires - 5x1k pausa progresiva</td>\n",
       "      <td>9.87</td>\n",
       "      <td>763</td>\n",
       "      <td>00:56:55</td>\n",
       "      <td>166</td>\n",
       "      <td>197</td>\n",
       "      <td>5:46</td>\n",
       "      <td>164</td>\n",
       "      <td>164.0</td>\n",
       "      <td>5</td>\n",
       "      <td>55</td>\n",
       "      <td>2023</td>\n",
       "      <td>8</td>\n",
       "      <td>1</td>\n",
       "      <td>1</td>\n",
       "      <td>0 days 00:56:55</td>\n",
       "      <td>0 days 00:05:46</td>\n",
       "    </tr>\n",
       "  </tbody>\n",
       "</table>\n",
       "</div>"
      ],
      "text/plain": [
       "                  fecha                                          titulo  \\\n",
       "136 2023-08-31 14:50:00    Ciudad de Buenos Aires - 40' reg + 4x20 prog   \n",
       "137 2023-08-29 08:13:31      Ciudad de Buenos Aires - 40' regenerativos   \n",
       "138 2023-08-27 07:09:57                  Ciudad de Buenos Aires Carrera   \n",
       "139 2023-08-26 15:14:48       Ciudad de Buenos Aires - 15' reg + 4 prog   \n",
       "140 2023-08-24 18:53:24             Ciudad de Buenos Aires - 30' suaves   \n",
       "141 2023-08-23 15:38:43              Ciudad de Buenos Aires - 5x200 /30   \n",
       "142 2023-08-21 19:32:22     Ciudad de Buenos Aires - 1x1k/1' + 2x500/30   \n",
       "143 2023-08-19 15:52:19                    Junín - 50' prog con cuestas   \n",
       "144 2023-08-17 19:22:44   Ciudad de Buenos Aires - 12k cambios de ritmo   \n",
       "145 2023-08-15 19:04:14                Ciudad de Buenos Aires - 8x1k/1'   \n",
       "146 2023-08-12 15:24:50                     Junín - 2h prog con cuestas   \n",
       "147 2023-08-10 19:02:37               Ciudad de Buenos Aires - 3x5k /1'   \n",
       "148 2023-08-08 16:16:13              Ciudad de Buenos Aires - 50' z1 z2   \n",
       "149 2023-08-07 19:09:15     Ciudad de Buenos Aires - 1x3k 2x2k 3x1k /1'   \n",
       "150 2023-08-05 10:14:20   Ciudad de Buenos Aires - 90' prog con cuestas   \n",
       "151 2023-08-03 19:07:15               Ciudad de Buenos Aires - 3x4k /1'   \n",
       "152 2023-08-01 15:22:24  Ciudad de Buenos Aires - 5x1k pausa progresiva   \n",
       "\n",
       "     distancia  calorias    tiempo  frecuencia_cardiaca_media  fc_maxima  \\\n",
       "136       7.62       585  00:45:24                        154        174   \n",
       "137       5.15       362  00:40:04                        122        139   \n",
       "138      21.31      1543  01:52:41                        161        185   \n",
       "139       3.31       255  00:20:13                        152        173   \n",
       "140       4.91       358  00:30:02                        147        167   \n",
       "141       6.14       473  00:35:52                        159        181   \n",
       "142       6.23       460  00:35:47                        156        186   \n",
       "143       8.17       633  00:50:04                        156        169   \n",
       "144      15.77      1237  01:26:18                        177        194   \n",
       "145      13.36      1039  01:14:23                        172        192   \n",
       "146      19.86      1487  02:00:04                        155        168   \n",
       "147      19.84      1467  01:50:01                        165        182   \n",
       "148       7.73       564  00:50:02                        139        156   \n",
       "149      15.34      1097  01:23:39                        160        183   \n",
       "150      15.82      1174  01:30:05                        158        182   \n",
       "151      16.68      1238  01:31:45                        165        188   \n",
       "152       9.87       763  00:56:55                        166        197   \n",
       "\n",
       "    ritmo_medio  ascenso_total  descenso_total  altura_minima  altura_maxima  \\\n",
       "136        5:58            109           113.0             -2             35   \n",
       "137        7:47            100           100.0              4             25   \n",
       "138        5:17            336           336.0             -3             55   \n",
       "139        6:07             62            61.0              4             36   \n",
       "140        6:07             99           103.0              5             39   \n",
       "141        5:50             98           100.0              4             36   \n",
       "142        5:45            102            91.0              6             38   \n",
       "143        6:08             23            25.0             74             90   \n",
       "144        5:28            181           186.0              1             38   \n",
       "145        5:34            178           184.0              4             38   \n",
       "146        6:03            111           119.0             68             95   \n",
       "147        5:33            227           229.0             -3             36   \n",
       "148        6:28             61            68.0             -3             57   \n",
       "149        5:27            186           198.0              4             36   \n",
       "150        5:42            381           395.0              4             38   \n",
       "151        5:30            232           236.0              5             41   \n",
       "152        5:46            164           164.0              5             55   \n",
       "\n",
       "     anio  mes  dia  dia_semana tiempo_timedelta ritmo_medio_timedelta  \n",
       "136  2023    8   31           3  0 days 00:45:24       0 days 00:05:58  \n",
       "137  2023    8   29           1  0 days 00:40:04       0 days 00:07:47  \n",
       "138  2023    8   27           6  0 days 01:52:41       0 days 00:05:17  \n",
       "139  2023    8   26           5  0 days 00:20:13       0 days 00:06:07  \n",
       "140  2023    8   24           3  0 days 00:30:02       0 days 00:06:07  \n",
       "141  2023    8   23           2  0 days 00:35:52       0 days 00:05:50  \n",
       "142  2023    8   21           0  0 days 00:35:47       0 days 00:05:45  \n",
       "143  2023    8   19           5  0 days 00:50:04       0 days 00:06:08  \n",
       "144  2023    8   17           3  0 days 01:26:18       0 days 00:05:28  \n",
       "145  2023    8   15           1  0 days 01:14:23       0 days 00:05:34  \n",
       "146  2023    8   12           5  0 days 02:00:04       0 days 00:06:03  \n",
       "147  2023    8   10           3  0 days 01:50:01       0 days 00:05:33  \n",
       "148  2023    8    8           1  0 days 00:50:02       0 days 00:06:28  \n",
       "149  2023    8    7           0  0 days 01:23:39       0 days 00:05:27  \n",
       "150  2023    8    5           5  0 days 01:30:05       0 days 00:05:42  \n",
       "151  2023    8    3           3  0 days 01:31:45       0 days 00:05:30  \n",
       "152  2023    8    1           1  0 days 00:56:55       0 days 00:05:46  "
      ]
     },
     "execution_count": 46,
     "metadata": {},
     "output_type": "execute_result"
    }
   ],
   "source": [
    "agosto_2023 = run[ (run.mes == 8) & (run.anio == 2023) ]\n",
    "agosto_2023"
   ]
  },
  {
   "cell_type": "code",
   "execution_count": 47,
   "id": "46241ffe-ee90-4946-94aa-e260752ae794",
   "metadata": {},
   "outputs": [],
   "source": [
    "cantidad_entrenos_agosto_2023 = agosto_2023.shape[0]\n",
    "km_agosto_2023 = agosto_2023.distancia.sum()\n",
    "tiempo_agosto_2023 = round(agosto_2023.tiempo_timedelta.sum().seconds / 3600)\n",
    "promedio_tiempo_agosto_2023 = round(agosto_2023.tiempo_timedelta.mean().seconds / 3600, 2)\n",
    "promedio_kilometros_agosto_2023 = round(agosto_2023.distancia.mean(),2)"
   ]
  },
  {
   "cell_type": "code",
   "execution_count": 48,
   "id": "ce9d0525-42be-4920-a4c1-59ea08ea23a0",
   "metadata": {},
   "outputs": [
    {
     "name": "stdout",
     "output_type": "stream",
     "text": [
      "\n",
      "Algunos datos de Agosto 2023.\n",
      "\n",
      "Cantidad de entrenamientos: 17\n",
      "Total de kilometros: 197.11\n",
      "Horas entrenando: 19\n",
      "Promedio tiempo por entrenamiento: 1.11 horas. \n",
      "Promedio kilometros por entrenamiento 11.59\n",
      "\n"
     ]
    }
   ],
   "source": [
    "print(f\"\"\"\n",
    "Algunos datos de Agosto 2023.\n",
    "\n",
    "Cantidad de entrenamientos: {cantidad_entrenos_agosto_2023}\n",
    "Total de kilometros: {km_agosto_2023}\n",
    "Horas entrenando: {tiempo_agosto_2023}\n",
    "Promedio tiempo por entrenamiento: {promedio_tiempo_agosto_2023} horas. \n",
    "Promedio kilometros por entrenamiento {promedio_kilometros_agosto_2023}\n",
    "\"\"\")"
   ]
  },
  {
   "cell_type": "code",
   "execution_count": 49,
   "id": "de9d29b9-f979-469f-adb8-673b33f5cf09",
   "metadata": {},
   "outputs": [
    {
     "data": {
      "image/png": "[encoded data removed]",
      "text/plain": [
       "<Figure size 640x480 with 1 Axes>"
      ]
     },
     "metadata": {},
     "output_type": "display_data"
    }
   ],
   "source": [
    "fig, ax = plt.subplots()\n",
    "\n",
    "ax.boxplot(agosto_2023.distancia)\n",
    "ax.set_xlabel('Agosto 2023')\n",
    "ax.set_ylabel('Distancia (km)')\n",
    "# Agrego los puntos sobre la caja. Son puntos de la forma (1,distancia)\n",
    "ax.scatter(np.ones(agosto_2023.distancia.shape), agosto_2023.distancia, color='r', alpha=0.6)\n",
    "plt.show()"
   ]
  },
  {
   "cell_type": "markdown",
   "id": "228e68a6-4319-42fc-8bff-21476741c207",
   "metadata": {},
   "source": [
    "Separando por dia. Tengo los dias en enteros, los reemplazo por sus correspondientes strings. Ademas ordeno los datos para graficar en orden correcto."
   ]
  },
  {
   "cell_type": "code",
   "execution_count": 50,
   "id": "9efc82d3-26bf-4fd4-98cc-ebe472d4b7a2",
   "metadata": {},
   "outputs": [],
   "source": [
    "agosto_2023 = agosto_2023.sort_values('dia_semana')"
   ]
  },
  {
   "cell_type": "code",
   "execution_count": 51,
   "id": "18181349-a891-40e3-869b-a5eaed7538f4",
   "metadata": {
    "scrolled": true
   },
   "outputs": [],
   "source": [
    "days_of_week_dict = {\n",
    "    0: \"Lunes\",\n",
    "    1: \"Martes\",\n",
    "    2: \"Miércoles\",\n",
    "    3: \"Jueves\",\n",
    "    4: \"Viernes\",\n",
    "    5: \"Sábado\",\n",
    "    6: \"Domingo\"\n",
    "}\n",
    "\n",
    "agosto_2023['dia_semana'] = agosto_2023.dia_semana.replace(days_of_week_dict)"
   ]
  },
  {
   "cell_type": "code",
   "execution_count": 52,
   "id": "7a6e3e70-f3c8-4051-9330-a4487151126e",
   "metadata": {
    "scrolled": true
   },
   "outputs": [
    {
     "data": {
      "image/png": "[encoded data removed]",
      "text/plain": [
       "<Figure size 640x480 with 1 Axes>"
      ]
     },
     "metadata": {},
     "output_type": "display_data"
    }
   ],
   "source": [
    "color_dict_days = {\n",
    "    \"Lunes\": \"#FF9999\",\n",
    "    \"Martes\": \"#66B3FF\",\n",
    "    \"Miércoles\": \"#99FF99\",\n",
    "    \"Jueves\": \"#FFCC99\",\n",
    "    \"Viernes\": \"#FFD700\",\n",
    "    \"Sábado\": \"#9B59B6\",\n",
    "    \"Domingo\": \"#FF6347\"\n",
    "}\n",
    "ax = sns.boxplot(data=agosto_2023, y='distancia', hue='dia_semana', width=1, palette=color_dict_days)\n",
    "ax.legend(loc='upper left', bbox_to_anchor=(1, 1))\n",
    "\n",
    "plt.show()"
   ]
  },
  {
   "cell_type": "markdown",
   "id": "513a04e0-c79b-4b26-a03e-b8c2280fe445",
   "metadata": {},
   "source": [
    "Veamos la semana con mas kilometros dentro del mes"
   ]
  },
  {
   "cell_type": "code",
   "execution_count": 53,
   "id": "9d823d95-a6e2-4beb-b508-0db646d95100",
   "metadata": {},
   "outputs": [],
   "source": [
    "agosto_2023['week_number'] = agosto_2023.fecha.apply(lambda f: f.week)"
   ]
  },
  {
   "cell_type": "code",
   "execution_count": 54,
   "id": "51e59e59-6cb1-45ea-9124-6cf37cf9afa1",
   "metadata": {},
   "outputs": [
    {
     "data": {
      "text/html": [
       "<div>\n",
       "<style scoped>\n",
       "    .dataframe tbody tr th:only-of-type {\n",
       "        vertical-align: middle;\n",
       "    }\n",
       "\n",
       "    .dataframe tbody tr th {\n",
       "        vertical-align: top;\n",
       "    }\n",
       "\n",
       "    .dataframe thead th {\n",
       "        text-align: right;\n",
       "    }\n",
       "</style>\n",
       "<table border=\"1\" class=\"dataframe\">\n",
       "  <thead>\n",
       "    <tr style=\"text-align: right;\">\n",
       "      <th></th>\n",
       "      <th>distancia</th>\n",
       "    </tr>\n",
       "    <tr>\n",
       "      <th>week_number</th>\n",
       "      <th></th>\n",
       "    </tr>\n",
       "  </thead>\n",
       "  <tbody>\n",
       "    <tr>\n",
       "      <th>31</th>\n",
       "      <td>42.37</td>\n",
       "    </tr>\n",
       "    <tr>\n",
       "      <th>32</th>\n",
       "      <td>62.77</td>\n",
       "    </tr>\n",
       "    <tr>\n",
       "      <th>33</th>\n",
       "      <td>37.30</td>\n",
       "    </tr>\n",
       "    <tr>\n",
       "      <th>34</th>\n",
       "      <td>41.90</td>\n",
       "    </tr>\n",
       "    <tr>\n",
       "      <th>35</th>\n",
       "      <td>12.77</td>\n",
       "    </tr>\n",
       "  </tbody>\n",
       "</table>\n",
       "</div>"
      ],
      "text/plain": [
       "             distancia\n",
       "week_number           \n",
       "31               42.37\n",
       "32               62.77\n",
       "33               37.30\n",
       "34               41.90\n",
       "35               12.77"
      ]
     },
     "execution_count": 54,
     "metadata": {},
     "output_type": "execute_result"
    }
   ],
   "source": [
    "agosto_2023.groupby('week_number').aggregate({'distancia':'sum'})"
   ]
  },
  {
   "cell_type": "markdown",
   "id": "cefc8c97-d7a9-4631-98df-ab4641d3cf3f",
   "metadata": {},
   "source": [
    "La semana con mas kilometros fue la 32, con un total de 62.77 km. Veamos los entrenamientos de esta semana y cuanto tiempo entrene."
   ]
  },
  {
   "cell_type": "code",
   "execution_count": 55,
   "id": "7ad1957c-4e2f-49ee-ae46-46fcfd3b2323",
   "metadata": {},
   "outputs": [
    {
     "data": {
      "text/html": [
       "<div>\n",
       "<style scoped>\n",
       "    .dataframe tbody tr th:only-of-type {\n",
       "        vertical-align: middle;\n",
       "    }\n",
       "\n",
       "    .dataframe tbody tr th {\n",
       "        vertical-align: top;\n",
       "    }\n",
       "\n",
       "    .dataframe thead th {\n",
       "        text-align: right;\n",
       "    }\n",
       "</style>\n",
       "<table border=\"1\" class=\"dataframe\">\n",
       "  <thead>\n",
       "    <tr style=\"text-align: right;\">\n",
       "      <th></th>\n",
       "      <th>fecha</th>\n",
       "      <th>titulo</th>\n",
       "      <th>distancia</th>\n",
       "      <th>calorias</th>\n",
       "      <th>tiempo</th>\n",
       "      <th>frecuencia_cardiaca_media</th>\n",
       "      <th>fc_maxima</th>\n",
       "      <th>ritmo_medio</th>\n",
       "      <th>ascenso_total</th>\n",
       "      <th>descenso_total</th>\n",
       "      <th>altura_minima</th>\n",
       "      <th>altura_maxima</th>\n",
       "      <th>anio</th>\n",
       "      <th>mes</th>\n",
       "      <th>dia</th>\n",
       "      <th>dia_semana</th>\n",
       "      <th>tiempo_timedelta</th>\n",
       "      <th>ritmo_medio_timedelta</th>\n",
       "      <th>week_number</th>\n",
       "    </tr>\n",
       "  </thead>\n",
       "  <tbody>\n",
       "    <tr>\n",
       "      <th>149</th>\n",
       "      <td>2023-08-07 19:09:15</td>\n",
       "      <td>Ciudad de Buenos Aires - 1x3k 2x2k 3x1k /1'</td>\n",
       "      <td>15.34</td>\n",
       "      <td>1097</td>\n",
       "      <td>01:23:39</td>\n",
       "      <td>160</td>\n",
       "      <td>183</td>\n",
       "      <td>5:27</td>\n",
       "      <td>186</td>\n",
       "      <td>198.0</td>\n",
       "      <td>4</td>\n",
       "      <td>36</td>\n",
       "      <td>2023</td>\n",
       "      <td>8</td>\n",
       "      <td>7</td>\n",
       "      <td>Lunes</td>\n",
       "      <td>0 days 01:23:39</td>\n",
       "      <td>0 days 00:05:27</td>\n",
       "      <td>32</td>\n",
       "    </tr>\n",
       "    <tr>\n",
       "      <th>148</th>\n",
       "      <td>2023-08-08 16:16:13</td>\n",
       "      <td>Ciudad de Buenos Aires - 50' z1 z2</td>\n",
       "      <td>7.73</td>\n",
       "      <td>564</td>\n",
       "      <td>00:50:02</td>\n",
       "      <td>139</td>\n",
       "      <td>156</td>\n",
       "      <td>6:28</td>\n",
       "      <td>61</td>\n",
       "      <td>68.0</td>\n",
       "      <td>-3</td>\n",
       "      <td>57</td>\n",
       "      <td>2023</td>\n",
       "      <td>8</td>\n",
       "      <td>8</td>\n",
       "      <td>Martes</td>\n",
       "      <td>0 days 00:50:02</td>\n",
       "      <td>0 days 00:06:28</td>\n",
       "      <td>32</td>\n",
       "    </tr>\n",
       "    <tr>\n",
       "      <th>147</th>\n",
       "      <td>2023-08-10 19:02:37</td>\n",
       "      <td>Ciudad de Buenos Aires - 3x5k /1'</td>\n",
       "      <td>19.84</td>\n",
       "      <td>1467</td>\n",
       "      <td>01:50:01</td>\n",
       "      <td>165</td>\n",
       "      <td>182</td>\n",
       "      <td>5:33</td>\n",
       "      <td>227</td>\n",
       "      <td>229.0</td>\n",
       "      <td>-3</td>\n",
       "      <td>36</td>\n",
       "      <td>2023</td>\n",
       "      <td>8</td>\n",
       "      <td>10</td>\n",
       "      <td>Jueves</td>\n",
       "      <td>0 days 01:50:01</td>\n",
       "      <td>0 days 00:05:33</td>\n",
       "      <td>32</td>\n",
       "    </tr>\n",
       "    <tr>\n",
       "      <th>146</th>\n",
       "      <td>2023-08-12 15:24:50</td>\n",
       "      <td>Junín - 2h prog con cuestas</td>\n",
       "      <td>19.86</td>\n",
       "      <td>1487</td>\n",
       "      <td>02:00:04</td>\n",
       "      <td>155</td>\n",
       "      <td>168</td>\n",
       "      <td>6:03</td>\n",
       "      <td>111</td>\n",
       "      <td>119.0</td>\n",
       "      <td>68</td>\n",
       "      <td>95</td>\n",
       "      <td>2023</td>\n",
       "      <td>8</td>\n",
       "      <td>12</td>\n",
       "      <td>Sábado</td>\n",
       "      <td>0 days 02:00:04</td>\n",
       "      <td>0 days 00:06:03</td>\n",
       "      <td>32</td>\n",
       "    </tr>\n",
       "  </tbody>\n",
       "</table>\n",
       "</div>"
      ],
      "text/plain": [
       "                  fecha                                       titulo  \\\n",
       "149 2023-08-07 19:09:15  Ciudad de Buenos Aires - 1x3k 2x2k 3x1k /1'   \n",
       "148 2023-08-08 16:16:13           Ciudad de Buenos Aires - 50' z1 z2   \n",
       "147 2023-08-10 19:02:37            Ciudad de Buenos Aires - 3x5k /1'   \n",
       "146 2023-08-12 15:24:50                  Junín - 2h prog con cuestas   \n",
       "\n",
       "     distancia  calorias    tiempo  frecuencia_cardiaca_media  fc_maxima  \\\n",
       "149      15.34      1097  01:23:39                        160        183   \n",
       "148       7.73       564  00:50:02                        139        156   \n",
       "147      19.84      1467  01:50:01                        165        182   \n",
       "146      19.86      1487  02:00:04                        155        168   \n",
       "\n",
       "    ritmo_medio  ascenso_total  descenso_total  altura_minima  altura_maxima  \\\n",
       "149        5:27            186           198.0              4             36   \n",
       "148        6:28             61            68.0             -3             57   \n",
       "147        5:33            227           229.0             -3             36   \n",
       "146        6:03            111           119.0             68             95   \n",
       "\n",
       "     anio  mes  dia dia_semana tiempo_timedelta ritmo_medio_timedelta  \\\n",
       "149  2023    8    7      Lunes  0 days 01:23:39       0 days 00:05:27   \n",
       "148  2023    8    8     Martes  0 days 00:50:02       0 days 00:06:28   \n",
       "147  2023    8   10     Jueves  0 days 01:50:01       0 days 00:05:33   \n",
       "146  2023    8   12     Sábado  0 days 02:00:04       0 days 00:06:03   \n",
       "\n",
       "     week_number  \n",
       "149           32  \n",
       "148           32  \n",
       "147           32  \n",
       "146           32  "
      ]
     },
     "execution_count": 55,
     "metadata": {},
     "output_type": "execute_result"
    }
   ],
   "source": [
    "mask = agosto_2023.week_number == 32\n",
    "agosto_2023[mask]"
   ]
  },
  {
   "cell_type": "code",
   "execution_count": 56,
   "id": "f4b1dafc-7e21-4e4e-b9de-3bb64219f71d",
   "metadata": {},
   "outputs": [
    {
     "data": {
      "text/html": [
       "<div>\n",
       "<style scoped>\n",
       "    .dataframe tbody tr th:only-of-type {\n",
       "        vertical-align: middle;\n",
       "    }\n",
       "\n",
       "    .dataframe tbody tr th {\n",
       "        vertical-align: top;\n",
       "    }\n",
       "\n",
       "    .dataframe thead th {\n",
       "        text-align: right;\n",
       "    }\n",
       "</style>\n",
       "<table border=\"1\" class=\"dataframe\">\n",
       "  <thead>\n",
       "    <tr style=\"text-align: right;\">\n",
       "      <th></th>\n",
       "      <th>titulo</th>\n",
       "      <th>distancia</th>\n",
       "      <th>tiempo</th>\n",
       "    </tr>\n",
       "  </thead>\n",
       "  <tbody>\n",
       "    <tr>\n",
       "      <th>149</th>\n",
       "      <td>Ciudad de Buenos Aires - 1x3k 2x2k 3x1k /1'</td>\n",
       "      <td>15.34</td>\n",
       "      <td>01:23:39</td>\n",
       "    </tr>\n",
       "    <tr>\n",
       "      <th>148</th>\n",
       "      <td>Ciudad de Buenos Aires - 50' z1 z2</td>\n",
       "      <td>7.73</td>\n",
       "      <td>00:50:02</td>\n",
       "    </tr>\n",
       "    <tr>\n",
       "      <th>147</th>\n",
       "      <td>Ciudad de Buenos Aires - 3x5k /1'</td>\n",
       "      <td>19.84</td>\n",
       "      <td>01:50:01</td>\n",
       "    </tr>\n",
       "    <tr>\n",
       "      <th>146</th>\n",
       "      <td>Junín - 2h prog con cuestas</td>\n",
       "      <td>19.86</td>\n",
       "      <td>02:00:04</td>\n",
       "    </tr>\n",
       "  </tbody>\n",
       "</table>\n",
       "</div>"
      ],
      "text/plain": [
       "                                          titulo  distancia    tiempo\n",
       "149  Ciudad de Buenos Aires - 1x3k 2x2k 3x1k /1'      15.34  01:23:39\n",
       "148           Ciudad de Buenos Aires - 50' z1 z2       7.73  00:50:02\n",
       "147            Ciudad de Buenos Aires - 3x5k /1'      19.84  01:50:01\n",
       "146                  Junín - 2h prog con cuestas      19.86  02:00:04"
      ]
     },
     "execution_count": 56,
     "metadata": {},
     "output_type": "execute_result"
    }
   ],
   "source": [
    "agosto_2023[mask][['titulo','distancia','tiempo']]"
   ]
  },
  {
   "cell_type": "code",
   "execution_count": 57,
   "id": "ed5233cd-b9fb-4d2f-95c4-ebcca378c2bd",
   "metadata": {},
   "outputs": [
    {
     "name": "stdout",
     "output_type": "stream",
     "text": [
      "En esa semana entrene 6.1 horas entre los 4 entrenamientos.\n"
     ]
    }
   ],
   "source": [
    "week_hours = round(agosto_2023[mask].tiempo_timedelta.sum().seconds / 3600,1)\n",
    "week_trains = len(agosto_2023[mask])\n",
    "print(f'En esa semana entrene {week_hours} horas entre los {week_trains} entrenamientos.')"
   ]
  },
  {
   "cell_type": "markdown",
   "id": "d434a23f-92a9-4c51-b4f9-2c403ba0db38",
   "metadata": {},
   "source": [
    "### Cantidad de entrenamientos por dia de semana\n",
    "\n",
    "En el anio 2023 solia entrenar 4 dias a la semana. Lunes-Martes-Jueves-Sabado. En la mayoria del 2024 entreno 3 dias por semana. Miercoles-Viernes-Domingo. Veamos si esto se refleja.\n",
    "\n",
    "Agrupemos la cantidad de entrenamientos por dia de la semana y graficamos."
   ]
  },
  {
   "cell_type": "code",
   "execution_count": 58,
   "id": "0e048f14-9427-4161-94c8-0cd449b603ef",
   "metadata": {},
   "outputs": [
    {
     "data": {
      "text/plain": [
       "Lunes        22\n",
       "Martes       45\n",
       "Miércoles    31\n",
       "Jueves       43\n",
       "Viernes      20\n",
       "Sábado       34\n",
       "Domingo      24\n",
       "Name: titulo, dtype: int64"
      ]
     },
     "execution_count": 58,
     "metadata": {},
     "output_type": "execute_result"
    }
   ],
   "source": [
    "count_by_weekday = run.groupby('dia_semana').aggregate({'titulo':'count'}).titulo\n",
    "count_by_weekday.index = days_of_week_dict.values()\n",
    "count_by_weekday"
   ]
  },
  {
   "cell_type": "code",
   "execution_count": 59,
   "id": "4054611d-15f5-4f0a-99b2-806cfcaa2cfb",
   "metadata": {},
   "outputs": [
    {
     "data": {
      "image/png": "[encoded data removed]",
      "text/plain": [
       "<Figure size 640x480 with 1 Axes>"
      ]
     },
     "metadata": {},
     "output_type": "display_data"
    }
   ],
   "source": [
    "fig, ax = plt.subplots()\n",
    "\n",
    "for day, count in count_by_weekday.items():\n",
    "    b = ax.bar(day,count, label=day, color = color_dict_days[day])\n",
    "    ax.bar_label(b, label_type= 'center')\n",
    "\n",
    "plt.show()"
   ]
  },
  {
   "cell_type": "code",
   "execution_count": 60,
   "id": "23f76eb9-aaa9-4e92-8503-b43f6a88e3af",
   "metadata": {},
   "outputs": [
    {
     "data": {
      "text/html": [
       "<div>\n",
       "<style scoped>\n",
       "    .dataframe tbody tr th:only-of-type {\n",
       "        vertical-align: middle;\n",
       "    }\n",
       "\n",
       "    .dataframe tbody tr th {\n",
       "        vertical-align: top;\n",
       "    }\n",
       "\n",
       "    .dataframe thead th {\n",
       "        text-align: right;\n",
       "    }\n",
       "</style>\n",
       "<table border=\"1\" class=\"dataframe\">\n",
       "  <thead>\n",
       "    <tr style=\"text-align: right;\">\n",
       "      <th>anio</th>\n",
       "      <th>2023</th>\n",
       "      <th>2024</th>\n",
       "    </tr>\n",
       "    <tr>\n",
       "      <th>dia_semana</th>\n",
       "      <th></th>\n",
       "      <th></th>\n",
       "    </tr>\n",
       "  </thead>\n",
       "  <tbody>\n",
       "    <tr>\n",
       "      <th>0</th>\n",
       "      <td>14</td>\n",
       "      <td>8</td>\n",
       "    </tr>\n",
       "    <tr>\n",
       "      <th>1</th>\n",
       "      <td>37</td>\n",
       "      <td>8</td>\n",
       "    </tr>\n",
       "    <tr>\n",
       "      <th>2</th>\n",
       "      <td>9</td>\n",
       "      <td>22</td>\n",
       "    </tr>\n",
       "    <tr>\n",
       "      <th>3</th>\n",
       "      <td>33</td>\n",
       "      <td>10</td>\n",
       "    </tr>\n",
       "    <tr>\n",
       "      <th>4</th>\n",
       "      <td>3</td>\n",
       "      <td>17</td>\n",
       "    </tr>\n",
       "    <tr>\n",
       "      <th>5</th>\n",
       "      <td>29</td>\n",
       "      <td>5</td>\n",
       "    </tr>\n",
       "    <tr>\n",
       "      <th>6</th>\n",
       "      <td>9</td>\n",
       "      <td>15</td>\n",
       "    </tr>\n",
       "  </tbody>\n",
       "</table>\n",
       "</div>"
      ],
      "text/plain": [
       "anio        2023  2024\n",
       "dia_semana            \n",
       "0             14     8\n",
       "1             37     8\n",
       "2              9    22\n",
       "3             33    10\n",
       "4              3    17\n",
       "5             29     5\n",
       "6              9    15"
      ]
     },
     "execution_count": 60,
     "metadata": {},
     "output_type": "execute_result"
    }
   ],
   "source": [
    "count_by_weekday_year = run.pivot_table(values='titulo', index='dia_semana', columns = ['anio'], aggfunc='count')\n",
    "count_by_weekday_year"
   ]
  },
  {
   "cell_type": "code",
   "execution_count": 61,
   "id": "55f09ecd-6e35-4147-9925-5051d8ca7281",
   "metadata": {
    "scrolled": true
   },
   "outputs": [
    {
     "data": {
      "image/png": "[encoded data removed]",
      "text/plain": [
       "<Figure size 640x480 with 1 Axes>"
      ]
     },
     "metadata": {},
     "output_type": "display_data"
    }
   ],
   "source": [
    "count_by_weekday_year.index = days_of_week_dict.values()\n",
    "ax = count_by_weekday_year.plot.bar(rot=45, color = color_dict.values())\n",
    "ax.set_ylabel('Cantidad')\n",
    "ax.set_xlabel('Dia de la semana')\n",
    "ax.set_title('Cantidad de entrenamientos por dia de la semana y anio')\n",
    "plt.show()\n",
    "# Agregar labels"
   ]
  },
  {
   "cell_type": "markdown",
   "id": "9c5fa712-fd1c-45bc-bebc-c7f35896f290",
   "metadata": {},
   "source": [
    "Mismo grafico pero stackeado."
   ]
  },
  {
   "cell_type": "code",
   "execution_count": 62,
   "id": "f5a0e930-11d7-41cd-a3ef-80c7ef38082f",
   "metadata": {},
   "outputs": [
    {
     "data": {
      "image/png": "[encoded data removed]",
      "text/plain": [
       "<Figure size 640x480 with 1 Axes>"
      ]
     },
     "metadata": {},
     "output_type": "display_data"
    }
   ],
   "source": [
    "count_by_weekday_year.plot.bar(stacked=True, color = color_dict)\n",
    "plt.show()\n",
    "#Agregar labels"
   ]
  },
  {
   "cell_type": "markdown",
   "id": "cbc33667-da3a-4ea3-bd86-6904613d24af",
   "metadata": {},
   "source": [
    "### Tiempos\n",
    "\n",
    "Veamos el tiempo que le dedico a entrenar. Por ejemplo, duracion de entrenamientos por dia. Como voy a trabajar con series de tiempo mejor sera indexar por fecha. \n",
    "\n",
    "Voy a usar la libreria Plotly que permite hacer mejores graficos al trabajar con series de tiempo, incluso son interactivos."
   ]
  },
  {
   "cell_type": "code",
   "execution_count": null,
   "id": "09548f54-6e23-49c1-9c6b-0f8800845a0b",
   "metadata": {},
   "outputs": [],
   "source": [
    "import plotly.express as px"
   ]
  },
  {
   "cell_type": "markdown",
   "id": "3933766b-613f-4d40-ad88-ed0121656ca4",
   "metadata": {},
   "source": [
    "#### Duracion de entrenamientos por dia"
   ]
  },
  {
   "cell_type": "code",
   "execution_count": 93,
   "id": "7120024c-a441-4a4c-b0cf-e33bedbdf2db",
   "metadata": {},
   "outputs": [
    {
     "data": {
      "text/plain": [
       "DatetimeIndex(['2024-07-31 19:23:59', '2024-07-26 18:57:16',\n",
       "               '2024-07-24 18:12:00', '2024-07-21 19:04:20',\n",
       "               '2024-07-19 17:31:37', '2024-07-17 15:11:59',\n",
       "               '2024-07-14 10:20:30', '2024-07-12 18:54:19',\n",
       "               '2024-07-10 07:14:09', '2024-07-07 15:38:55',\n",
       "               ...\n",
       "               '2023-02-28 20:19:37', '2023-02-26 08:10:23',\n",
       "               '2023-02-23 20:29:39', '2023-02-22 20:03:17',\n",
       "               '2023-02-18 14:48:07', '2023-02-16 19:34:51',\n",
       "               '2023-02-14 20:21:18', '2023-02-11 20:23:02',\n",
       "               '2023-02-09 19:32:05', '2023-02-07 20:04:40'],\n",
       "              dtype='datetime64[ns]', name='fecha', length=219, freq=None)"
      ]
     },
     "execution_count": 93,
     "metadata": {},
     "output_type": "execute_result"
    }
   ],
   "source": [
    "run_by_day = run.set_index('fecha', drop=True) # indexo por fecha y borro la columna.\n",
    "run_by_day.index"
   ]
  },
  {
   "cell_type": "code",
   "execution_count": 95,
   "id": "69088030-b726-4400-98e8-3de70e4dec1f",
   "metadata": {
    "scrolled": true
   },
   "outputs": [],
   "source": [
    "run_by_day['tiempo_minutos'] = round(run_by_day.tiempo_timedelta.apply(lambda t: t.seconds / 60),2)\n",
    "run_by_day['tiempo_horas'] = round(run_by_day.tiempo_timedelta.apply(lambda t: t.seconds / 3600),1)"
   ]
  },
  {
   "cell_type": "code",
   "execution_count": 90,
   "id": "44c9a076-9917-40bd-84b4-10c8635930a6",
   "metadata": {},
   "outputs": [
    {
     "data": {
      "application/vnd.plotly.v1+json": {
       "config": {
        "plotlyServerURL": "https://plot.ly"
       },
       "data": [
        {
         "hovertemplate": "Dia=%{x}<br>Horas=%{y}<extra></extra>",
         "legendgroup": "",
         "line": {
          "color": "#636efa",
          "dash": "solid"
         },
         "marker": {
          "symbol": "circle"
         },
         "mode": "lines+markers",
         "name": "",
         "orientation": "v",
         "showlegend": false,
         "type": "scatter",
         "x": [
          "2024-07-31T19:23:59",
          "2024-07-26T18:57:16",
          "2024-07-24T18:12:00",
          "2024-07-21T19:04:20",
          "2024-07-19T17:31:37",
          "2024-07-17T15:11:59",
          "2024-07-14T10:20:30",
          "2024-07-12T18:54:19",
          "2024-07-10T07:14:09",
          "2024-07-07T15:38:55",
          "2024-07-05T18:16:47",
          "2024-07-03T18:44:39",
          "2024-06-30T08:10:47",
          "2024-06-28T19:21:59",
          "2024-06-26T19:46:32",
          "2024-06-23T16:09:09",
          "2024-06-21T17:16:45",
          "2024-06-19T19:25:46",
          "2024-06-17T12:19:59",
          "2024-06-14T19:16:44",
          "2024-06-12T19:05:54",
          "2024-06-09T19:07:03",
          "2024-06-07T19:29:55",
          "2024-06-05T18:50:30",
          "2024-06-02T17:53:45",
          "2024-05-31T19:34:00",
          "2024-05-29T18:40:33",
          "2024-05-22T19:23:19",
          "2024-05-19T18:31:23",
          "2024-05-17T19:42:56",
          "2024-05-15T19:45:34",
          "2024-05-12T18:30:17",
          "2024-05-10T19:06:56",
          "2024-05-08T19:05:08",
          "2024-05-03T18:57:11",
          "2024-05-01T18:35:59",
          "2024-04-28T16:27:54",
          "2024-04-26T18:47:33",
          "2024-04-24T19:30:24",
          "2024-04-19T19:46:58",
          "2024-04-17T19:13:32",
          "2024-04-14T17:49:24",
          "2024-04-12T19:11:49",
          "2024-04-10T19:02:06",
          "2024-04-07T18:09:45",
          "2024-04-05T18:35:06",
          "2024-03-26T19:01:18",
          "2024-03-25T18:38:12",
          "2024-03-24T17:39:56",
          "2024-03-22T19:35:55",
          "2024-03-21T18:41:58",
          "2024-03-19T19:27:27",
          "2024-03-18T19:00:35",
          "2024-03-16T14:09:54",
          "2024-03-14T18:41:44",
          "2024-03-12T18:51:18",
          "2024-03-10T08:00:46",
          "2024-03-09T09:52:24",
          "2024-03-07T19:44:57",
          "2024-03-05T19:10:12",
          "2024-02-29T19:08:23",
          "2024-02-27T19:21:21",
          "2024-02-26T18:07:55",
          "2024-02-22T19:06:40",
          "2024-02-21T07:56:20",
          "2024-02-19T19:07:50",
          "2024-02-17T10:08:04",
          "2024-02-15T15:18:01",
          "2024-02-14T19:15:13",
          "2024-02-12T15:24:52",
          "2024-02-08T19:31:41",
          "2024-02-06T18:50:20",
          "2024-02-04T19:13:59",
          "2024-02-01T08:15:11",
          "2024-01-31T19:38:02",
          "2024-01-29T19:13:51",
          "2024-01-27T19:29:14",
          "2024-01-25T19:01:28",
          "2024-01-24T18:45:20",
          "2024-01-22T19:39:33",
          "2024-01-20T19:00:54",
          "2024-01-18T19:09:56",
          "2024-01-16T18:37:58",
          "2024-01-03T19:57:30",
          "2024-01-02T19:20:43",
          "2023-12-27T19:18:44",
          "2023-12-26T19:32:29",
          "2023-12-21T20:02:20",
          "2023-12-19T08:09:53",
          "2023-12-16T16:33:20",
          "2023-12-14T19:20:23",
          "2023-12-12T19:41:30",
          "2023-12-10T19:57:13",
          "2023-12-08T19:33:37",
          "2023-12-06T19:09:30",
          "2023-12-05T18:43:01",
          "2023-12-03T18:50:28",
          "2023-12-02T20:27:54",
          "2023-11-28T18:59:50",
          "2023-11-26T20:17:08",
          "2023-11-23T19:23:56",
          "2023-11-21T19:38:53",
          "2023-11-19T19:07:20",
          "2023-11-16T08:17:22",
          "2023-11-14T19:10:21",
          "2023-11-11T18:47:50",
          "2023-11-09T19:24:09",
          "2023-11-07T18:11:51",
          "2023-11-04T11:10:08",
          "2023-11-03T15:16:46",
          "2023-10-31T08:00:11",
          "2023-10-28T15:18:10",
          "2023-10-26T19:18:31",
          "2023-10-24T19:13:13",
          "2023-10-21T18:08:40",
          "2023-10-19T19:19:02",
          "2023-10-17T19:22:47",
          "2023-10-14T10:01:04",
          "2023-10-12T18:24:08",
          "2023-10-10T19:36:34",
          "2023-10-07T14:16:54",
          "2023-10-04T15:52:02",
          "2023-10-02T15:35:57",
          "2023-09-24T07:06:22",
          "2023-09-22T15:33:42",
          "2023-09-20T15:23:55",
          "2023-09-18T19:42:52",
          "2023-09-16T10:05:26",
          "2023-09-13T15:40:08",
          "2023-09-11T15:33:38",
          "2023-09-09T14:37:08",
          "2023-09-07T15:58:31",
          "2023-09-05T19:25:38",
          "2023-09-03T16:54:55",
          "2023-09-02T09:03:23",
          "2023-08-31T14:50:00",
          "2023-08-29T08:13:31",
          "2023-08-27T07:09:57",
          "2023-08-26T15:14:48",
          "2023-08-24T18:53:24",
          "2023-08-23T15:38:43",
          "2023-08-21T19:32:22",
          "2023-08-19T15:52:19",
          "2023-08-17T19:22:44",
          "2023-08-15T19:04:14",
          "2023-08-12T15:24:50",
          "2023-08-10T19:02:37",
          "2023-08-08T16:16:13",
          "2023-08-07T19:09:15",
          "2023-08-05T10:14:20",
          "2023-08-03T19:07:15",
          "2023-08-01T15:22:24",
          "2023-07-30T16:41:24",
          "2023-07-27T18:53:32",
          "2023-07-25T07:37:59",
          "2023-07-24T07:06:36",
          "2023-07-22T14:51:51",
          "2023-07-20T15:20:03",
          "2023-07-18T15:13:23",
          "2023-07-17T15:11:52",
          "2023-07-15T14:00:06",
          "2023-07-13T15:32:54",
          "2023-07-11T18:59:08",
          "2023-07-10T15:25:18",
          "2023-07-08T15:07:11",
          "2023-07-06T15:15:34",
          "2023-07-04T15:29:56",
          "2023-07-03T15:31:28",
          "2023-07-01T14:02:49",
          "2023-06-29T07:31:00",
          "2023-06-27T15:29:07",
          "2023-06-26T15:33:17",
          "2023-06-24T14:28:29",
          "2023-06-22T15:18:22",
          "2023-06-21T16:43:31",
          "2023-06-19T15:38:42",
          "2023-06-17T17:30:12",
          "2023-06-15T15:46:14",
          "2023-06-13T15:45:41",
          "2023-06-12T15:16:00",
          "2023-06-10T11:09:56",
          "2023-06-08T15:32:39",
          "2023-06-06T15:14:15",
          "2023-06-05T15:15:58",
          "2023-06-03T10:05:21",
          "2023-06-01T15:32:24",
          "2023-05-30T15:49:25",
          "2023-05-23T15:40:27",
          "2023-05-16T15:11:55",
          "2023-04-25T16:31:51",
          "2023-04-18T15:17:40",
          "2023-04-13T16:42:41",
          "2023-04-11T19:47:33",
          "2023-04-08T09:34:17",
          "2023-04-06T18:40:38",
          "2023-04-04T16:49:52",
          "2023-04-01T15:16:41",
          "2023-03-30T19:23:14",
          "2023-03-28T16:51:43",
          "2023-03-25T08:20:14",
          "2023-03-23T19:19:42",
          "2023-03-21T15:07:40",
          "2023-03-18T20:12:18",
          "2023-03-16T20:24:58",
          "2023-03-15T20:02:43",
          "2023-03-13T20:01:51",
          "2023-03-09T20:09:38",
          "2023-03-07T20:18:11",
          "2023-03-02T20:33:40",
          "2023-02-28T20:19:37",
          "2023-02-26T08:10:23",
          "2023-02-23T20:29:39",
          "2023-02-22T20:03:17",
          "2023-02-18T14:48:07",
          "2023-02-16T19:34:51",
          "2023-02-14T20:21:18",
          "2023-02-11T20:23:02",
          "2023-02-09T19:32:05",
          "2023-02-07T20:04:40"
         ],
         "xaxis": "x",
         "y": [
          0.8,
          0.8,
          1,
          1,
          1,
          1.2,
          1.4,
          1.2,
          1.1,
          1.5,
          1.1,
          0.8,
          0.7,
          0.6,
          0.8,
          1.3,
          1.1,
          0.9,
          1.3,
          1.2,
          0.8,
          1.2,
          1.3,
          0.9,
          1,
          0.9,
          0.9,
          0.9,
          1.2,
          1.1,
          0.9,
          1,
          1.1,
          0.8,
          0.9,
          0.9,
          1.5,
          1.3,
          0.9,
          1.2,
          1.1,
          1.2,
          1.2,
          1,
          1.3,
          0.7,
          0.7,
          1.2,
          1.2,
          0.7,
          1,
          0.7,
          0.9,
          1.1,
          0.9,
          0.7,
          0.7,
          0.2,
          0.6,
          0.6,
          1.2,
          0.7,
          1.1,
          0.9,
          0.1,
          0.8,
          1.3,
          0.7,
          0.8,
          1.1,
          0.8,
          1.1,
          1,
          0.6,
          0.8,
          0.9,
          0.8,
          0.7,
          0.7,
          0.8,
          0.9,
          0.7,
          0.7,
          0.7,
          1.1,
          0.7,
          1,
          0.7,
          0.7,
          0.3,
          0.7,
          0.7,
          0.8,
          0.9,
          0.7,
          1.1,
          1.1,
          0.7,
          0.8,
          0.8,
          0.9,
          0.9,
          1,
          1.2,
          1.2,
          1.1,
          1.1,
          1.2,
          0.8,
          0.8,
          0.8,
          1.1,
          1.1,
          1.1,
          1.1,
          1,
          1,
          1.1,
          1.1,
          0.9,
          0.9,
          0.7,
          0.7,
          3.9,
          0.3,
          0.6,
          0.7,
          0.9,
          0.9,
          0.9,
          1.2,
          1,
          0.7,
          1.5,
          1,
          0.8,
          0.7,
          1.9,
          0.3,
          0.5,
          0.6,
          0.6,
          0.8,
          1.4,
          1.2,
          2,
          1.8,
          0.8,
          1.4,
          1.5,
          1.5,
          0.9,
          2,
          1.3,
          0.8,
          1.2,
          1.5,
          1.3,
          0.8,
          1.1,
          1.3,
          1.1,
          0.7,
          1,
          1.2,
          0.8,
          0.8,
          0.9,
          1,
          0.9,
          0.8,
          1,
          1,
          0.9,
          0.8,
          0.9,
          0.9,
          0.8,
          0.7,
          0.8,
          0.8,
          0.8,
          0.6,
          0.7,
          0.8,
          0.7,
          0.7,
          0.8,
          0.6,
          0.8,
          1,
          1,
          1,
          2,
          0.6,
          1.4,
          1.4,
          0.6,
          1,
          1.9,
          0.8,
          0.7,
          0.7,
          0.8,
          1,
          0.8,
          0.5,
          1,
          0.4,
          0.9,
          1.5,
          0.5,
          0.9,
          1.1,
          0.5,
          0.8,
          1.3,
          0.4,
          0.2
         ],
         "yaxis": "y"
        }
       ],
       "layout": {
        "autosize": true,
        "legend": {
         "tracegroupgap": 0
        },
        "template": {
         "data": {
          "bar": [
           {
            "error_x": {
             "color": "#2a3f5f"
            },
            "error_y": {
             "color": "#2a3f5f"
            },
            "marker": {
             "line": {
              "color": "#E5ECF6",
              "width": 0.5
             },
             "pattern": {
              "fillmode": "overlay",
              "size": 10,
              "solidity": 0.2
             }
            },
            "type": "bar"
           }
          ],
          "barpolar": [
           {
            "marker": {
             "line": {
              "color": "#E5ECF6",
              "width": 0.5
             },
             "pattern": {
              "fillmode": "overlay",
              "size": 10,
              "solidity": 0.2
             }
            },
            "type": "barpolar"
           }
          ],
          "carpet": [
           {
            "aaxis": {
             "endlinecolor": "#2a3f5f",
             "gridcolor": "white",
             "linecolor": "white",
             "minorgridcolor": "white",
             "startlinecolor": "#2a3f5f"
            },
            "baxis": {
             "endlinecolor": "#2a3f5f",
             "gridcolor": "white",
             "linecolor": "white",
             "minorgridcolor": "white",
             "startlinecolor": "#2a3f5f"
            },
            "type": "carpet"
           }
          ],
          "choropleth": [
           {
            "colorbar": {
             "outlinewidth": 0,
             "ticks": ""
            },
            "type": "choropleth"
           }
          ],
          "contour": [
           {
            "colorbar": {
             "outlinewidth": 0,
             "ticks": ""
            },
            "colorscale": [
             [
              0,
              "#0d0887"
             ],
             [
              0.1111111111111111,
              "#46039f"
             ],
             [
              0.2222222222222222,
              "#7201a8"
             ],
             [
              0.3333333333333333,
              "#9c179e"
             ],
             [
              0.4444444444444444,
              "#bd3786"
             ],
             [
              0.5555555555555556,
              "#d8576b"
             ],
             [
              0.6666666666666666,
              "#ed7953"
             ],
             [
              0.7777777777777778,
              "#fb9f3a"
             ],
             [
              0.8888888888888888,
              "#fdca26"
             ],
             [
              1,
              "#f0f921"
             ]
            ],
            "type": "contour"
           }
          ],
          "contourcarpet": [
           {
            "colorbar": {
             "outlinewidth": 0,
             "ticks": ""
            },
            "type": "contourcarpet"
           }
          ],
          "heatmap": [
           {
            "colorbar": {
             "outlinewidth": 0,
             "ticks": ""
            },
            "colorscale": [
             [
              0,
              "#0d0887"
             ],
             [
              0.1111111111111111,
              "#46039f"
             ],
             [
              0.2222222222222222,
              "#7201a8"
             ],
             [
              0.3333333333333333,
              "#9c179e"
             ],
             [
              0.4444444444444444,
              "#bd3786"
             ],
             [
              0.5555555555555556,
              "#d8576b"
             ],
             [
              0.6666666666666666,
              "#ed7953"
             ],
             [
              0.7777777777777778,
              "#fb9f3a"
             ],
             [
              0.8888888888888888,
              "#fdca26"
             ],
             [
              1,
              "#f0f921"
             ]
            ],
            "type": "heatmap"
           }
          ],
          "heatmapgl": [
           {
            "colorbar": {
             "outlinewidth": 0,
             "ticks": ""
            },
            "colorscale": [
             [
              0,
              "#0d0887"
             ],
             [
              0.1111111111111111,
              "#46039f"
             ],
             [
              0.2222222222222222,
              "#7201a8"
             ],
             [
              0.3333333333333333,
              "#9c179e"
             ],
             [
              0.4444444444444444,
              "#bd3786"
             ],
             [
              0.5555555555555556,
              "#d8576b"
             ],
             [
              0.6666666666666666,
              "#ed7953"
             ],
             [
              0.7777777777777778,
              "#fb9f3a"
             ],
             [
              0.8888888888888888,
              "#fdca26"
             ],
             [
              1,
              "#f0f921"
             ]
            ],
            "type": "heatmapgl"
           }
          ],
          "histogram": [
           {
            "marker": {
             "pattern": {
              "fillmode": "overlay",
              "size": 10,
              "solidity": 0.2
             }
            },
            "type": "histogram"
           }
          ],
          "histogram2d": [
           {
            "colorbar": {
             "outlinewidth": 0,
             "ticks": ""
            },
            "colorscale": [
             [
              0,
              "#0d0887"
             ],
             [
              0.1111111111111111,
              "#46039f"
             ],
             [
              0.2222222222222222,
              "#7201a8"
             ],
             [
              0.3333333333333333,
              "#9c179e"
             ],
             [
              0.4444444444444444,
              "#bd3786"
             ],
             [
              0.5555555555555556,
              "#d8576b"
             ],
             [
              0.6666666666666666,
              "#ed7953"
             ],
             [
              0.7777777777777778,
              "#fb9f3a"
             ],
             [
              0.8888888888888888,
              "#fdca26"
             ],
             [
              1,
              "#f0f921"
             ]
            ],
            "type": "histogram2d"
           }
          ],
          "histogram2dcontour": [
           {
            "colorbar": {
             "outlinewidth": 0,
             "ticks": ""
            },
            "colorscale": [
             [
              0,
              "#0d0887"
             ],
             [
              0.1111111111111111,
              "#46039f"
             ],
             [
              0.2222222222222222,
              "#7201a8"
             ],
             [
              0.3333333333333333,
              "#9c179e"
             ],
             [
              0.4444444444444444,
              "#bd3786"
             ],
             [
              0.5555555555555556,
              "#d8576b"
             ],
             [
              0.6666666666666666,
              "#ed7953"
             ],
             [
              0.7777777777777778,
              "#fb9f3a"
             ],
             [
              0.8888888888888888,
              "#fdca26"
             ],
             [
              1,
              "#f0f921"
             ]
            ],
            "type": "histogram2dcontour"
           }
          ],
          "mesh3d": [
           {
            "colorbar": {
             "outlinewidth": 0,
             "ticks": ""
            },
            "type": "mesh3d"
           }
          ],
          "parcoords": [
           {
            "line": {
             "colorbar": {
              "outlinewidth": 0,
              "ticks": ""
             }
            },
            "type": "parcoords"
           }
          ],
          "pie": [
           {
            "automargin": true,
            "type": "pie"
           }
          ],
          "scatter": [
           {
            "fillpattern": {
             "fillmode": "overlay",
             "size": 10,
             "solidity": 0.2
            },
            "type": "scatter"
           }
          ],
          "scatter3d": [
           {
            "line": {
             "colorbar": {
              "outlinewidth": 0,
              "ticks": ""
             }
            },
            "marker": {
             "colorbar": {
              "outlinewidth": 0,
              "ticks": ""
             }
            },
            "type": "scatter3d"
           }
          ],
          "scattercarpet": [
           {
            "marker": {
             "colorbar": {
              "outlinewidth": 0,
              "ticks": ""
             }
            },
            "type": "scattercarpet"
           }
          ],
          "scattergeo": [
           {
            "marker": {
             "colorbar": {
              "outlinewidth": 0,
              "ticks": ""
             }
            },
            "type": "scattergeo"
           }
          ],
          "scattergl": [
           {
            "marker": {
             "colorbar": {
              "outlinewidth": 0,
              "ticks": ""
             }
            },
            "type": "scattergl"
           }
          ],
          "scattermapbox": [
           {
            "marker": {
             "colorbar": {
              "outlinewidth": 0,
              "ticks": ""
             }
            },
            "type": "scattermapbox"
           }
          ],
          "scatterpolar": [
           {
            "marker": {
             "colorbar": {
              "outlinewidth": 0,
              "ticks": ""
             }
            },
            "type": "scatterpolar"
           }
          ],
          "scatterpolargl": [
           {
            "marker": {
             "colorbar": {
              "outlinewidth": 0,
              "ticks": ""
             }
            },
            "type": "scatterpolargl"
           }
          ],
          "scatterternary": [
           {
            "marker": {
             "colorbar": {
              "outlinewidth": 0,
              "ticks": ""
             }
            },
            "type": "scatterternary"
           }
          ],
          "surface": [
           {
            "colorbar": {
             "outlinewidth": 0,
             "ticks": ""
            },
            "colorscale": [
             [
              0,
              "#0d0887"
             ],
             [
              0.1111111111111111,
              "#46039f"
             ],
             [
              0.2222222222222222,
              "#7201a8"
             ],
             [
              0.3333333333333333,
              "#9c179e"
             ],
             [
              0.4444444444444444,
              "#bd3786"
             ],
             [
              0.5555555555555556,
              "#d8576b"
             ],
             [
              0.6666666666666666,
              "#ed7953"
             ],
             [
              0.7777777777777778,
              "#fb9f3a"
             ],
             [
              0.8888888888888888,
              "#fdca26"
             ],
             [
              1,
              "#f0f921"
             ]
            ],
            "type": "surface"
           }
          ],
          "table": [
           {
            "cells": {
             "fill": {
              "color": "#EBF0F8"
             },
             "line": {
              "color": "white"
             }
            },
            "header": {
             "fill": {
              "color": "#C8D4E3"
             },
             "line": {
              "color": "white"
             }
            },
            "type": "table"
           }
          ]
         },
         "layout": {
          "annotationdefaults": {
           "arrowcolor": "#2a3f5f",
           "arrowhead": 0,
           "arrowwidth": 1
          },
          "autotypenumbers": "strict",
          "coloraxis": {
           "colorbar": {
            "outlinewidth": 0,
            "ticks": ""
           }
          },
          "colorscale": {
           "diverging": [
            [
             0,
             "#8e0152"
            ],
            [
             0.1,
             "#c51b7d"
            ],
            [
             0.2,
             "#de77ae"
            ],
            [
             0.3,
             "#f1b6da"
            ],
            [
             0.4,
             "#fde0ef"
            ],
            [
             0.5,
             "#f7f7f7"
            ],
            [
             0.6,
             "#e6f5d0"
            ],
            [
             0.7,
             "#b8e186"
            ],
            [
             0.8,
             "#7fbc41"
            ],
            [
             0.9,
             "#4d9221"
            ],
            [
             1,
             "#276419"
            ]
           ],
           "sequential": [
            [
             0,
             "#0d0887"
            ],
            [
             0.1111111111111111,
             "#46039f"
            ],
            [
             0.2222222222222222,
             "#7201a8"
            ],
            [
             0.3333333333333333,
             "#9c179e"
            ],
            [
             0.4444444444444444,
             "#bd3786"
            ],
            [
             0.5555555555555556,
             "#d8576b"
            ],
            [
             0.6666666666666666,
             "#ed7953"
            ],
            [
             0.7777777777777778,
             "#fb9f3a"
            ],
            [
             0.8888888888888888,
             "#fdca26"
            ],
            [
             1,
             "#f0f921"
            ]
           ],
           "sequentialminus": [
            [
             0,
             "#0d0887"
            ],
            [
             0.1111111111111111,
             "#46039f"
            ],
            [
             0.2222222222222222,
             "#7201a8"
            ],
            [
             0.3333333333333333,
             "#9c179e"
            ],
            [
             0.4444444444444444,
             "#bd3786"
            ],
            [
             0.5555555555555556,
             "#d8576b"
            ],
            [
             0.6666666666666666,
             "#ed7953"
            ],
            [
             0.7777777777777778,
             "#fb9f3a"
            ],
            [
             0.8888888888888888,
             "#fdca26"
            ],
            [
             1,
             "#f0f921"
            ]
           ]
          },
          "colorway": [
           "#636efa",
           "#EF553B",
           "#00cc96",
           "#ab63fa",
           "#FFA15A",
           "#19d3f3",
           "#FF6692",
           "#B6E880",
           "#FF97FF",
           "#FECB52"
          ],
          "font": {
           "color": "#2a3f5f"
          },
          "geo": {
           "bgcolor": "white",
           "lakecolor": "white",
           "landcolor": "#E5ECF6",
           "showlakes": true,
           "showland": true,
           "subunitcolor": "white"
          },
          "hoverlabel": {
           "align": "left"
          },
          "hovermode": "closest",
          "mapbox": {
           "style": "light"
          },
          "paper_bgcolor": "white",
          "plot_bgcolor": "#E5ECF6",
          "polar": {
           "angularaxis": {
            "gridcolor": "white",
            "linecolor": "white",
            "ticks": ""
           },
           "bgcolor": "#E5ECF6",
           "radialaxis": {
            "gridcolor": "white",
            "linecolor": "white",
            "ticks": ""
           }
          },
          "scene": {
           "xaxis": {
            "backgroundcolor": "#E5ECF6",
            "gridcolor": "white",
            "gridwidth": 2,
            "linecolor": "white",
            "showbackground": true,
            "ticks": "",
            "zerolinecolor": "white"
           },
           "yaxis": {
            "backgroundcolor": "#E5ECF6",
            "gridcolor": "white",
            "gridwidth": 2,
            "linecolor": "white",
            "showbackground": true,
            "ticks": "",
            "zerolinecolor": "white"
           },
           "zaxis": {
            "backgroundcolor": "#E5ECF6",
            "gridcolor": "white",
            "gridwidth": 2,
            "linecolor": "white",
            "showbackground": true,
            "ticks": "",
            "zerolinecolor": "white"
           }
          },
          "shapedefaults": {
           "line": {
            "color": "#2a3f5f"
           }
          },
          "ternary": {
           "aaxis": {
            "gridcolor": "white",
            "linecolor": "white",
            "ticks": ""
           },
           "baxis": {
            "gridcolor": "white",
            "linecolor": "white",
            "ticks": ""
           },
           "bgcolor": "#E5ECF6",
           "caxis": {
            "gridcolor": "white",
            "linecolor": "white",
            "ticks": ""
           }
          },
          "title": {
           "x": 0.05
          },
          "xaxis": {
           "automargin": true,
           "gridcolor": "white",
           "linecolor": "white",
           "ticks": "",
           "title": {
            "standoff": 15
           },
           "zerolinecolor": "white",
           "zerolinewidth": 2
          },
          "yaxis": {
           "automargin": true,
           "gridcolor": "white",
           "linecolor": "white",
           "ticks": "",
           "title": {
            "standoff": 15
           },
           "zerolinecolor": "white",
           "zerolinewidth": 2
          }
         }
        },
        "title": {
         "text": "Horas entrenando por dia"
        },
        "xaxis": {
         "anchor": "y",
         "autorange": true,
         "domain": [
          0,
          1
         ],
         "range": [
          "2023-01-06 03:47:13.7322",
          "2024-09-02 11:41:25.2678"
         ],
         "showspikes": false,
         "title": {
          "text": "Dia"
         },
         "type": "date"
        },
        "yaxis": {
         "anchor": "x",
         "autorange": true,
         "domain": [
          0,
          1
         ],
         "range": [
          -0.21359223300970873,
          4.213592233009709
         ],
         "showspikes": false,
         "title": {
          "text": "Horas"
         },
         "type": "linear"
        }
       }
      },
      "image/png": "[encoded data removed]",
      "text/html": [
       "<div>                            <div id=\"cc80b741-31bc-4df3-8a2c-6053b5e28772\" class=\"plotly-graph-div\" style=\"height:525px; width:100%;\"></div>            <script type=\"text/javascript\">                require([\"plotly\"], function(Plotly) {                    window.PLOTLYENV=window.PLOTLYENV || {};                                    if (document.getElementById(\"cc80b741-31bc-4df3-8a2c-6053b5e28772\")) {                    Plotly.newPlot(                        \"cc80b741-31bc-4df3-8a2c-6053b5e28772\",                        [{\"hovertemplate\":\"Dia=%{x}\\u003cbr\\u003eHoras=%{y}\\u003cextra\\u003e\\u003c\\u002fextra\\u003e\",\"legendgroup\":\"\",\"line\":{\"color\":\"#636efa\",\"dash\":\"solid\"},\"marker\":{\"symbol\":\"circle\"},\"mode\":\"lines+markers\",\"name\":\"\",\"orientation\":\"v\",\"showlegend\":false,\"x\":[\"2024-07-31T19:23:59\",\"2024-07-26T18:57:16\",\"2024-07-24T18:12:00\",\"2024-07-21T19:04:20\",\"2024-07-19T17:31:37\",\"2024-07-17T15:11:59\",\"2024-07-14T10:20:30\",\"2024-07-12T18:54:19\",\"2024-07-10T07:14:09\",\"2024-07-07T15:38:55\",\"2024-07-05T18:16:47\",\"2024-07-03T18:44:39\",\"2024-06-30T08:10:47\",\"2024-06-28T19:21:59\",\"2024-06-26T19:46:32\",\"2024-06-23T16:09:09\",\"2024-06-21T17:16:45\",\"2024-06-19T19:25:46\",\"2024-06-17T12:19:59\",\"2024-06-14T19:16:44\",\"2024-06-12T19:05:54\",\"2024-06-09T19:07:03\",\"2024-06-07T19:29:55\",\"2024-06-05T18:50:30\",\"2024-06-02T17:53:45\",\"2024-05-31T19:34:00\",\"2024-05-29T18:40:33\",\"2024-05-22T19:23:19\",\"2024-05-19T18:31:23\",\"2024-05-17T19:42:56\",\"2024-05-15T19:45:34\",\"2024-05-12T18:30:17\",\"2024-05-10T19:06:56\",\"2024-05-08T19:05:08\",\"2024-05-03T18:57:11\",\"2024-05-01T18:35:59\",\"2024-04-28T16:27:54\",\"2024-04-26T18:47:33\",\"2024-04-24T19:30:24\",\"2024-04-19T19:46:58\",\"2024-04-17T19:13:32\",\"2024-04-14T17:49:24\",\"2024-04-12T19:11:49\",\"2024-04-10T19:02:06\",\"2024-04-07T18:09:45\",\"2024-04-05T18:35:06\",\"2024-03-26T19:01:18\",\"2024-03-25T18:38:12\",\"2024-03-24T17:39:56\",\"2024-03-22T19:35:55\",\"2024-03-21T18:41:58\",\"2024-03-19T19:27:27\",\"2024-03-18T19:00:35\",\"2024-03-16T14:09:54\",\"2024-03-14T18:41:44\",\"2024-03-12T18:51:18\",\"2024-03-10T08:00:46\",\"2024-03-09T09:52:24\",\"2024-03-07T19:44:57\",\"2024-03-05T19:10:12\",\"2024-02-29T19:08:23\",\"2024-02-27T19:21:21\",\"2024-02-26T18:07:55\",\"2024-02-22T19:06:40\",\"2024-02-21T07:56:20\",\"2024-02-19T19:07:50\",\"2024-02-17T10:08:04\",\"2024-02-15T15:18:01\",\"2024-02-14T19:15:13\",\"2024-02-12T15:24:52\",\"2024-02-08T19:31:41\",\"2024-02-06T18:50:20\",\"2024-02-04T19:13:59\",\"2024-02-01T08:15:11\",\"2024-01-31T19:38:02\",\"2024-01-29T19:13:51\",\"2024-01-27T19:29:14\",\"2024-01-25T19:01:28\",\"2024-01-24T18:45:20\",\"2024-01-22T19:39:33\",\"2024-01-20T19:00:54\",\"2024-01-18T19:09:56\",\"2024-01-16T18:37:58\",\"2024-01-03T19:57:30\",\"2024-01-02T19:20:43\",\"2023-12-27T19:18:44\",\"2023-12-26T19:32:29\",\"2023-12-21T20:02:20\",\"2023-12-19T08:09:53\",\"2023-12-16T16:33:20\",\"2023-12-14T19:20:23\",\"2023-12-12T19:41:30\",\"2023-12-10T19:57:13\",\"2023-12-08T19:33:37\",\"2023-12-06T19:09:30\",\"2023-12-05T18:43:01\",\"2023-12-03T18:50:28\",\"2023-12-02T20:27:54\",\"2023-11-28T18:59:50\",\"2023-11-26T20:17:08\",\"2023-11-23T19:23:56\",\"2023-11-21T19:38:53\",\"2023-11-19T19:07:20\",\"2023-11-16T08:17:22\",\"2023-11-14T19:10:21\",\"2023-11-11T18:47:50\",\"2023-11-09T19:24:09\",\"2023-11-07T18:11:51\",\"2023-11-04T11:10:08\",\"2023-11-03T15:16:46\",\"2023-10-31T08:00:11\",\"2023-10-28T15:18:10\",\"2023-10-26T19:18:31\",\"2023-10-24T19:13:13\",\"2023-10-21T18:08:40\",\"2023-10-19T19:19:02\",\"2023-10-17T19:22:47\",\"2023-10-14T10:01:04\",\"2023-10-12T18:24:08\",\"2023-10-10T19:36:34\",\"2023-10-07T14:16:54\",\"2023-10-04T15:52:02\",\"2023-10-02T15:35:57\",\"2023-09-24T07:06:22\",\"2023-09-22T15:33:42\",\"2023-09-20T15:23:55\",\"2023-09-18T19:42:52\",\"2023-09-16T10:05:26\",\"2023-09-13T15:40:08\",\"2023-09-11T15:33:38\",\"2023-09-09T14:37:08\",\"2023-09-07T15:58:31\",\"2023-09-05T19:25:38\",\"2023-09-03T16:54:55\",\"2023-09-02T09:03:23\",\"2023-08-31T14:50:00\",\"2023-08-29T08:13:31\",\"2023-08-27T07:09:57\",\"2023-08-26T15:14:48\",\"2023-08-24T18:53:24\",\"2023-08-23T15:38:43\",\"2023-08-21T19:32:22\",\"2023-08-19T15:52:19\",\"2023-08-17T19:22:44\",\"2023-08-15T19:04:14\",\"2023-08-12T15:24:50\",\"2023-08-10T19:02:37\",\"2023-08-08T16:16:13\",\"2023-08-07T19:09:15\",\"2023-08-05T10:14:20\",\"2023-08-03T19:07:15\",\"2023-08-01T15:22:24\",\"2023-07-30T16:41:24\",\"2023-07-27T18:53:32\",\"2023-07-25T07:37:59\",\"2023-07-24T07:06:36\",\"2023-07-22T14:51:51\",\"2023-07-20T15:20:03\",\"2023-07-18T15:13:23\",\"2023-07-17T15:11:52\",\"2023-07-15T14:00:06\",\"2023-07-13T15:32:54\",\"2023-07-11T18:59:08\",\"2023-07-10T15:25:18\",\"2023-07-08T15:07:11\",\"2023-07-06T15:15:34\",\"2023-07-04T15:29:56\",\"2023-07-03T15:31:28\",\"2023-07-01T14:02:49\",\"2023-06-29T07:31:00\",\"2023-06-27T15:29:07\",\"2023-06-26T15:33:17\",\"2023-06-24T14:28:29\",\"2023-06-22T15:18:22\",\"2023-06-21T16:43:31\",\"2023-06-19T15:38:42\",\"2023-06-17T17:30:12\",\"2023-06-15T15:46:14\",\"2023-06-13T15:45:41\",\"2023-06-12T15:16:00\",\"2023-06-10T11:09:56\",\"2023-06-08T15:32:39\",\"2023-06-06T15:14:15\",\"2023-06-05T15:15:58\",\"2023-06-03T10:05:21\",\"2023-06-01T15:32:24\",\"2023-05-30T15:49:25\",\"2023-05-23T15:40:27\",\"2023-05-16T15:11:55\",\"2023-04-25T16:31:51\",\"2023-04-18T15:17:40\",\"2023-04-13T16:42:41\",\"2023-04-11T19:47:33\",\"2023-04-08T09:34:17\",\"2023-04-06T18:40:38\",\"2023-04-04T16:49:52\",\"2023-04-01T15:16:41\",\"2023-03-30T19:23:14\",\"2023-03-28T16:51:43\",\"2023-03-25T08:20:14\",\"2023-03-23T19:19:42\",\"2023-03-21T15:07:40\",\"2023-03-18T20:12:18\",\"2023-03-16T20:24:58\",\"2023-03-15T20:02:43\",\"2023-03-13T20:01:51\",\"2023-03-09T20:09:38\",\"2023-03-07T20:18:11\",\"2023-03-02T20:33:40\",\"2023-02-28T20:19:37\",\"2023-02-26T08:10:23\",\"2023-02-23T20:29:39\",\"2023-02-22T20:03:17\",\"2023-02-18T14:48:07\",\"2023-02-16T19:34:51\",\"2023-02-14T20:21:18\",\"2023-02-11T20:23:02\",\"2023-02-09T19:32:05\",\"2023-02-07T20:04:40\"],\"xaxis\":\"x\",\"y\":[0.8,0.8,1.0,1.0,1.0,1.2,1.4,1.2,1.1,1.5,1.1,0.8,0.7,0.6,0.8,1.3,1.1,0.9,1.3,1.2,0.8,1.2,1.3,0.9,1.0,0.9,0.9,0.9,1.2,1.1,0.9,1.0,1.1,0.8,0.9,0.9,1.5,1.3,0.9,1.2,1.1,1.2,1.2,1.0,1.3,0.7,0.7,1.2,1.2,0.7,1.0,0.7,0.9,1.1,0.9,0.7,0.7,0.2,0.6,0.6,1.2,0.7,1.1,0.9,0.1,0.8,1.3,0.7,0.8,1.1,0.8,1.1,1.0,0.6,0.8,0.9,0.8,0.7,0.7,0.8,0.9,0.7,0.7,0.7,1.1,0.7,1.0,0.7,0.7,0.3,0.7,0.7,0.8,0.9,0.7,1.1,1.1,0.7,0.8,0.8,0.9,0.9,1.0,1.2,1.2,1.1,1.1,1.2,0.8,0.8,0.8,1.1,1.1,1.1,1.1,1.0,1.0,1.1,1.1,0.9,0.9,0.7,0.7,3.9,0.3,0.6,0.7,0.9,0.9,0.9,1.2,1.0,0.7,1.5,1.0,0.8,0.7,1.9,0.3,0.5,0.6,0.6,0.8,1.4,1.2,2.0,1.8,0.8,1.4,1.5,1.5,0.9,2.0,1.3,0.8,1.2,1.5,1.3,0.8,1.1,1.3,1.1,0.7,1.0,1.2,0.8,0.8,0.9,1.0,0.9,0.8,1.0,1.0,0.9,0.8,0.9,0.9,0.8,0.7,0.8,0.8,0.8,0.6,0.7,0.8,0.7,0.7,0.8,0.6,0.8,1.0,1.0,1.0,2.0,0.6,1.4,1.4,0.6,1.0,1.9,0.8,0.7,0.7,0.8,1.0,0.8,0.5,1.0,0.4,0.9,1.5,0.5,0.9,1.1,0.5,0.8,1.3,0.4,0.2],\"yaxis\":\"y\",\"type\":\"scatter\"}],                        {\"template\":{\"data\":{\"histogram2dcontour\":[{\"type\":\"histogram2dcontour\",\"colorbar\":{\"outlinewidth\":0,\"ticks\":\"\"},\"colorscale\":[[0.0,\"#0d0887\"],[0.1111111111111111,\"#46039f\"],[0.2222222222222222,\"#7201a8\"],[0.3333333333333333,\"#9c179e\"],[0.4444444444444444,\"#bd3786\"],[0.5555555555555556,\"#d8576b\"],[0.6666666666666666,\"#ed7953\"],[0.7777777777777778,\"#fb9f3a\"],[0.8888888888888888,\"#fdca26\"],[1.0,\"#f0f921\"]]}],\"choropleth\":[{\"type\":\"choropleth\",\"colorbar\":{\"outlinewidth\":0,\"ticks\":\"\"}}],\"histogram2d\":[{\"type\":\"histogram2d\",\"colorbar\":{\"outlinewidth\":0,\"ticks\":\"\"},\"colorscale\":[[0.0,\"#0d0887\"],[0.1111111111111111,\"#46039f\"],[0.2222222222222222,\"#7201a8\"],[0.3333333333333333,\"#9c179e\"],[0.4444444444444444,\"#bd3786\"],[0.5555555555555556,\"#d8576b\"],[0.6666666666666666,\"#ed7953\"],[0.7777777777777778,\"#fb9f3a\"],[0.8888888888888888,\"#fdca26\"],[1.0,\"#f0f921\"]]}],\"heatmap\":[{\"type\":\"heatmap\",\"colorbar\":{\"outlinewidth\":0,\"ticks\":\"\"},\"colorscale\":[[0.0,\"#0d0887\"],[0.1111111111111111,\"#46039f\"],[0.2222222222222222,\"#7201a8\"],[0.3333333333333333,\"#9c179e\"],[0.4444444444444444,\"#bd3786\"],[0.5555555555555556,\"#d8576b\"],[0.6666666666666666,\"#ed7953\"],[0.7777777777777778,\"#fb9f3a\"],[0.8888888888888888,\"#fdca26\"],[1.0,\"#f0f921\"]]}],\"heatmapgl\":[{\"type\":\"heatmapgl\",\"colorbar\":{\"outlinewidth\":0,\"ticks\":\"\"},\"colorscale\":[[0.0,\"#0d0887\"],[0.1111111111111111,\"#46039f\"],[0.2222222222222222,\"#7201a8\"],[0.3333333333333333,\"#9c179e\"],[0.4444444444444444,\"#bd3786\"],[0.5555555555555556,\"#d8576b\"],[0.6666666666666666,\"#ed7953\"],[0.7777777777777778,\"#fb9f3a\"],[0.8888888888888888,\"#fdca26\"],[1.0,\"#f0f921\"]]}],\"contourcarpet\":[{\"type\":\"contourcarpet\",\"colorbar\":{\"outlinewidth\":0,\"ticks\":\"\"}}],\"contour\":[{\"type\":\"contour\",\"colorbar\":{\"outlinewidth\":0,\"ticks\":\"\"},\"colorscale\":[[0.0,\"#0d0887\"],[0.1111111111111111,\"#46039f\"],[0.2222222222222222,\"#7201a8\"],[0.3333333333333333,\"#9c179e\"],[0.4444444444444444,\"#bd3786\"],[0.5555555555555556,\"#d8576b\"],[0.6666666666666666,\"#ed7953\"],[0.7777777777777778,\"#fb9f3a\"],[0.8888888888888888,\"#fdca26\"],[1.0,\"#f0f921\"]]}],\"surface\":[{\"type\":\"surface\",\"colorbar\":{\"outlinewidth\":0,\"ticks\":\"\"},\"colorscale\":[[0.0,\"#0d0887\"],[0.1111111111111111,\"#46039f\"],[0.2222222222222222,\"#7201a8\"],[0.3333333333333333,\"#9c179e\"],[0.4444444444444444,\"#bd3786\"],[0.5555555555555556,\"#d8576b\"],[0.6666666666666666,\"#ed7953\"],[0.7777777777777778,\"#fb9f3a\"],[0.8888888888888888,\"#fdca26\"],[1.0,\"#f0f921\"]]}],\"mesh3d\":[{\"type\":\"mesh3d\",\"colorbar\":{\"outlinewidth\":0,\"ticks\":\"\"}}],\"scatter\":[{\"fillpattern\":{\"fillmode\":\"overlay\",\"size\":10,\"solidity\":0.2},\"type\":\"scatter\"}],\"parcoords\":[{\"type\":\"parcoords\",\"line\":{\"colorbar\":{\"outlinewidth\":0,\"ticks\":\"\"}}}],\"scatterpolargl\":[{\"type\":\"scatterpolargl\",\"marker\":{\"colorbar\":{\"outlinewidth\":0,\"ticks\":\"\"}}}],\"bar\":[{\"error_x\":{\"color\":\"#2a3f5f\"},\"error_y\":{\"color\":\"#2a3f5f\"},\"marker\":{\"line\":{\"color\":\"#E5ECF6\",\"width\":0.5},\"pattern\":{\"fillmode\":\"overlay\",\"size\":10,\"solidity\":0.2}},\"type\":\"bar\"}],\"scattergeo\":[{\"type\":\"scattergeo\",\"marker\":{\"colorbar\":{\"outlinewidth\":0,\"ticks\":\"\"}}}],\"scatterpolar\":[{\"type\":\"scatterpolar\",\"marker\":{\"colorbar\":{\"outlinewidth\":0,\"ticks\":\"\"}}}],\"histogram\":[{\"marker\":{\"pattern\":{\"fillmode\":\"overlay\",\"size\":10,\"solidity\":0.2}},\"type\":\"histogram\"}],\"scattergl\":[{\"type\":\"scattergl\",\"marker\":{\"colorbar\":{\"outlinewidth\":0,\"ticks\":\"\"}}}],\"scatter3d\":[{\"type\":\"scatter3d\",\"line\":{\"colorbar\":{\"outlinewidth\":0,\"ticks\":\"\"}},\"marker\":{\"colorbar\":{\"outlinewidth\":0,\"ticks\":\"\"}}}],\"scattermapbox\":[{\"type\":\"scattermapbox\",\"marker\":{\"colorbar\":{\"outlinewidth\":0,\"ticks\":\"\"}}}],\"scatterternary\":[{\"type\":\"scatterternary\",\"marker\":{\"colorbar\":{\"outlinewidth\":0,\"ticks\":\"\"}}}],\"scattercarpet\":[{\"type\":\"scattercarpet\",\"marker\":{\"colorbar\":{\"outlinewidth\":0,\"ticks\":\"\"}}}],\"carpet\":[{\"aaxis\":{\"endlinecolor\":\"#2a3f5f\",\"gridcolor\":\"white\",\"linecolor\":\"white\",\"minorgridcolor\":\"white\",\"startlinecolor\":\"#2a3f5f\"},\"baxis\":{\"endlinecolor\":\"#2a3f5f\",\"gridcolor\":\"white\",\"linecolor\":\"white\",\"minorgridcolor\":\"white\",\"startlinecolor\":\"#2a3f5f\"},\"type\":\"carpet\"}],\"table\":[{\"cells\":{\"fill\":{\"color\":\"#EBF0F8\"},\"line\":{\"color\":\"white\"}},\"header\":{\"fill\":{\"color\":\"#C8D4E3\"},\"line\":{\"color\":\"white\"}},\"type\":\"table\"}],\"barpolar\":[{\"marker\":{\"line\":{\"color\":\"#E5ECF6\",\"width\":0.5},\"pattern\":{\"fillmode\":\"overlay\",\"size\":10,\"solidity\":0.2}},\"type\":\"barpolar\"}],\"pie\":[{\"automargin\":true,\"type\":\"pie\"}]},\"layout\":{\"autotypenumbers\":\"strict\",\"colorway\":[\"#636efa\",\"#EF553B\",\"#00cc96\",\"#ab63fa\",\"#FFA15A\",\"#19d3f3\",\"#FF6692\",\"#B6E880\",\"#FF97FF\",\"#FECB52\"],\"font\":{\"color\":\"#2a3f5f\"},\"hovermode\":\"closest\",\"hoverlabel\":{\"align\":\"left\"},\"paper_bgcolor\":\"white\",\"plot_bgcolor\":\"#E5ECF6\",\"polar\":{\"bgcolor\":\"#E5ECF6\",\"angularaxis\":{\"gridcolor\":\"white\",\"linecolor\":\"white\",\"ticks\":\"\"},\"radialaxis\":{\"gridcolor\":\"white\",\"linecolor\":\"white\",\"ticks\":\"\"}},\"ternary\":{\"bgcolor\":\"#E5ECF6\",\"aaxis\":{\"gridcolor\":\"white\",\"linecolor\":\"white\",\"ticks\":\"\"},\"baxis\":{\"gridcolor\":\"white\",\"linecolor\":\"white\",\"ticks\":\"\"},\"caxis\":{\"gridcolor\":\"white\",\"linecolor\":\"white\",\"ticks\":\"\"}},\"coloraxis\":{\"colorbar\":{\"outlinewidth\":0,\"ticks\":\"\"}},\"colorscale\":{\"sequential\":[[0.0,\"#0d0887\"],[0.1111111111111111,\"#46039f\"],[0.2222222222222222,\"#7201a8\"],[0.3333333333333333,\"#9c179e\"],[0.4444444444444444,\"#bd3786\"],[0.5555555555555556,\"#d8576b\"],[0.6666666666666666,\"#ed7953\"],[0.7777777777777778,\"#fb9f3a\"],[0.8888888888888888,\"#fdca26\"],[1.0,\"#f0f921\"]],\"sequentialminus\":[[0.0,\"#0d0887\"],[0.1111111111111111,\"#46039f\"],[0.2222222222222222,\"#7201a8\"],[0.3333333333333333,\"#9c179e\"],[0.4444444444444444,\"#bd3786\"],[0.5555555555555556,\"#d8576b\"],[0.6666666666666666,\"#ed7953\"],[0.7777777777777778,\"#fb9f3a\"],[0.8888888888888888,\"#fdca26\"],[1.0,\"#f0f921\"]],\"diverging\":[[0,\"#8e0152\"],[0.1,\"#c51b7d\"],[0.2,\"#de77ae\"],[0.3,\"#f1b6da\"],[0.4,\"#fde0ef\"],[0.5,\"#f7f7f7\"],[0.6,\"#e6f5d0\"],[0.7,\"#b8e186\"],[0.8,\"#7fbc41\"],[0.9,\"#4d9221\"],[1,\"#276419\"]]},\"xaxis\":{\"gridcolor\":\"white\",\"linecolor\":\"white\",\"ticks\":\"\",\"title\":{\"standoff\":15},\"zerolinecolor\":\"white\",\"automargin\":true,\"zerolinewidth\":2},\"yaxis\":{\"gridcolor\":\"white\",\"linecolor\":\"white\",\"ticks\":\"\",\"title\":{\"standoff\":15},\"zerolinecolor\":\"white\",\"automargin\":true,\"zerolinewidth\":2},\"scene\":{\"xaxis\":{\"backgroundcolor\":\"#E5ECF6\",\"gridcolor\":\"white\",\"linecolor\":\"white\",\"showbackground\":true,\"ticks\":\"\",\"zerolinecolor\":\"white\",\"gridwidth\":2},\"yaxis\":{\"backgroundcolor\":\"#E5ECF6\",\"gridcolor\":\"white\",\"linecolor\":\"white\",\"showbackground\":true,\"ticks\":\"\",\"zerolinecolor\":\"white\",\"gridwidth\":2},\"zaxis\":{\"backgroundcolor\":\"#E5ECF6\",\"gridcolor\":\"white\",\"linecolor\":\"white\",\"showbackground\":true,\"ticks\":\"\",\"zerolinecolor\":\"white\",\"gridwidth\":2}},\"shapedefaults\":{\"line\":{\"color\":\"#2a3f5f\"}},\"annotationdefaults\":{\"arrowcolor\":\"#2a3f5f\",\"arrowhead\":0,\"arrowwidth\":1},\"geo\":{\"bgcolor\":\"white\",\"landcolor\":\"#E5ECF6\",\"subunitcolor\":\"white\",\"showland\":true,\"showlakes\":true,\"lakecolor\":\"white\"},\"title\":{\"x\":0.05},\"mapbox\":{\"style\":\"light\"}}},\"xaxis\":{\"anchor\":\"y\",\"domain\":[0.0,1.0],\"title\":{\"text\":\"Dia\"}},\"yaxis\":{\"anchor\":\"x\",\"domain\":[0.0,1.0],\"title\":{\"text\":\"Horas\"}},\"legend\":{\"tracegroupgap\":0},\"title\":{\"text\":\"Horas entrenando por dia\"}},                        {\"responsive\": true}                    ).then(function(){\n",
       "                            \n",
       "var gd = document.getElementById('cc80b741-31bc-4df3-8a2c-6053b5e28772');\n",
       "var x = new MutationObserver(function (mutations, observer) {{\n",
       "        var display = window.getComputedStyle(gd).display;\n",
       "        if (!display || display === 'none') {{\n",
       "            console.log([gd, 'removed!']);\n",
       "            Plotly.purge(gd);\n",
       "            observer.disconnect();\n",
       "        }}\n",
       "}});\n",
       "\n",
       "// Listen for the removal of the full notebook cells\n",
       "var notebookContainer = gd.closest('#notebook-container');\n",
       "if (notebookContainer) {{\n",
       "    x.observe(notebookContainer, {childList: true});\n",
       "}}\n",
       "\n",
       "// Listen for the clearing of the current output cell\n",
       "var outputEl = gd.closest('.output');\n",
       "if (outputEl) {{\n",
       "    x.observe(outputEl, {childList: true});\n",
       "}}\n",
       "\n",
       "                        })                };                });            </script>        </div>"
      ]
     },
     "metadata": {},
     "output_type": "display_data"
    }
   ],
   "source": [
    "fig = px.line(run_by_day, y=\"tiempo_horas\", markers=True, labels={'fecha':'Dia','tiempo_horas':'Horas'}, title='Horas entrenando por dia')\n",
    "fig.show()"
   ]
  },
  {
   "cell_type": "code",
   "execution_count": 97,
   "id": "df42d3f0-76c1-4d30-8210-f7dbce052585",
   "metadata": {
    "scrolled": true
   },
   "outputs": [
    {
     "data": {
      "application/vnd.plotly.v1+json": {
       "config": {
        "plotlyServerURL": "https://plot.ly"
       },
       "data": [
        {
         "hovertemplate": "dia_semana=Miércoles<br>Fecha=%{x}<br>Horas=%{y}<extra></extra>",
         "legendgroup": "Miércoles",
         "line": {
          "color": "#636efa",
          "dash": "solid"
         },
         "marker": {
          "symbol": "circle"
         },
         "mode": "lines+markers",
         "name": "Miércoles",
         "orientation": "v",
         "showlegend": true,
         "type": "scatter",
         "x": [
          "2024-07-31T19:23:59",
          "2024-07-24T18:12:00",
          "2024-07-17T15:11:59",
          "2024-07-10T07:14:09",
          "2024-07-03T18:44:39",
          "2024-06-26T19:46:32",
          "2024-06-19T19:25:46",
          "2024-06-12T19:05:54",
          "2024-06-05T18:50:30",
          "2024-05-29T18:40:33",
          "2024-05-22T19:23:19",
          "2024-05-15T19:45:34",
          "2024-05-08T19:05:08",
          "2024-05-01T18:35:59",
          "2024-04-24T19:30:24",
          "2024-04-17T19:13:32",
          "2024-04-10T19:02:06",
          "2024-02-21T07:56:20",
          "2024-02-14T19:15:13",
          "2024-01-31T19:38:02",
          "2024-01-24T18:45:20",
          "2024-01-03T19:57:30",
          "2023-12-27T19:18:44",
          "2023-12-06T19:09:30",
          "2023-10-04T15:52:02",
          "2023-09-20T15:23:55",
          "2023-09-13T15:40:08",
          "2023-08-23T15:38:43",
          "2023-06-21T16:43:31",
          "2023-03-15T20:02:43",
          "2023-02-22T20:03:17"
         ],
         "xaxis": "x",
         "y": [
          0.8,
          1,
          1.2,
          1.1,
          0.8,
          0.8,
          0.9,
          0.8,
          0.9,
          0.9,
          0.9,
          0.9,
          0.8,
          0.9,
          0.9,
          1.1,
          1,
          0.1,
          0.8,
          0.8,
          0.7,
          0.7,
          0.7,
          0.7,
          0.7,
          0.6,
          0.9,
          0.6,
          0.8,
          1,
          0.9
         ],
         "yaxis": "y"
        },
        {
         "hovertemplate": "dia_semana=Viernes<br>Fecha=%{x}<br>Horas=%{y}<extra></extra>",
         "legendgroup": "Viernes",
         "line": {
          "color": "#EF553B",
          "dash": "solid"
         },
         "marker": {
          "symbol": "circle"
         },
         "mode": "lines+markers",
         "name": "Viernes",
         "orientation": "v",
         "showlegend": true,
         "type": "scatter",
         "x": [
          "2024-07-26T18:57:16",
          "2024-07-19T17:31:37",
          "2024-07-12T18:54:19",
          "2024-07-05T18:16:47",
          "2024-06-28T19:21:59",
          "2024-06-21T17:16:45",
          "2024-06-14T19:16:44",
          "2024-06-07T19:29:55",
          "2024-05-31T19:34:00",
          "2024-05-17T19:42:56",
          "2024-05-10T19:06:56",
          "2024-05-03T18:57:11",
          "2024-04-26T18:47:33",
          "2024-04-19T19:46:58",
          "2024-04-12T19:11:49",
          "2024-04-05T18:35:06",
          "2024-03-22T19:35:55",
          "2023-12-08T19:33:37",
          "2023-11-03T15:16:46",
          "2023-09-22T15:33:42"
         ],
         "xaxis": "x",
         "y": [
          0.8,
          1,
          1.2,
          1.1,
          0.6,
          1.1,
          1.2,
          1.3,
          0.9,
          1.1,
          1.1,
          0.9,
          1.3,
          1.2,
          1.2,
          0.7,
          0.7,
          0.9,
          0.8,
          0.3
         ],
         "yaxis": "y"
        },
        {
         "hovertemplate": "dia_semana=Domingo<br>Fecha=%{x}<br>Horas=%{y}<extra></extra>",
         "legendgroup": "Domingo",
         "line": {
          "color": "#00cc96",
          "dash": "solid"
         },
         "marker": {
          "symbol": "circle"
         },
         "mode": "lines+markers",
         "name": "Domingo",
         "orientation": "v",
         "showlegend": true,
         "type": "scatter",
         "x": [
          "2024-07-21T19:04:20",
          "2024-07-14T10:20:30",
          "2024-07-07T15:38:55",
          "2024-06-30T08:10:47",
          "2024-06-23T16:09:09",
          "2024-06-09T19:07:03",
          "2024-06-02T17:53:45",
          "2024-05-19T18:31:23",
          "2024-05-12T18:30:17",
          "2024-04-28T16:27:54",
          "2024-04-14T17:49:24",
          "2024-04-07T18:09:45",
          "2024-03-24T17:39:56",
          "2024-03-10T08:00:46",
          "2024-02-04T19:13:59",
          "2023-12-10T19:57:13",
          "2023-12-03T18:50:28",
          "2023-11-26T20:17:08",
          "2023-11-19T19:07:20",
          "2023-09-24T07:06:22",
          "2023-09-03T16:54:55",
          "2023-08-27T07:09:57",
          "2023-07-30T16:41:24",
          "2023-02-26T08:10:23"
         ],
         "xaxis": "x",
         "y": [
          1,
          1.4,
          1.5,
          0.7,
          1.3,
          1.2,
          1,
          1.2,
          1,
          1.5,
          1.2,
          1.3,
          1.2,
          0.7,
          1,
          0.8,
          1.1,
          0.8,
          1,
          3.9,
          1.5,
          1.9,
          2,
          1.5
         ],
         "yaxis": "y"
        },
        {
         "hovertemplate": "dia_semana=Lunes<br>Fecha=%{x}<br>Horas=%{y}<extra></extra>",
         "legendgroup": "Lunes",
         "line": {
          "color": "#ab63fa",
          "dash": "solid"
         },
         "marker": {
          "symbol": "circle"
         },
         "mode": "lines+markers",
         "name": "Lunes",
         "orientation": "v",
         "showlegend": true,
         "type": "scatter",
         "x": [
          "2024-06-17T12:19:59",
          "2024-03-25T18:38:12",
          "2024-03-18T19:00:35",
          "2024-02-26T18:07:55",
          "2024-02-19T19:07:50",
          "2024-02-12T15:24:52",
          "2024-01-29T19:13:51",
          "2024-01-22T19:39:33",
          "2023-10-02T15:35:57",
          "2023-09-18T19:42:52",
          "2023-09-11T15:33:38",
          "2023-08-21T19:32:22",
          "2023-08-07T19:09:15",
          "2023-07-24T07:06:36",
          "2023-07-17T15:11:52",
          "2023-07-10T15:25:18",
          "2023-07-03T15:31:28",
          "2023-06-26T15:33:17",
          "2023-06-19T15:38:42",
          "2023-06-12T15:16:00",
          "2023-06-05T15:15:58",
          "2023-03-13T20:01:51"
         ],
         "xaxis": "x",
         "y": [
          1.3,
          1.2,
          0.9,
          1.1,
          0.8,
          1.1,
          0.9,
          0.8,
          0.7,
          0.7,
          0.9,
          0.6,
          1.4,
          1.2,
          1.1,
          1,
          0.9,
          1,
          0.9,
          0.8,
          0.7,
          0.8
         ],
         "yaxis": "y"
        },
        {
         "hovertemplate": "dia_semana=Martes<br>Fecha=%{x}<br>Horas=%{y}<extra></extra>",
         "legendgroup": "Martes",
         "line": {
          "color": "#FFA15A",
          "dash": "solid"
         },
         "marker": {
          "symbol": "circle"
         },
         "mode": "lines+markers",
         "name": "Martes",
         "orientation": "v",
         "showlegend": true,
         "type": "scatter",
         "x": [
          "2024-03-26T19:01:18",
          "2024-03-19T19:27:27",
          "2024-03-12T18:51:18",
          "2024-03-05T19:10:12",
          "2024-02-27T19:21:21",
          "2024-02-06T18:50:20",
          "2024-01-16T18:37:58",
          "2024-01-02T19:20:43",
          "2023-12-26T19:32:29",
          "2023-12-19T08:09:53",
          "2023-12-12T19:41:30",
          "2023-12-05T18:43:01",
          "2023-11-28T18:59:50",
          "2023-11-21T19:38:53",
          "2023-11-14T19:10:21",
          "2023-11-07T18:11:51",
          "2023-10-31T08:00:11",
          "2023-10-24T19:13:13",
          "2023-10-17T19:22:47",
          "2023-10-10T19:36:34",
          "2023-09-05T19:25:38",
          "2023-08-29T08:13:31",
          "2023-08-15T19:04:14",
          "2023-08-08T16:16:13",
          "2023-08-01T15:22:24",
          "2023-07-25T07:37:59",
          "2023-07-18T15:13:23",
          "2023-07-11T18:59:08",
          "2023-07-04T15:29:56",
          "2023-06-27T15:29:07",
          "2023-06-13T15:45:41",
          "2023-06-06T15:14:15",
          "2023-05-30T15:49:25",
          "2023-05-23T15:40:27",
          "2023-05-16T15:11:55",
          "2023-04-25T16:31:51",
          "2023-04-18T15:17:40",
          "2023-04-11T19:47:33",
          "2023-04-04T16:49:52",
          "2023-03-28T16:51:43",
          "2023-03-21T15:07:40",
          "2023-03-07T20:18:11",
          "2023-02-28T20:19:37",
          "2023-02-14T20:21:18",
          "2023-02-07T20:04:40"
         ],
         "xaxis": "x",
         "y": [
          0.7,
          0.7,
          0.7,
          0.6,
          0.7,
          1.1,
          0.7,
          1.1,
          1,
          0.7,
          0.7,
          1.1,
          0.8,
          0.9,
          1.2,
          1.2,
          0.8,
          1.1,
          1,
          0.9,
          0.7,
          0.7,
          1.2,
          0.8,
          0.9,
          0.8,
          0.8,
          0.7,
          0.8,
          0.8,
          0.7,
          0.6,
          0.7,
          0.8,
          0.6,
          0.8,
          1,
          1,
          1.4,
          1,
          0.7,
          1,
          0.9,
          0.8,
          0.2
         ],
         "yaxis": "y"
        },
        {
         "hovertemplate": "dia_semana=Jueves<br>Fecha=%{x}<br>Horas=%{y}<extra></extra>",
         "legendgroup": "Jueves",
         "line": {
          "color": "#19d3f3",
          "dash": "solid"
         },
         "marker": {
          "symbol": "circle"
         },
         "mode": "lines+markers",
         "name": "Jueves",
         "orientation": "v",
         "showlegend": true,
         "type": "scatter",
         "x": [
          "2024-03-21T18:41:58",
          "2024-03-14T18:41:44",
          "2024-03-07T19:44:57",
          "2024-02-29T19:08:23",
          "2024-02-22T19:06:40",
          "2024-02-15T15:18:01",
          "2024-02-08T19:31:41",
          "2024-02-01T08:15:11",
          "2024-01-25T19:01:28",
          "2024-01-18T19:09:56",
          "2023-12-21T20:02:20",
          "2023-12-14T19:20:23",
          "2023-11-23T19:23:56",
          "2023-11-16T08:17:22",
          "2023-11-09T19:24:09",
          "2023-10-26T19:18:31",
          "2023-10-19T19:19:02",
          "2023-10-12T18:24:08",
          "2023-09-07T15:58:31",
          "2023-08-31T14:50:00",
          "2023-08-24T18:53:24",
          "2023-08-17T19:22:44",
          "2023-08-10T19:02:37",
          "2023-08-03T19:07:15",
          "2023-07-27T18:53:32",
          "2023-07-20T15:20:03",
          "2023-07-13T15:32:54",
          "2023-07-06T15:15:34",
          "2023-06-29T07:31:00",
          "2023-06-22T15:18:22",
          "2023-06-15T15:46:14",
          "2023-06-08T15:32:39",
          "2023-06-01T15:32:24",
          "2023-04-13T16:42:41",
          "2023-04-06T18:40:38",
          "2023-03-30T19:23:14",
          "2023-03-23T19:19:42",
          "2023-03-16T20:24:58",
          "2023-03-09T20:09:38",
          "2023-03-02T20:33:40",
          "2023-02-23T20:29:39",
          "2023-02-16T19:34:51",
          "2023-02-09T19:32:05"
         ],
         "xaxis": "x",
         "y": [
          1,
          0.9,
          0.6,
          1.2,
          0.9,
          0.7,
          0.8,
          0.6,
          0.7,
          0.7,
          0.7,
          0.7,
          0.9,
          1.2,
          1.1,
          1.1,
          1,
          1.1,
          1,
          0.8,
          0.5,
          1.4,
          1.8,
          1.5,
          1.3,
          1.3,
          1.1,
          0.8,
          0.9,
          0.9,
          0.8,
          0.8,
          0.7,
          1,
          0.6,
          0.6,
          0.8,
          0.8,
          0.5,
          0.4,
          0.5,
          0.5,
          0.4
         ],
         "yaxis": "y"
        },
        {
         "hovertemplate": "dia_semana=Sábado<br>Fecha=%{x}<br>Horas=%{y}<extra></extra>",
         "legendgroup": "Sábado",
         "line": {
          "color": "#FF6692",
          "dash": "solid"
         },
         "marker": {
          "symbol": "circle"
         },
         "mode": "lines+markers",
         "name": "Sábado",
         "orientation": "v",
         "showlegend": true,
         "type": "scatter",
         "x": [
          "2024-03-16T14:09:54",
          "2024-03-09T09:52:24",
          "2024-02-17T10:08:04",
          "2024-01-27T19:29:14",
          "2024-01-20T19:00:54",
          "2023-12-16T16:33:20",
          "2023-12-02T20:27:54",
          "2023-11-11T18:47:50",
          "2023-11-04T11:10:08",
          "2023-10-28T15:18:10",
          "2023-10-21T18:08:40",
          "2023-10-14T10:01:04",
          "2023-10-07T14:16:54",
          "2023-09-16T10:05:26",
          "2023-09-09T14:37:08",
          "2023-09-02T09:03:23",
          "2023-08-26T15:14:48",
          "2023-08-19T15:52:19",
          "2023-08-12T15:24:50",
          "2023-08-05T10:14:20",
          "2023-07-22T14:51:51",
          "2023-07-15T14:00:06",
          "2023-07-08T15:07:11",
          "2023-07-01T14:02:49",
          "2023-06-24T14:28:29",
          "2023-06-17T17:30:12",
          "2023-06-10T11:09:56",
          "2023-06-03T10:05:21",
          "2023-04-08T09:34:17",
          "2023-04-01T15:16:41",
          "2023-03-25T08:20:14",
          "2023-03-18T20:12:18",
          "2023-02-18T14:48:07",
          "2023-02-11T20:23:02"
         ],
         "xaxis": "x",
         "y": [
          1.1,
          0.2,
          1.3,
          0.8,
          0.9,
          0.3,
          0.7,
          1.1,
          0.8,
          1.1,
          1.1,
          1.1,
          0.9,
          0.9,
          1.2,
          1,
          0.3,
          0.8,
          2,
          1.5,
          1.5,
          1.3,
          1.2,
          1,
          1,
          0.9,
          0.8,
          0.8,
          2,
          1.4,
          1.9,
          0.7,
          1.1,
          1.3
         ],
         "yaxis": "y"
        }
       ],
       "layout": {
        "autosize": true,
        "legend": {
         "title": {
          "text": "dia_semana"
         },
         "tracegroupgap": 0
        },
        "template": {
         "data": {
          "bar": [
           {
            "error_x": {
             "color": "#2a3f5f"
            },
            "error_y": {
             "color": "#2a3f5f"
            },
            "marker": {
             "line": {
              "color": "#E5ECF6",
              "width": 0.5
             },
             "pattern": {
              "fillmode": "overlay",
              "size": 10,
              "solidity": 0.2
             }
            },
            "type": "bar"
           }
          ],
          "barpolar": [
           {
            "marker": {
             "line": {
              "color": "#E5ECF6",
              "width": 0.5
             },
             "pattern": {
              "fillmode": "overlay",
              "size": 10,
              "solidity": 0.2
             }
            },
            "type": "barpolar"
           }
          ],
          "carpet": [
           {
            "aaxis": {
             "endlinecolor": "#2a3f5f",
             "gridcolor": "white",
             "linecolor": "white",
             "minorgridcolor": "white",
             "startlinecolor": "#2a3f5f"
            },
            "baxis": {
             "endlinecolor": "#2a3f5f",
             "gridcolor": "white",
             "linecolor": "white",
             "minorgridcolor": "white",
             "startlinecolor": "#2a3f5f"
            },
            "type": "carpet"
           }
          ],
          "choropleth": [
           {
            "colorbar": {
             "outlinewidth": 0,
             "ticks": ""
            },
            "type": "choropleth"
           }
          ],
          "contour": [
           {
            "colorbar": {
             "outlinewidth": 0,
             "ticks": ""
            },
            "colorscale": [
             [
              0,
              "#0d0887"
             ],
             [
              0.1111111111111111,
              "#46039f"
             ],
             [
              0.2222222222222222,
              "#7201a8"
             ],
             [
              0.3333333333333333,
              "#9c179e"
             ],
             [
              0.4444444444444444,
              "#bd3786"
             ],
             [
              0.5555555555555556,
              "#d8576b"
             ],
             [
              0.6666666666666666,
              "#ed7953"
             ],
             [
              0.7777777777777778,
              "#fb9f3a"
             ],
             [
              0.8888888888888888,
              "#fdca26"
             ],
             [
              1,
              "#f0f921"
             ]
            ],
            "type": "contour"
           }
          ],
          "contourcarpet": [
           {
            "colorbar": {
             "outlinewidth": 0,
             "ticks": ""
            },
            "type": "contourcarpet"
           }
          ],
          "heatmap": [
           {
            "colorbar": {
             "outlinewidth": 0,
             "ticks": ""
            },
            "colorscale": [
             [
              0,
              "#0d0887"
             ],
             [
              0.1111111111111111,
              "#46039f"
             ],
             [
              0.2222222222222222,
              "#7201a8"
             ],
             [
              0.3333333333333333,
              "#9c179e"
             ],
             [
              0.4444444444444444,
              "#bd3786"
             ],
             [
              0.5555555555555556,
              "#d8576b"
             ],
             [
              0.6666666666666666,
              "#ed7953"
             ],
             [
              0.7777777777777778,
              "#fb9f3a"
             ],
             [
              0.8888888888888888,
              "#fdca26"
             ],
             [
              1,
              "#f0f921"
             ]
            ],
            "type": "heatmap"
           }
          ],
          "heatmapgl": [
           {
            "colorbar": {
             "outlinewidth": 0,
             "ticks": ""
            },
            "colorscale": [
             [
              0,
              "#0d0887"
             ],
             [
              0.1111111111111111,
              "#46039f"
             ],
             [
              0.2222222222222222,
              "#7201a8"
             ],
             [
              0.3333333333333333,
              "#9c179e"
             ],
             [
              0.4444444444444444,
              "#bd3786"
             ],
             [
              0.5555555555555556,
              "#d8576b"
             ],
             [
              0.6666666666666666,
              "#ed7953"
             ],
             [
              0.7777777777777778,
              "#fb9f3a"
             ],
             [
              0.8888888888888888,
              "#fdca26"
             ],
             [
              1,
              "#f0f921"
             ]
            ],
            "type": "heatmapgl"
           }
          ],
          "histogram": [
           {
            "marker": {
             "pattern": {
              "fillmode": "overlay",
              "size": 10,
              "solidity": 0.2
             }
            },
            "type": "histogram"
           }
          ],
          "histogram2d": [
           {
            "colorbar": {
             "outlinewidth": 0,
             "ticks": ""
            },
            "colorscale": [
             [
              0,
              "#0d0887"
             ],
             [
              0.1111111111111111,
              "#46039f"
             ],
             [
              0.2222222222222222,
              "#7201a8"
             ],
             [
              0.3333333333333333,
              "#9c179e"
             ],
             [
              0.4444444444444444,
              "#bd3786"
             ],
             [
              0.5555555555555556,
              "#d8576b"
             ],
             [
              0.6666666666666666,
              "#ed7953"
             ],
             [
              0.7777777777777778,
              "#fb9f3a"
             ],
             [
              0.8888888888888888,
              "#fdca26"
             ],
             [
              1,
              "#f0f921"
             ]
            ],
            "type": "histogram2d"
           }
          ],
          "histogram2dcontour": [
           {
            "colorbar": {
             "outlinewidth": 0,
             "ticks": ""
            },
            "colorscale": [
             [
              0,
              "#0d0887"
             ],
             [
              0.1111111111111111,
              "#46039f"
             ],
             [
              0.2222222222222222,
              "#7201a8"
             ],
             [
              0.3333333333333333,
              "#9c179e"
             ],
             [
              0.4444444444444444,
              "#bd3786"
             ],
             [
              0.5555555555555556,
              "#d8576b"
             ],
             [
              0.6666666666666666,
              "#ed7953"
             ],
             [
              0.7777777777777778,
              "#fb9f3a"
             ],
             [
              0.8888888888888888,
              "#fdca26"
             ],
             [
              1,
              "#f0f921"
             ]
            ],
            "type": "histogram2dcontour"
           }
          ],
          "mesh3d": [
           {
            "colorbar": {
             "outlinewidth": 0,
             "ticks": ""
            },
            "type": "mesh3d"
           }
          ],
          "parcoords": [
           {
            "line": {
             "colorbar": {
              "outlinewidth": 0,
              "ticks": ""
             }
            },
            "type": "parcoords"
           }
          ],
          "pie": [
           {
            "automargin": true,
            "type": "pie"
           }
          ],
          "scatter": [
           {
            "fillpattern": {
             "fillmode": "overlay",
             "size": 10,
             "solidity": 0.2
            },
            "type": "scatter"
           }
          ],
          "scatter3d": [
           {
            "line": {
             "colorbar": {
              "outlinewidth": 0,
              "ticks": ""
             }
            },
            "marker": {
             "colorbar": {
              "outlinewidth": 0,
              "ticks": ""
             }
            },
            "type": "scatter3d"
           }
          ],
          "scattercarpet": [
           {
            "marker": {
             "colorbar": {
              "outlinewidth": 0,
              "ticks": ""
             }
            },
            "type": "scattercarpet"
           }
          ],
          "scattergeo": [
           {
            "marker": {
             "colorbar": {
              "outlinewidth": 0,
              "ticks": ""
             }
            },
            "type": "scattergeo"
           }
          ],
          "scattergl": [
           {
            "marker": {
             "colorbar": {
              "outlinewidth": 0,
              "ticks": ""
             }
            },
            "type": "scattergl"
           }
          ],
          "scattermapbox": [
           {
            "marker": {
             "colorbar": {
              "outlinewidth": 0,
              "ticks": ""
             }
            },
            "type": "scattermapbox"
           }
          ],
          "scatterpolar": [
           {
            "marker": {
             "colorbar": {
              "outlinewidth": 0,
              "ticks": ""
             }
            },
            "type": "scatterpolar"
           }
          ],
          "scatterpolargl": [
           {
            "marker": {
             "colorbar": {
              "outlinewidth": 0,
              "ticks": ""
             }
            },
            "type": "scatterpolargl"
           }
          ],
          "scatterternary": [
           {
            "marker": {
             "colorbar": {
              "outlinewidth": 0,
              "ticks": ""
             }
            },
            "type": "scatterternary"
           }
          ],
          "surface": [
           {
            "colorbar": {
             "outlinewidth": 0,
             "ticks": ""
            },
            "colorscale": [
             [
              0,
              "#0d0887"
             ],
             [
              0.1111111111111111,
              "#46039f"
             ],
             [
              0.2222222222222222,
              "#7201a8"
             ],
             [
              0.3333333333333333,
              "#9c179e"
             ],
             [
              0.4444444444444444,
              "#bd3786"
             ],
             [
              0.5555555555555556,
              "#d8576b"
             ],
             [
              0.6666666666666666,
              "#ed7953"
             ],
             [
              0.7777777777777778,
              "#fb9f3a"
             ],
             [
              0.8888888888888888,
              "#fdca26"
             ],
             [
              1,
              "#f0f921"
             ]
            ],
            "type": "surface"
           }
          ],
          "table": [
           {
            "cells": {
             "fill": {
              "color": "#EBF0F8"
             },
             "line": {
              "color": "white"
             }
            },
            "header": {
             "fill": {
              "color": "#C8D4E3"
             },
             "line": {
              "color": "white"
             }
            },
            "type": "table"
           }
          ]
         },
         "layout": {
          "annotationdefaults": {
           "arrowcolor": "#2a3f5f",
           "arrowhead": 0,
           "arrowwidth": 1
          },
          "autotypenumbers": "strict",
          "coloraxis": {
           "colorbar": {
            "outlinewidth": 0,
            "ticks": ""
           }
          },
          "colorscale": {
           "diverging": [
            [
             0,
             "#8e0152"
            ],
            [
             0.1,
             "#c51b7d"
            ],
            [
             0.2,
             "#de77ae"
            ],
            [
             0.3,
             "#f1b6da"
            ],
            [
             0.4,
             "#fde0ef"
            ],
            [
             0.5,
             "#f7f7f7"
            ],
            [
             0.6,
             "#e6f5d0"
            ],
            [
             0.7,
             "#b8e186"
            ],
            [
             0.8,
             "#7fbc41"
            ],
            [
             0.9,
             "#4d9221"
            ],
            [
             1,
             "#276419"
            ]
           ],
           "sequential": [
            [
             0,
             "#0d0887"
            ],
            [
             0.1111111111111111,
             "#46039f"
            ],
            [
             0.2222222222222222,
             "#7201a8"
            ],
            [
             0.3333333333333333,
             "#9c179e"
            ],
            [
             0.4444444444444444,
             "#bd3786"
            ],
            [
             0.5555555555555556,
             "#d8576b"
            ],
            [
             0.6666666666666666,
             "#ed7953"
            ],
            [
             0.7777777777777778,
             "#fb9f3a"
            ],
            [
             0.8888888888888888,
             "#fdca26"
            ],
            [
             1,
             "#f0f921"
            ]
           ],
           "sequentialminus": [
            [
             0,
             "#0d0887"
            ],
            [
             0.1111111111111111,
             "#46039f"
            ],
            [
             0.2222222222222222,
             "#7201a8"
            ],
            [
             0.3333333333333333,
             "#9c179e"
            ],
            [
             0.4444444444444444,
             "#bd3786"
            ],
            [
             0.5555555555555556,
             "#d8576b"
            ],
            [
             0.6666666666666666,
             "#ed7953"
            ],
            [
             0.7777777777777778,
             "#fb9f3a"
            ],
            [
             0.8888888888888888,
             "#fdca26"
            ],
            [
             1,
             "#f0f921"
            ]
           ]
          },
          "colorway": [
           "#636efa",
           "#EF553B",
           "#00cc96",
           "#ab63fa",
           "#FFA15A",
           "#19d3f3",
           "#FF6692",
           "#B6E880",
           "#FF97FF",
           "#FECB52"
          ],
          "font": {
           "color": "#2a3f5f"
          },
          "geo": {
           "bgcolor": "white",
           "lakecolor": "white",
           "landcolor": "#E5ECF6",
           "showlakes": true,
           "showland": true,
           "subunitcolor": "white"
          },
          "hoverlabel": {
           "align": "left"
          },
          "hovermode": "closest",
          "mapbox": {
           "style": "light"
          },
          "paper_bgcolor": "white",
          "plot_bgcolor": "#E5ECF6",
          "polar": {
           "angularaxis": {
            "gridcolor": "white",
            "linecolor": "white",
            "ticks": ""
           },
           "bgcolor": "#E5ECF6",
           "radialaxis": {
            "gridcolor": "white",
            "linecolor": "white",
            "ticks": ""
           }
          },
          "scene": {
           "xaxis": {
            "backgroundcolor": "#E5ECF6",
            "gridcolor": "white",
            "gridwidth": 2,
            "linecolor": "white",
            "showbackground": true,
            "ticks": "",
            "zerolinecolor": "white"
           },
           "yaxis": {
            "backgroundcolor": "#E5ECF6",
            "gridcolor": "white",
            "gridwidth": 2,
            "linecolor": "white",
            "showbackground": true,
            "ticks": "",
            "zerolinecolor": "white"
           },
           "zaxis": {
            "backgroundcolor": "#E5ECF6",
            "gridcolor": "white",
            "gridwidth": 2,
            "linecolor": "white",
            "showbackground": true,
            "ticks": "",
            "zerolinecolor": "white"
           }
          },
          "shapedefaults": {
           "line": {
            "color": "#2a3f5f"
           }
          },
          "ternary": {
           "aaxis": {
            "gridcolor": "white",
            "linecolor": "white",
            "ticks": ""
           },
           "baxis": {
            "gridcolor": "white",
            "linecolor": "white",
            "ticks": ""
           },
           "bgcolor": "#E5ECF6",
           "caxis": {
            "gridcolor": "white",
            "linecolor": "white",
            "ticks": ""
           }
          },
          "title": {
           "x": 0.05
          },
          "xaxis": {
           "automargin": true,
           "gridcolor": "white",
           "linecolor": "white",
           "ticks": "",
           "title": {
            "standoff": 15
           },
           "zerolinecolor": "white",
           "zerolinewidth": 2
          },
          "yaxis": {
           "automargin": true,
           "gridcolor": "white",
           "linecolor": "white",
           "ticks": "",
           "title": {
            "standoff": 15
           },
           "zerolinecolor": "white",
           "zerolinewidth": 2
          }
         }
        },
        "title": {
         "text": "Horas entrenando por dia, segun dia"
        },
        "xaxis": {
         "anchor": "y",
         "autorange": true,
         "domain": [
          0,
          1
         ],
         "range": [
          "2023-01-05 22:43:41.4333",
          "2024-09-02 16:44:57.5667"
         ],
         "showspikes": false,
         "title": {
          "text": "Fecha"
         },
         "type": "date"
        },
        "yaxis": {
         "anchor": "x",
         "autorange": true,
         "domain": [
          0,
          1
         ],
         "range": [
          -0.21359223300970873,
          4.213592233009709
         ],
         "showspikes": false,
         "title": {
          "text": "Horas"
         },
         "type": "linear"
        }
       }
      },
      "image/png": "[encoded data removed]",
      "text/html": [
       "<div>                            <div id=\"9d1de7c4-5765-416f-873e-1c194a078c50\" class=\"plotly-graph-div\" style=\"height:525px; width:100%;\"></div>            <script type=\"text/javascript\">                require([\"plotly\"], function(Plotly) {                    window.PLOTLYENV=window.PLOTLYENV || {};                                    if (document.getElementById(\"9d1de7c4-5765-416f-873e-1c194a078c50\")) {                    Plotly.newPlot(                        \"9d1de7c4-5765-416f-873e-1c194a078c50\",                        [{\"hovertemplate\":\"dia_semana=Mi\\u00e9rcoles\\u003cbr\\u003eFecha=%{x}\\u003cbr\\u003eHoras=%{y}\\u003cextra\\u003e\\u003c\\u002fextra\\u003e\",\"legendgroup\":\"Mi\\u00e9rcoles\",\"line\":{\"color\":\"#636efa\",\"dash\":\"solid\"},\"marker\":{\"symbol\":\"circle\"},\"mode\":\"lines+markers\",\"name\":\"Mi\\u00e9rcoles\",\"orientation\":\"v\",\"showlegend\":true,\"x\":[\"2024-07-31T19:23:59\",\"2024-07-24T18:12:00\",\"2024-07-17T15:11:59\",\"2024-07-10T07:14:09\",\"2024-07-03T18:44:39\",\"2024-06-26T19:46:32\",\"2024-06-19T19:25:46\",\"2024-06-12T19:05:54\",\"2024-06-05T18:50:30\",\"2024-05-29T18:40:33\",\"2024-05-22T19:23:19\",\"2024-05-15T19:45:34\",\"2024-05-08T19:05:08\",\"2024-05-01T18:35:59\",\"2024-04-24T19:30:24\",\"2024-04-17T19:13:32\",\"2024-04-10T19:02:06\",\"2024-02-21T07:56:20\",\"2024-02-14T19:15:13\",\"2024-01-31T19:38:02\",\"2024-01-24T18:45:20\",\"2024-01-03T19:57:30\",\"2023-12-27T19:18:44\",\"2023-12-06T19:09:30\",\"2023-10-04T15:52:02\",\"2023-09-20T15:23:55\",\"2023-09-13T15:40:08\",\"2023-08-23T15:38:43\",\"2023-06-21T16:43:31\",\"2023-03-15T20:02:43\",\"2023-02-22T20:03:17\"],\"xaxis\":\"x\",\"y\":[0.8,1.0,1.2,1.1,0.8,0.8,0.9,0.8,0.9,0.9,0.9,0.9,0.8,0.9,0.9,1.1,1.0,0.1,0.8,0.8,0.7,0.7,0.7,0.7,0.7,0.6,0.9,0.6,0.8,1.0,0.9],\"yaxis\":\"y\",\"type\":\"scatter\"},{\"hovertemplate\":\"dia_semana=Viernes\\u003cbr\\u003eFecha=%{x}\\u003cbr\\u003eHoras=%{y}\\u003cextra\\u003e\\u003c\\u002fextra\\u003e\",\"legendgroup\":\"Viernes\",\"line\":{\"color\":\"#EF553B\",\"dash\":\"solid\"},\"marker\":{\"symbol\":\"circle\"},\"mode\":\"lines+markers\",\"name\":\"Viernes\",\"orientation\":\"v\",\"showlegend\":true,\"x\":[\"2024-07-26T18:57:16\",\"2024-07-19T17:31:37\",\"2024-07-12T18:54:19\",\"2024-07-05T18:16:47\",\"2024-06-28T19:21:59\",\"2024-06-21T17:16:45\",\"2024-06-14T19:16:44\",\"2024-06-07T19:29:55\",\"2024-05-31T19:34:00\",\"2024-05-17T19:42:56\",\"2024-05-10T19:06:56\",\"2024-05-03T18:57:11\",\"2024-04-26T18:47:33\",\"2024-04-19T19:46:58\",\"2024-04-12T19:11:49\",\"2024-04-05T18:35:06\",\"2024-03-22T19:35:55\",\"2023-12-08T19:33:37\",\"2023-11-03T15:16:46\",\"2023-09-22T15:33:42\"],\"xaxis\":\"x\",\"y\":[0.8,1.0,1.2,1.1,0.6,1.1,1.2,1.3,0.9,1.1,1.1,0.9,1.3,1.2,1.2,0.7,0.7,0.9,0.8,0.3],\"yaxis\":\"y\",\"type\":\"scatter\"},{\"hovertemplate\":\"dia_semana=Domingo\\u003cbr\\u003eFecha=%{x}\\u003cbr\\u003eHoras=%{y}\\u003cextra\\u003e\\u003c\\u002fextra\\u003e\",\"legendgroup\":\"Domingo\",\"line\":{\"color\":\"#00cc96\",\"dash\":\"solid\"},\"marker\":{\"symbol\":\"circle\"},\"mode\":\"lines+markers\",\"name\":\"Domingo\",\"orientation\":\"v\",\"showlegend\":true,\"x\":[\"2024-07-21T19:04:20\",\"2024-07-14T10:20:30\",\"2024-07-07T15:38:55\",\"2024-06-30T08:10:47\",\"2024-06-23T16:09:09\",\"2024-06-09T19:07:03\",\"2024-06-02T17:53:45\",\"2024-05-19T18:31:23\",\"2024-05-12T18:30:17\",\"2024-04-28T16:27:54\",\"2024-04-14T17:49:24\",\"2024-04-07T18:09:45\",\"2024-03-24T17:39:56\",\"2024-03-10T08:00:46\",\"2024-02-04T19:13:59\",\"2023-12-10T19:57:13\",\"2023-12-03T18:50:28\",\"2023-11-26T20:17:08\",\"2023-11-19T19:07:20\",\"2023-09-24T07:06:22\",\"2023-09-03T16:54:55\",\"2023-08-27T07:09:57\",\"2023-07-30T16:41:24\",\"2023-02-26T08:10:23\"],\"xaxis\":\"x\",\"y\":[1.0,1.4,1.5,0.7,1.3,1.2,1.0,1.2,1.0,1.5,1.2,1.3,1.2,0.7,1.0,0.8,1.1,0.8,1.0,3.9,1.5,1.9,2.0,1.5],\"yaxis\":\"y\",\"type\":\"scatter\"},{\"hovertemplate\":\"dia_semana=Lunes\\u003cbr\\u003eFecha=%{x}\\u003cbr\\u003eHoras=%{y}\\u003cextra\\u003e\\u003c\\u002fextra\\u003e\",\"legendgroup\":\"Lunes\",\"line\":{\"color\":\"#ab63fa\",\"dash\":\"solid\"},\"marker\":{\"symbol\":\"circle\"},\"mode\":\"lines+markers\",\"name\":\"Lunes\",\"orientation\":\"v\",\"showlegend\":true,\"x\":[\"2024-06-17T12:19:59\",\"2024-03-25T18:38:12\",\"2024-03-18T19:00:35\",\"2024-02-26T18:07:55\",\"2024-02-19T19:07:50\",\"2024-02-12T15:24:52\",\"2024-01-29T19:13:51\",\"2024-01-22T19:39:33\",\"2023-10-02T15:35:57\",\"2023-09-18T19:42:52\",\"2023-09-11T15:33:38\",\"2023-08-21T19:32:22\",\"2023-08-07T19:09:15\",\"2023-07-24T07:06:36\",\"2023-07-17T15:11:52\",\"2023-07-10T15:25:18\",\"2023-07-03T15:31:28\",\"2023-06-26T15:33:17\",\"2023-06-19T15:38:42\",\"2023-06-12T15:16:00\",\"2023-06-05T15:15:58\",\"2023-03-13T20:01:51\"],\"xaxis\":\"x\",\"y\":[1.3,1.2,0.9,1.1,0.8,1.1,0.9,0.8,0.7,0.7,0.9,0.6,1.4,1.2,1.1,1.0,0.9,1.0,0.9,0.8,0.7,0.8],\"yaxis\":\"y\",\"type\":\"scatter\"},{\"hovertemplate\":\"dia_semana=Martes\\u003cbr\\u003eFecha=%{x}\\u003cbr\\u003eHoras=%{y}\\u003cextra\\u003e\\u003c\\u002fextra\\u003e\",\"legendgroup\":\"Martes\",\"line\":{\"color\":\"#FFA15A\",\"dash\":\"solid\"},\"marker\":{\"symbol\":\"circle\"},\"mode\":\"lines+markers\",\"name\":\"Martes\",\"orientation\":\"v\",\"showlegend\":true,\"x\":[\"2024-03-26T19:01:18\",\"2024-03-19T19:27:27\",\"2024-03-12T18:51:18\",\"2024-03-05T19:10:12\",\"2024-02-27T19:21:21\",\"2024-02-06T18:50:20\",\"2024-01-16T18:37:58\",\"2024-01-02T19:20:43\",\"2023-12-26T19:32:29\",\"2023-12-19T08:09:53\",\"2023-12-12T19:41:30\",\"2023-12-05T18:43:01\",\"2023-11-28T18:59:50\",\"2023-11-21T19:38:53\",\"2023-11-14T19:10:21\",\"2023-11-07T18:11:51\",\"2023-10-31T08:00:11\",\"2023-10-24T19:13:13\",\"2023-10-17T19:22:47\",\"2023-10-10T19:36:34\",\"2023-09-05T19:25:38\",\"2023-08-29T08:13:31\",\"2023-08-15T19:04:14\",\"2023-08-08T16:16:13\",\"2023-08-01T15:22:24\",\"2023-07-25T07:37:59\",\"2023-07-18T15:13:23\",\"2023-07-11T18:59:08\",\"2023-07-04T15:29:56\",\"2023-06-27T15:29:07\",\"2023-06-13T15:45:41\",\"2023-06-06T15:14:15\",\"2023-05-30T15:49:25\",\"2023-05-23T15:40:27\",\"2023-05-16T15:11:55\",\"2023-04-25T16:31:51\",\"2023-04-18T15:17:40\",\"2023-04-11T19:47:33\",\"2023-04-04T16:49:52\",\"2023-03-28T16:51:43\",\"2023-03-21T15:07:40\",\"2023-03-07T20:18:11\",\"2023-02-28T20:19:37\",\"2023-02-14T20:21:18\",\"2023-02-07T20:04:40\"],\"xaxis\":\"x\",\"y\":[0.7,0.7,0.7,0.6,0.7,1.1,0.7,1.1,1.0,0.7,0.7,1.1,0.8,0.9,1.2,1.2,0.8,1.1,1.0,0.9,0.7,0.7,1.2,0.8,0.9,0.8,0.8,0.7,0.8,0.8,0.7,0.6,0.7,0.8,0.6,0.8,1.0,1.0,1.4,1.0,0.7,1.0,0.9,0.8,0.2],\"yaxis\":\"y\",\"type\":\"scatter\"},{\"hovertemplate\":\"dia_semana=Jueves\\u003cbr\\u003eFecha=%{x}\\u003cbr\\u003eHoras=%{y}\\u003cextra\\u003e\\u003c\\u002fextra\\u003e\",\"legendgroup\":\"Jueves\",\"line\":{\"color\":\"#19d3f3\",\"dash\":\"solid\"},\"marker\":{\"symbol\":\"circle\"},\"mode\":\"lines+markers\",\"name\":\"Jueves\",\"orientation\":\"v\",\"showlegend\":true,\"x\":[\"2024-03-21T18:41:58\",\"2024-03-14T18:41:44\",\"2024-03-07T19:44:57\",\"2024-02-29T19:08:23\",\"2024-02-22T19:06:40\",\"2024-02-15T15:18:01\",\"2024-02-08T19:31:41\",\"2024-02-01T08:15:11\",\"2024-01-25T19:01:28\",\"2024-01-18T19:09:56\",\"2023-12-21T20:02:20\",\"2023-12-14T19:20:23\",\"2023-11-23T19:23:56\",\"2023-11-16T08:17:22\",\"2023-11-09T19:24:09\",\"2023-10-26T19:18:31\",\"2023-10-19T19:19:02\",\"2023-10-12T18:24:08\",\"2023-09-07T15:58:31\",\"2023-08-31T14:50:00\",\"2023-08-24T18:53:24\",\"2023-08-17T19:22:44\",\"2023-08-10T19:02:37\",\"2023-08-03T19:07:15\",\"2023-07-27T18:53:32\",\"2023-07-20T15:20:03\",\"2023-07-13T15:32:54\",\"2023-07-06T15:15:34\",\"2023-06-29T07:31:00\",\"2023-06-22T15:18:22\",\"2023-06-15T15:46:14\",\"2023-06-08T15:32:39\",\"2023-06-01T15:32:24\",\"2023-04-13T16:42:41\",\"2023-04-06T18:40:38\",\"2023-03-30T19:23:14\",\"2023-03-23T19:19:42\",\"2023-03-16T20:24:58\",\"2023-03-09T20:09:38\",\"2023-03-02T20:33:40\",\"2023-02-23T20:29:39\",\"2023-02-16T19:34:51\",\"2023-02-09T19:32:05\"],\"xaxis\":\"x\",\"y\":[1.0,0.9,0.6,1.2,0.9,0.7,0.8,0.6,0.7,0.7,0.7,0.7,0.9,1.2,1.1,1.1,1.0,1.1,1.0,0.8,0.5,1.4,1.8,1.5,1.3,1.3,1.1,0.8,0.9,0.9,0.8,0.8,0.7,1.0,0.6,0.6,0.8,0.8,0.5,0.4,0.5,0.5,0.4],\"yaxis\":\"y\",\"type\":\"scatter\"},{\"hovertemplate\":\"dia_semana=S\\u00e1bado\\u003cbr\\u003eFecha=%{x}\\u003cbr\\u003eHoras=%{y}\\u003cextra\\u003e\\u003c\\u002fextra\\u003e\",\"legendgroup\":\"S\\u00e1bado\",\"line\":{\"color\":\"#FF6692\",\"dash\":\"solid\"},\"marker\":{\"symbol\":\"circle\"},\"mode\":\"lines+markers\",\"name\":\"S\\u00e1bado\",\"orientation\":\"v\",\"showlegend\":true,\"x\":[\"2024-03-16T14:09:54\",\"2024-03-09T09:52:24\",\"2024-02-17T10:08:04\",\"2024-01-27T19:29:14\",\"2024-01-20T19:00:54\",\"2023-12-16T16:33:20\",\"2023-12-02T20:27:54\",\"2023-11-11T18:47:50\",\"2023-11-04T11:10:08\",\"2023-10-28T15:18:10\",\"2023-10-21T18:08:40\",\"2023-10-14T10:01:04\",\"2023-10-07T14:16:54\",\"2023-09-16T10:05:26\",\"2023-09-09T14:37:08\",\"2023-09-02T09:03:23\",\"2023-08-26T15:14:48\",\"2023-08-19T15:52:19\",\"2023-08-12T15:24:50\",\"2023-08-05T10:14:20\",\"2023-07-22T14:51:51\",\"2023-07-15T14:00:06\",\"2023-07-08T15:07:11\",\"2023-07-01T14:02:49\",\"2023-06-24T14:28:29\",\"2023-06-17T17:30:12\",\"2023-06-10T11:09:56\",\"2023-06-03T10:05:21\",\"2023-04-08T09:34:17\",\"2023-04-01T15:16:41\",\"2023-03-25T08:20:14\",\"2023-03-18T20:12:18\",\"2023-02-18T14:48:07\",\"2023-02-11T20:23:02\"],\"xaxis\":\"x\",\"y\":[1.1,0.2,1.3,0.8,0.9,0.3,0.7,1.1,0.8,1.1,1.1,1.1,0.9,0.9,1.2,1.0,0.3,0.8,2.0,1.5,1.5,1.3,1.2,1.0,1.0,0.9,0.8,0.8,2.0,1.4,1.9,0.7,1.1,1.3],\"yaxis\":\"y\",\"type\":\"scatter\"}],                        {\"template\":{\"data\":{\"histogram2dcontour\":[{\"type\":\"histogram2dcontour\",\"colorbar\":{\"outlinewidth\":0,\"ticks\":\"\"},\"colorscale\":[[0.0,\"#0d0887\"],[0.1111111111111111,\"#46039f\"],[0.2222222222222222,\"#7201a8\"],[0.3333333333333333,\"#9c179e\"],[0.4444444444444444,\"#bd3786\"],[0.5555555555555556,\"#d8576b\"],[0.6666666666666666,\"#ed7953\"],[0.7777777777777778,\"#fb9f3a\"],[0.8888888888888888,\"#fdca26\"],[1.0,\"#f0f921\"]]}],\"choropleth\":[{\"type\":\"choropleth\",\"colorbar\":{\"outlinewidth\":0,\"ticks\":\"\"}}],\"histogram2d\":[{\"type\":\"histogram2d\",\"colorbar\":{\"outlinewidth\":0,\"ticks\":\"\"},\"colorscale\":[[0.0,\"#0d0887\"],[0.1111111111111111,\"#46039f\"],[0.2222222222222222,\"#7201a8\"],[0.3333333333333333,\"#9c179e\"],[0.4444444444444444,\"#bd3786\"],[0.5555555555555556,\"#d8576b\"],[0.6666666666666666,\"#ed7953\"],[0.7777777777777778,\"#fb9f3a\"],[0.8888888888888888,\"#fdca26\"],[1.0,\"#f0f921\"]]}],\"heatmap\":[{\"type\":\"heatmap\",\"colorbar\":{\"outlinewidth\":0,\"ticks\":\"\"},\"colorscale\":[[0.0,\"#0d0887\"],[0.1111111111111111,\"#46039f\"],[0.2222222222222222,\"#7201a8\"],[0.3333333333333333,\"#9c179e\"],[0.4444444444444444,\"#bd3786\"],[0.5555555555555556,\"#d8576b\"],[0.6666666666666666,\"#ed7953\"],[0.7777777777777778,\"#fb9f3a\"],[0.8888888888888888,\"#fdca26\"],[1.0,\"#f0f921\"]]}],\"heatmapgl\":[{\"type\":\"heatmapgl\",\"colorbar\":{\"outlinewidth\":0,\"ticks\":\"\"},\"colorscale\":[[0.0,\"#0d0887\"],[0.1111111111111111,\"#46039f\"],[0.2222222222222222,\"#7201a8\"],[0.3333333333333333,\"#9c179e\"],[0.4444444444444444,\"#bd3786\"],[0.5555555555555556,\"#d8576b\"],[0.6666666666666666,\"#ed7953\"],[0.7777777777777778,\"#fb9f3a\"],[0.8888888888888888,\"#fdca26\"],[1.0,\"#f0f921\"]]}],\"contourcarpet\":[{\"type\":\"contourcarpet\",\"colorbar\":{\"outlinewidth\":0,\"ticks\":\"\"}}],\"contour\":[{\"type\":\"contour\",\"colorbar\":{\"outlinewidth\":0,\"ticks\":\"\"},\"colorscale\":[[0.0,\"#0d0887\"],[0.1111111111111111,\"#46039f\"],[0.2222222222222222,\"#7201a8\"],[0.3333333333333333,\"#9c179e\"],[0.4444444444444444,\"#bd3786\"],[0.5555555555555556,\"#d8576b\"],[0.6666666666666666,\"#ed7953\"],[0.7777777777777778,\"#fb9f3a\"],[0.8888888888888888,\"#fdca26\"],[1.0,\"#f0f921\"]]}],\"surface\":[{\"type\":\"surface\",\"colorbar\":{\"outlinewidth\":0,\"ticks\":\"\"},\"colorscale\":[[0.0,\"#0d0887\"],[0.1111111111111111,\"#46039f\"],[0.2222222222222222,\"#7201a8\"],[0.3333333333333333,\"#9c179e\"],[0.4444444444444444,\"#bd3786\"],[0.5555555555555556,\"#d8576b\"],[0.6666666666666666,\"#ed7953\"],[0.7777777777777778,\"#fb9f3a\"],[0.8888888888888888,\"#fdca26\"],[1.0,\"#f0f921\"]]}],\"mesh3d\":[{\"type\":\"mesh3d\",\"colorbar\":{\"outlinewidth\":0,\"ticks\":\"\"}}],\"scatter\":[{\"fillpattern\":{\"fillmode\":\"overlay\",\"size\":10,\"solidity\":0.2},\"type\":\"scatter\"}],\"parcoords\":[{\"type\":\"parcoords\",\"line\":{\"colorbar\":{\"outlinewidth\":0,\"ticks\":\"\"}}}],\"scatterpolargl\":[{\"type\":\"scatterpolargl\",\"marker\":{\"colorbar\":{\"outlinewidth\":0,\"ticks\":\"\"}}}],\"bar\":[{\"error_x\":{\"color\":\"#2a3f5f\"},\"error_y\":{\"color\":\"#2a3f5f\"},\"marker\":{\"line\":{\"color\":\"#E5ECF6\",\"width\":0.5},\"pattern\":{\"fillmode\":\"overlay\",\"size\":10,\"solidity\":0.2}},\"type\":\"bar\"}],\"scattergeo\":[{\"type\":\"scattergeo\",\"marker\":{\"colorbar\":{\"outlinewidth\":0,\"ticks\":\"\"}}}],\"scatterpolar\":[{\"type\":\"scatterpolar\",\"marker\":{\"colorbar\":{\"outlinewidth\":0,\"ticks\":\"\"}}}],\"histogram\":[{\"marker\":{\"pattern\":{\"fillmode\":\"overlay\",\"size\":10,\"solidity\":0.2}},\"type\":\"histogram\"}],\"scattergl\":[{\"type\":\"scattergl\",\"marker\":{\"colorbar\":{\"outlinewidth\":0,\"ticks\":\"\"}}}],\"scatter3d\":[{\"type\":\"scatter3d\",\"line\":{\"colorbar\":{\"outlinewidth\":0,\"ticks\":\"\"}},\"marker\":{\"colorbar\":{\"outlinewidth\":0,\"ticks\":\"\"}}}],\"scattermapbox\":[{\"type\":\"scattermapbox\",\"marker\":{\"colorbar\":{\"outlinewidth\":0,\"ticks\":\"\"}}}],\"scatterternary\":[{\"type\":\"scatterternary\",\"marker\":{\"colorbar\":{\"outlinewidth\":0,\"ticks\":\"\"}}}],\"scattercarpet\":[{\"type\":\"scattercarpet\",\"marker\":{\"colorbar\":{\"outlinewidth\":0,\"ticks\":\"\"}}}],\"carpet\":[{\"aaxis\":{\"endlinecolor\":\"#2a3f5f\",\"gridcolor\":\"white\",\"linecolor\":\"white\",\"minorgridcolor\":\"white\",\"startlinecolor\":\"#2a3f5f\"},\"baxis\":{\"endlinecolor\":\"#2a3f5f\",\"gridcolor\":\"white\",\"linecolor\":\"white\",\"minorgridcolor\":\"white\",\"startlinecolor\":\"#2a3f5f\"},\"type\":\"carpet\"}],\"table\":[{\"cells\":{\"fill\":{\"color\":\"#EBF0F8\"},\"line\":{\"color\":\"white\"}},\"header\":{\"fill\":{\"color\":\"#C8D4E3\"},\"line\":{\"color\":\"white\"}},\"type\":\"table\"}],\"barpolar\":[{\"marker\":{\"line\":{\"color\":\"#E5ECF6\",\"width\":0.5},\"pattern\":{\"fillmode\":\"overlay\",\"size\":10,\"solidity\":0.2}},\"type\":\"barpolar\"}],\"pie\":[{\"automargin\":true,\"type\":\"pie\"}]},\"layout\":{\"autotypenumbers\":\"strict\",\"colorway\":[\"#636efa\",\"#EF553B\",\"#00cc96\",\"#ab63fa\",\"#FFA15A\",\"#19d3f3\",\"#FF6692\",\"#B6E880\",\"#FF97FF\",\"#FECB52\"],\"font\":{\"color\":\"#2a3f5f\"},\"hovermode\":\"closest\",\"hoverlabel\":{\"align\":\"left\"},\"paper_bgcolor\":\"white\",\"plot_bgcolor\":\"#E5ECF6\",\"polar\":{\"bgcolor\":\"#E5ECF6\",\"angularaxis\":{\"gridcolor\":\"white\",\"linecolor\":\"white\",\"ticks\":\"\"},\"radialaxis\":{\"gridcolor\":\"white\",\"linecolor\":\"white\",\"ticks\":\"\"}},\"ternary\":{\"bgcolor\":\"#E5ECF6\",\"aaxis\":{\"gridcolor\":\"white\",\"linecolor\":\"white\",\"ticks\":\"\"},\"baxis\":{\"gridcolor\":\"white\",\"linecolor\":\"white\",\"ticks\":\"\"},\"caxis\":{\"gridcolor\":\"white\",\"linecolor\":\"white\",\"ticks\":\"\"}},\"coloraxis\":{\"colorbar\":{\"outlinewidth\":0,\"ticks\":\"\"}},\"colorscale\":{\"sequential\":[[0.0,\"#0d0887\"],[0.1111111111111111,\"#46039f\"],[0.2222222222222222,\"#7201a8\"],[0.3333333333333333,\"#9c179e\"],[0.4444444444444444,\"#bd3786\"],[0.5555555555555556,\"#d8576b\"],[0.6666666666666666,\"#ed7953\"],[0.7777777777777778,\"#fb9f3a\"],[0.8888888888888888,\"#fdca26\"],[1.0,\"#f0f921\"]],\"sequentialminus\":[[0.0,\"#0d0887\"],[0.1111111111111111,\"#46039f\"],[0.2222222222222222,\"#7201a8\"],[0.3333333333333333,\"#9c179e\"],[0.4444444444444444,\"#bd3786\"],[0.5555555555555556,\"#d8576b\"],[0.6666666666666666,\"#ed7953\"],[0.7777777777777778,\"#fb9f3a\"],[0.8888888888888888,\"#fdca26\"],[1.0,\"#f0f921\"]],\"diverging\":[[0,\"#8e0152\"],[0.1,\"#c51b7d\"],[0.2,\"#de77ae\"],[0.3,\"#f1b6da\"],[0.4,\"#fde0ef\"],[0.5,\"#f7f7f7\"],[0.6,\"#e6f5d0\"],[0.7,\"#b8e186\"],[0.8,\"#7fbc41\"],[0.9,\"#4d9221\"],[1,\"#276419\"]]},\"xaxis\":{\"gridcolor\":\"white\",\"linecolor\":\"white\",\"ticks\":\"\",\"title\":{\"standoff\":15},\"zerolinecolor\":\"white\",\"automargin\":true,\"zerolinewidth\":2},\"yaxis\":{\"gridcolor\":\"white\",\"linecolor\":\"white\",\"ticks\":\"\",\"title\":{\"standoff\":15},\"zerolinecolor\":\"white\",\"automargin\":true,\"zerolinewidth\":2},\"scene\":{\"xaxis\":{\"backgroundcolor\":\"#E5ECF6\",\"gridcolor\":\"white\",\"linecolor\":\"white\",\"showbackground\":true,\"ticks\":\"\",\"zerolinecolor\":\"white\",\"gridwidth\":2},\"yaxis\":{\"backgroundcolor\":\"#E5ECF6\",\"gridcolor\":\"white\",\"linecolor\":\"white\",\"showbackground\":true,\"ticks\":\"\",\"zerolinecolor\":\"white\",\"gridwidth\":2},\"zaxis\":{\"backgroundcolor\":\"#E5ECF6\",\"gridcolor\":\"white\",\"linecolor\":\"white\",\"showbackground\":true,\"ticks\":\"\",\"zerolinecolor\":\"white\",\"gridwidth\":2}},\"shapedefaults\":{\"line\":{\"color\":\"#2a3f5f\"}},\"annotationdefaults\":{\"arrowcolor\":\"#2a3f5f\",\"arrowhead\":0,\"arrowwidth\":1},\"geo\":{\"bgcolor\":\"white\",\"landcolor\":\"#E5ECF6\",\"subunitcolor\":\"white\",\"showland\":true,\"showlakes\":true,\"lakecolor\":\"white\"},\"title\":{\"x\":0.05},\"mapbox\":{\"style\":\"light\"}}},\"xaxis\":{\"anchor\":\"y\",\"domain\":[0.0,1.0],\"title\":{\"text\":\"Fecha\"}},\"yaxis\":{\"anchor\":\"x\",\"domain\":[0.0,1.0],\"title\":{\"text\":\"Horas\"}},\"legend\":{\"title\":{\"text\":\"dia_semana\"},\"tracegroupgap\":0},\"title\":{\"text\":\"Horas entrenando por dia, segun dia\"}},                        {\"responsive\": true}                    ).then(function(){\n",
       "                            \n",
       "var gd = document.getElementById('9d1de7c4-5765-416f-873e-1c194a078c50');\n",
       "var x = new MutationObserver(function (mutations, observer) {{\n",
       "        var display = window.getComputedStyle(gd).display;\n",
       "        if (!display || display === 'none') {{\n",
       "            console.log([gd, 'removed!']);\n",
       "            Plotly.purge(gd);\n",
       "            observer.disconnect();\n",
       "        }}\n",
       "}});\n",
       "\n",
       "// Listen for the removal of the full notebook cells\n",
       "var notebookContainer = gd.closest('#notebook-container');\n",
       "if (notebookContainer) {{\n",
       "    x.observe(notebookContainer, {childList: true});\n",
       "}}\n",
       "\n",
       "// Listen for the clearing of the current output cell\n",
       "var outputEl = gd.closest('.output');\n",
       "if (outputEl) {{\n",
       "    x.observe(outputEl, {childList: true});\n",
       "}}\n",
       "\n",
       "                        })                };                });            </script>        </div>"
      ]
     },
     "metadata": {},
     "output_type": "display_data"
    }
   ],
   "source": [
    "run_by_day['dia_semana'] = run_by_day.dia_semana.replace(days_of_week_dict)\n",
    "fig = px.line(run_by_day, y=\"tiempo_horas\",color='dia_semana', markers=True, labels={'fecha':'Fecha','tiempo_horas':'Horas'}, title='Horas entrenando por dia, segun dia')\n",
    "fig.show()"
   ]
  },
  {
   "cell_type": "markdown",
   "id": "84a53727-44b8-44b7-9706-da9069ca7ab3",
   "metadata": {},
   "source": [
    "Si bien pensaba que la diferencia iba a ser mas notoria, cuando se hace zoom a un periodo puede verse que las lineas rosa y verde (sabado y domingo) tienen mayor altura que las de la semana. Normal ya que los fin de semana suele hacerse el fondo.\n",
    "\n",
    "La mayoria de los entrenamientos rondan la hora de duracion."
   ]
  },
  {
   "cell_type": "markdown",
   "id": "3a91b4f1-82c6-476b-acba-c6959c7665b7",
   "metadata": {},
   "source": [
    "#### Distancia en funcion de tiempo\n",
    "\n",
    "Veamos si hay correlacion entre la duracion de la actividad y la distancia cubierta."
   ]
  },
  {
   "cell_type": "code",
   "execution_count": 108,
   "id": "868dd8bb-f0b8-4902-87f8-78810f338ea7",
   "metadata": {
    "scrolled": true
   },
   "outputs": [
    {
     "data": {
      "image/png": "[encoded data removed]",
      "text/plain": [
       "<Figure size 640x480 with 1 Axes>"
      ]
     },
     "metadata": {},
     "output_type": "display_data"
    }
   ],
   "source": [
    "sns.scatterplot(run_by_day, x='tiempo_horas', y='distancia',)\n",
    "plt.title('Distancia en funcion de tiempo')\n",
    "plt.xlabel('Horas')\n",
    "plt.ylabel('Kilometros')\n",
    "plt.show()"
   ]
  },
  {
   "cell_type": "markdown",
   "id": "a8296cae-f51a-40e0-9ef3-7159cb50e00b",
   "metadata": {},
   "source": [
    "Y si la hay entre la duracion de la actividad y las calorias gastadas."
   ]
  },
  {
   "cell_type": "code",
   "execution_count": 109,
   "id": "5a39540f-4347-45eb-afcd-adbacca4f8ab",
   "metadata": {
    "scrolled": true
   },
   "outputs": [
    {
     "data": {
      "image/png": "[encoded data removed]",
      "text/plain": [
       "<Figure size 640x480 with 1 Axes>"
      ]
     },
     "metadata": {},
     "output_type": "display_data"
    }
   ],
   "source": [
    "sns.scatterplot(run_by_day, x='tiempo_horas', y='calorias')\n",
    "plt.title('Calorias en funcion de tiempo')\n",
    "plt.xlabel('Horas')\n",
    "plt.ylabel('Calorias')\n",
    "plt.show()"
   ]
  },
  {
   "cell_type": "markdown",
   "id": "88f10688-adb3-4932-9505-c20e8fe6681b",
   "metadata": {},
   "source": [
    "Las relaciones son casi lineales."
   ]
  },
  {
   "cell_type": "code",
   "execution_count": 113,
   "id": "fd9c6a16-e7f0-42b6-86e0-7b6e4fadff48",
   "metadata": {},
   "outputs": [
    {
     "data": {
      "text/html": [
       "<div>\n",
       "<style scoped>\n",
       "    .dataframe tbody tr th:only-of-type {\n",
       "        vertical-align: middle;\n",
       "    }\n",
       "\n",
       "    .dataframe tbody tr th {\n",
       "        vertical-align: top;\n",
       "    }\n",
       "\n",
       "    .dataframe thead th {\n",
       "        text-align: right;\n",
       "    }\n",
       "</style>\n",
       "<table border=\"1\" class=\"dataframe\">\n",
       "  <thead>\n",
       "    <tr style=\"text-align: right;\">\n",
       "      <th></th>\n",
       "      <th>fecha</th>\n",
       "      <th>titulo</th>\n",
       "      <th>distancia</th>\n",
       "      <th>calorias</th>\n",
       "      <th>tiempo</th>\n",
       "      <th>frecuencia_cardiaca_media</th>\n",
       "      <th>fc_maxima</th>\n",
       "      <th>ritmo_medio</th>\n",
       "      <th>ascenso_total</th>\n",
       "      <th>descenso_total</th>\n",
       "      <th>altura_minima</th>\n",
       "      <th>altura_maxima</th>\n",
       "      <th>anio</th>\n",
       "      <th>mes</th>\n",
       "      <th>dia</th>\n",
       "      <th>dia_semana</th>\n",
       "      <th>tiempo_timedelta</th>\n",
       "      <th>ritmo_medio_timedelta</th>\n",
       "    </tr>\n",
       "  </thead>\n",
       "  <tbody>\n",
       "    <tr>\n",
       "      <th>124</th>\n",
       "      <td>2023-09-24 07:06:22</td>\n",
       "      <td>Ciudad de Buenos Aires Carrera</td>\n",
       "      <td>42.77</td>\n",
       "      <td>3172</td>\n",
       "      <td>03:54:33</td>\n",
       "      <td>167</td>\n",
       "      <td>187</td>\n",
       "      <td>5:29</td>\n",
       "      <td>359</td>\n",
       "      <td>358.0</td>\n",
       "      <td>-24</td>\n",
       "      <td>55</td>\n",
       "      <td>2023</td>\n",
       "      <td>9</td>\n",
       "      <td>24</td>\n",
       "      <td>6</td>\n",
       "      <td>0 days 03:54:33</td>\n",
       "      <td>0 days 00:05:29</td>\n",
       "    </tr>\n",
       "  </tbody>\n",
       "</table>\n",
       "</div>"
      ],
      "text/plain": [
       "                  fecha                          titulo  distancia  calorias  \\\n",
       "124 2023-09-24 07:06:22  Ciudad de Buenos Aires Carrera      42.77      3172   \n",
       "\n",
       "       tiempo  frecuencia_cardiaca_media  fc_maxima ritmo_medio  \\\n",
       "124  03:54:33                        167        187        5:29   \n",
       "\n",
       "     ascenso_total  descenso_total  altura_minima  altura_maxima  anio  mes  \\\n",
       "124            359           358.0            -24             55  2023    9   \n",
       "\n",
       "     dia  dia_semana tiempo_timedelta ritmo_medio_timedelta  \n",
       "124   24           6  0 days 03:54:33       0 days 00:05:29  "
      ]
     },
     "execution_count": 113,
     "metadata": {},
     "output_type": "execute_result"
    }
   ],
   "source": [
    "run[run.distancia == run.distancia.max()]"
   ]
  }
 ],
 "metadata": {
  "kernelspec": {
   "display_name": "Python 3 (ipykernel)",
   "language": "python",
   "name": "python3"
  },
  "language_info": {
   "codemirror_mode": {
    "name": "ipython",
    "version": 3
   },
   "file_extension": ".py",
   "mimetype": "text/x-python",
   "name": "python",
   "nbconvert_exporter": "python",
   "pygments_lexer": "ipython3",
   "version": "3.11.9"
  }
 },
 "nbformat": 4,
 "nbformat_minor": 5
}
