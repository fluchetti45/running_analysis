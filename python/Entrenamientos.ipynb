{
 "cells": [
  {
   "cell_type": "markdown",
   "id": "1d87566b-e17f-4043-abf5-bde90c9dbf41",
   "metadata": {},
   "source": [
    "# Entrenamientos\n",
    "\n"
   ]
  },
  {
   "cell_type": "markdown",
   "id": "3fd8bcd5-1c3f-4e68-b501-a2bc46e9e7c8",
   "metadata": {},
   "source": [
    "Importo librerias utiles"
   ]
  },
  {
   "cell_type": "code",
   "execution_count": 3,
   "id": "1ab5a0fc-0fb2-405e-85d1-35930cccfef6",
   "metadata": {},
   "outputs": [],
   "source": [
    "import numpy as np\n",
    "import pandas as pd\n",
    "import matplotlib.pyplot as plt\n",
    "import re\n",
    "%matplotlib inline"
   ]
  },
  {
   "cell_type": "code",
   "execution_count": 4,
   "id": "665c8de0-0229-4f92-8c4c-621eb873bbc2",
   "metadata": {},
   "outputs": [
    {
     "data": {
      "text/plain": [
       "(222, 41)"
      ]
     },
     "execution_count": 4,
     "metadata": {},
     "output_type": "execute_result"
    }
   ],
   "source": [
    "act = pd.read_csv(\"../running.csv\")\n",
    "\n",
    "act.shape"
   ]
  },
  {
   "cell_type": "markdown",
   "id": "3d735a9d-2a99-436f-93a5-b9baf1c7189e",
   "metadata": {},
   "source": [
    "Tenemos 222 registros con 41 features para cada uno. Esto es, 222 actividades con 41 caracteristicas."
   ]
  },
  {
   "cell_type": "code",
   "execution_count": 5,
   "id": "d2632d75-aa5d-409f-b767-5495e1a7d123",
   "metadata": {
    "scrolled": true
   },
   "outputs": [
    {
     "data": {
      "text/html": [
       "<div>\n",
       "<style scoped>\n",
       "    .dataframe tbody tr th:only-of-type {\n",
       "        vertical-align: middle;\n",
       "    }\n",
       "\n",
       "    .dataframe tbody tr th {\n",
       "        vertical-align: top;\n",
       "    }\n",
       "\n",
       "    .dataframe thead th {\n",
       "        text-align: right;\n",
       "    }\n",
       "</style>\n",
       "<table border=\"1\" class=\"dataframe\">\n",
       "  <thead>\n",
       "    <tr style=\"text-align: right;\">\n",
       "      <th></th>\n",
       "      <th>Tipo de actividad</th>\n",
       "      <th>Fecha</th>\n",
       "      <th>Favorito</th>\n",
       "      <th>Título</th>\n",
       "      <th>Distancia</th>\n",
       "      <th>Calorías</th>\n",
       "      <th>Tiempo</th>\n",
       "      <th>Frecuencia cardiaca media</th>\n",
       "      <th>FC máxima</th>\n",
       "      <th>Cadencia de carrera media</th>\n",
       "      <th>...</th>\n",
       "      <th>Ritmo máximo de respiración</th>\n",
       "      <th>Cambio en estrés</th>\n",
       "      <th>Inicio del periodo de estrés</th>\n",
       "      <th>Fin del periodo de estrés</th>\n",
       "      <th>Estrés medio</th>\n",
       "      <th>Estrés máximo</th>\n",
       "      <th>Tiempo en movimiento</th>\n",
       "      <th>Tiempo transcurrido</th>\n",
       "      <th>Altura mínima</th>\n",
       "      <th>Altura máxima</th>\n",
       "    </tr>\n",
       "  </thead>\n",
       "  <tbody>\n",
       "    <tr>\n",
       "      <th>148</th>\n",
       "      <td>Carrera</td>\n",
       "      <td>2023-08-08 16:16:13</td>\n",
       "      <td>False</td>\n",
       "      <td>Ciudad de Buenos Aires - 50' z1 z2</td>\n",
       "      <td>7.73</td>\n",
       "      <td>564</td>\n",
       "      <td>00:50:02</td>\n",
       "      <td>139</td>\n",
       "      <td>156</td>\n",
       "      <td>166</td>\n",
       "      <td>...</td>\n",
       "      <td>--</td>\n",
       "      <td>--</td>\n",
       "      <td>--</td>\n",
       "      <td>--</td>\n",
       "      <td>--</td>\n",
       "      <td>--</td>\n",
       "      <td>00:49:52</td>\n",
       "      <td>00:50:02</td>\n",
       "      <td>-3</td>\n",
       "      <td>57</td>\n",
       "    </tr>\n",
       "    <tr>\n",
       "      <th>63</th>\n",
       "      <td>Carrera</td>\n",
       "      <td>2024-02-22 19:06:40</td>\n",
       "      <td>False</td>\n",
       "      <td>Ciudad de Buenos Aires - 6x500/1'30</td>\n",
       "      <td>7.96</td>\n",
       "      <td>697</td>\n",
       "      <td>00:51:05</td>\n",
       "      <td>168</td>\n",
       "      <td>200</td>\n",
       "      <td>138</td>\n",
       "      <td>...</td>\n",
       "      <td>--</td>\n",
       "      <td>--</td>\n",
       "      <td>--</td>\n",
       "      <td>--</td>\n",
       "      <td>--</td>\n",
       "      <td>--</td>\n",
       "      <td>00:44:57</td>\n",
       "      <td>00:51:43</td>\n",
       "      <td>-5</td>\n",
       "      <td>31</td>\n",
       "    </tr>\n",
       "    <tr>\n",
       "      <th>116</th>\n",
       "      <td>Carrera</td>\n",
       "      <td>2023-10-17 19:22:47</td>\n",
       "      <td>False</td>\n",
       "      <td>Ciudad de Buenos Aires - 60' CON 30' DE CUESTAS</td>\n",
       "      <td>10.47</td>\n",
       "      <td>790</td>\n",
       "      <td>01:00:07</td>\n",
       "      <td>161</td>\n",
       "      <td>183</td>\n",
       "      <td>165</td>\n",
       "      <td>...</td>\n",
       "      <td>--</td>\n",
       "      <td>--</td>\n",
       "      <td>--</td>\n",
       "      <td>--</td>\n",
       "      <td>--</td>\n",
       "      <td>--</td>\n",
       "      <td>00:59:41</td>\n",
       "      <td>01:02:22</td>\n",
       "      <td>4</td>\n",
       "      <td>37</td>\n",
       "    </tr>\n",
       "    <tr>\n",
       "      <th>215</th>\n",
       "      <td>Carrera</td>\n",
       "      <td>2023-02-22 20:03:17</td>\n",
       "      <td>False</td>\n",
       "      <td>Ciudad de Buenos Aires - Repeticiones: ritmo o...</td>\n",
       "      <td>7.83</td>\n",
       "      <td>671</td>\n",
       "      <td>00:56:45</td>\n",
       "      <td>164</td>\n",
       "      <td>189</td>\n",
       "      <td>125</td>\n",
       "      <td>...</td>\n",
       "      <td>--</td>\n",
       "      <td>--</td>\n",
       "      <td>--</td>\n",
       "      <td>--</td>\n",
       "      <td>--</td>\n",
       "      <td>--</td>\n",
       "      <td>00:49:33</td>\n",
       "      <td>00:59:59</td>\n",
       "      <td>-1</td>\n",
       "      <td>35</td>\n",
       "    </tr>\n",
       "    <tr>\n",
       "      <th>43</th>\n",
       "      <td>Carrera</td>\n",
       "      <td>2024-04-10 19:02:06</td>\n",
       "      <td>False</td>\n",
       "      <td>Ciudad de Buenos Aires - CUESTAS. 3x (4x30)</td>\n",
       "      <td>10.11</td>\n",
       "      <td>828</td>\n",
       "      <td>01:02:54</td>\n",
       "      <td>162</td>\n",
       "      <td>192</td>\n",
       "      <td>155</td>\n",
       "      <td>...</td>\n",
       "      <td>--</td>\n",
       "      <td>--</td>\n",
       "      <td>--</td>\n",
       "      <td>--</td>\n",
       "      <td>--</td>\n",
       "      <td>--</td>\n",
       "      <td>01:00:51</td>\n",
       "      <td>01:13:59</td>\n",
       "      <td>-6</td>\n",
       "      <td>36</td>\n",
       "    </tr>\n",
       "  </tbody>\n",
       "</table>\n",
       "<p>5 rows × 41 columns</p>\n",
       "</div>"
      ],
      "text/plain": [
       "    Tipo de actividad                Fecha  Favorito  \\\n",
       "148           Carrera  2023-08-08 16:16:13     False   \n",
       "63            Carrera  2024-02-22 19:06:40     False   \n",
       "116           Carrera  2023-10-17 19:22:47     False   \n",
       "215           Carrera  2023-02-22 20:03:17     False   \n",
       "43            Carrera  2024-04-10 19:02:06     False   \n",
       "\n",
       "                                                Título Distancia Calorías  \\\n",
       "148                 Ciudad de Buenos Aires - 50' z1 z2      7.73      564   \n",
       "63                 Ciudad de Buenos Aires - 6x500/1'30      7.96      697   \n",
       "116    Ciudad de Buenos Aires - 60' CON 30' DE CUESTAS     10.47      790   \n",
       "215  Ciudad de Buenos Aires - Repeticiones: ritmo o...      7.83      671   \n",
       "43         Ciudad de Buenos Aires - CUESTAS. 3x (4x30)     10.11      828   \n",
       "\n",
       "       Tiempo  Frecuencia cardiaca media  FC máxima Cadencia de carrera media  \\\n",
       "148  00:50:02                        139        156                       166   \n",
       "63   00:51:05                        168        200                       138   \n",
       "116  01:00:07                        161        183                       165   \n",
       "215  00:56:45                        164        189                       125   \n",
       "43   01:02:54                        162        192                       155   \n",
       "\n",
       "     ... Ritmo máximo de respiración Cambio en estrés  \\\n",
       "148  ...                          --               --   \n",
       "63   ...                          --               --   \n",
       "116  ...                          --               --   \n",
       "215  ...                          --               --   \n",
       "43   ...                          --               --   \n",
       "\n",
       "    Inicio del periodo de estrés Fin del periodo de estrés Estrés medio  \\\n",
       "148                           --                        --           --   \n",
       "63                            --                        --           --   \n",
       "116                           --                        --           --   \n",
       "215                           --                        --           --   \n",
       "43                            --                        --           --   \n",
       "\n",
       "     Estrés máximo  Tiempo en movimiento  Tiempo transcurrido  Altura mínima  \\\n",
       "148             --              00:49:52             00:50:02             -3   \n",
       "63              --              00:44:57             00:51:43             -5   \n",
       "116             --              00:59:41             01:02:22              4   \n",
       "215             --              00:49:33             00:59:59             -1   \n",
       "43              --              01:00:51             01:13:59             -6   \n",
       "\n",
       "     Altura máxima  \n",
       "148             57  \n",
       "63              31  \n",
       "116             37  \n",
       "215             35  \n",
       "43              36  \n",
       "\n",
       "[5 rows x 41 columns]"
      ]
     },
     "execution_count": 5,
     "metadata": {},
     "output_type": "execute_result"
    }
   ],
   "source": [
    "act.sample(5)"
   ]
  },
  {
   "cell_type": "markdown",
   "id": "8352789f-d5ac-48ea-b583-5c87638f2d01",
   "metadata": {},
   "source": [
    "Inspeccionemos las columnas. Desde ya vemos que hay un problema en el formato. Contienen espacios en blanco, no estan en minusculas y poseen letras con tildes. Esto resulta fastidioso a la hora de acceder a los datos. Para hacerlo mas sencillo vamos a pasar los nombres a formato **snake_case**.\n",
    "\n",
    "Llevo los nombres a minuscula, reemplazo las letras con tildes por las mismas sin y reemplazo los espacios en blanco por guiones bajos."
   ]
  },
  {
   "cell_type": "code",
   "execution_count": 6,
   "id": "087aec16-2f3c-4223-bb8d-1457000a8c51",
   "metadata": {
    "scrolled": true
   },
   "outputs": [
    {
     "data": {
      "text/plain": [
       "Index(['Tipo de actividad', 'Fecha', 'Favorito', 'Título', 'Distancia',\n",
       "       'Calorías', 'Tiempo', 'Frecuencia cardiaca media', 'FC máxima',\n",
       "       'Cadencia de carrera media', 'Cadencia de carrera máxima',\n",
       "       'Ritmo medio', 'Ritmo óptimo', 'Ascenso total', 'Descenso total',\n",
       "       'Longitud media de zancada', 'Relación vertical media',\n",
       "       'Oscilación vertical media', 'Tiempo medio de contacto con el suelo',\n",
       "       'Training Stress Score®', 'Dificultad', 'Fluidez', 'Swolf medio',\n",
       "       'Velocidad media de palada', 'Repeticiones totales', 'Descompresión',\n",
       "       'Mejor tiempo de vuelta', 'Número de vueltas', 'Temperatura máxima',\n",
       "       'Ritmo respiratorio medio', 'Ritmo mínimo de respiración',\n",
       "       'Ritmo máximo de respiración', 'Cambio en estrés',\n",
       "       'Inicio del periodo de estrés', 'Fin del periodo de estrés',\n",
       "       'Estrés medio', 'Estrés máximo', 'Tiempo en movimiento',\n",
       "       'Tiempo transcurrido', 'Altura mínima', 'Altura máxima'],\n",
       "      dtype='object')"
      ]
     },
     "execution_count": 6,
     "metadata": {},
     "output_type": "execute_result"
    }
   ],
   "source": [
    "act.columns"
   ]
  },
  {
   "cell_type": "code",
   "execution_count": 7,
   "id": "db232fa7-74ef-4ad9-a420-034b8b236a41",
   "metadata": {},
   "outputs": [],
   "source": [
    "# Diccionario con mapeo para reemplazar.\n",
    "to_replace = {\"á\":\"a\",\"é\":\"e\",\"í\":\"i\",\"ó\":\"o\",\"ú\":\"u\",\"ñ\":\"n\"}\n",
    "patron = re.compile('|'.join(to_replace.keys())) # [á|é|í|ó|ú|ñ]\n",
    "\n",
    "def to_snake_case(col_name):\n",
    "    # Cambio nombre de las columnas. Llevo a minusculas, reemplazo espacios en blanco por _ y letras con tildes por las mismas sin.\n",
    "    col_name  = col_name.lower().replace(\" \",\"_\")\n",
    "    matches = patron.findall(col_name) # Busco si la columna contiene letras con tildes. Si hay match reemplazo.\n",
    "    if matches:\n",
    "        for match in set(matches):\n",
    "            col_name = col_name.replace(match,to_replace[match])\n",
    "    return col_name    "
   ]
  },
  {
   "cell_type": "code",
   "execution_count": 8,
   "id": "d03a0b3d-b881-4670-9e7a-30bf88c22e47",
   "metadata": {
    "scrolled": true
   },
   "outputs": [
    {
     "data": {
      "text/plain": [
       "Index(['tipo_de_actividad', 'fecha', 'favorito', 'titulo', 'distancia',\n",
       "       'calorias', 'tiempo', 'frecuencia_cardiaca_media', 'fc_maxima',\n",
       "       'cadencia_de_carrera_media', 'cadencia_de_carrera_maxima',\n",
       "       'ritmo_medio', 'ritmo_optimo', 'ascenso_total', 'descenso_total',\n",
       "       'longitud_media_de_zancada', 'relacion_vertical_media',\n",
       "       'oscilacion_vertical_media', 'tiempo_medio_de_contacto_con_el_suelo',\n",
       "       'training_stress_score®', 'dificultad', 'fluidez', 'swolf_medio',\n",
       "       'velocidad_media_de_palada', 'repeticiones_totales', 'descompresion',\n",
       "       'mejor_tiempo_de_vuelta', 'numero_de_vueltas', 'temperatura_maxima',\n",
       "       'ritmo_respiratorio_medio', 'ritmo_minimo_de_respiracion',\n",
       "       'ritmo_maximo_de_respiracion', 'cambio_en_estres',\n",
       "       'inicio_del_periodo_de_estres', 'fin_del_periodo_de_estres',\n",
       "       'estres_medio', 'estres_maximo', 'tiempo_en_movimiento',\n",
       "       'tiempo_transcurrido', 'altura_minima', 'altura_maxima'],\n",
       "      dtype='object')"
      ]
     },
     "execution_count": 8,
     "metadata": {},
     "output_type": "execute_result"
    }
   ],
   "source": [
    "act.columns = [to_snake_case(col) for col in act.columns]\n",
    "act.columns"
   ]
  },
  {
   "cell_type": "markdown",
   "id": "9eb74649-3103-48de-919f-dc6f5abcfeb7",
   "metadata": {},
   "source": [
    "Veamos ahora que tipo de actividades hay registradas."
   ]
  },
  {
   "cell_type": "code",
   "execution_count": 9,
   "id": "851fe29b-6afb-4c94-8b2e-06e6ec6f45bf",
   "metadata": {},
   "outputs": [
    {
     "data": {
      "text/plain": [
       "tipo_de_actividad\n",
       "Carrera                   219\n",
       "Ciclismo                    1\n",
       "Entrenamiento en cinta      1\n",
       "Trabajo de respiración      1\n",
       "Name: count, dtype: int64"
      ]
     },
     "execution_count": 9,
     "metadata": {},
     "output_type": "execute_result"
    }
   ],
   "source": [
    "act.tipo_de_actividad.value_counts()"
   ]
  },
  {
   "cell_type": "markdown",
   "id": "09610e71-f131-4172-9e2d-d3802c6e0c7a",
   "metadata": {},
   "source": [
    "Voy a quedarme solo con las carreras."
   ]
  },
  {
   "cell_type": "code",
   "execution_count": 10,
   "id": "a2143d64-cd4a-4bae-834d-11c0e9963fdc",
   "metadata": {},
   "outputs": [],
   "source": [
    "run = act[act.tipo_de_actividad == \"Carrera\"]"
   ]
  },
  {
   "cell_type": "code",
   "execution_count": 11,
   "id": "7d098b58-f781-4acc-a1d2-c60dcdfb16ae",
   "metadata": {},
   "outputs": [
    {
     "data": {
      "text/plain": [
       "tipo_de_actividad                                                      Carrera\n",
       "fecha                                                      2024-07-31 19:23:59\n",
       "favorito                                                                 False\n",
       "titulo                                   Ciudad de Buenos Aires - 3x1k /3' Vo2\n",
       "distancia                                                                 9.02\n",
       "calorias                                                                   717\n",
       "tiempo                                                                00:50:41\n",
       "frecuencia_cardiaca_media                                                  166\n",
       "fc_maxima                                                                  195\n",
       "cadencia_de_carrera_media                                                  165\n",
       "cadencia_de_carrera_maxima                                                 248\n",
       "ritmo_medio                                                               5:37\n",
       "ritmo_optimo                                                              3:33\n",
       "ascenso_total                                                               75\n",
       "descenso_total                                                              66\n",
       "longitud_media_de_zancada                                                 1.07\n",
       "relacion_vertical_media                                                    NaN\n",
       "oscilacion_vertical_media                                                  NaN\n",
       "tiempo_medio_de_contacto_con_el_suelo                                      NaN\n",
       "training_stress_score®                                                     0.0\n",
       "dificultad                                                                 NaN\n",
       "fluidez                                                                    NaN\n",
       "swolf_medio                                                                NaN\n",
       "velocidad_media_de_palada                                                  NaN\n",
       "repeticiones_totales                                                       NaN\n",
       "descompresion                                                               No\n",
       "mejor_tiempo_de_vuelta                                                00:00:15\n",
       "numero_de_vueltas                                                           19\n",
       "temperatura_maxima                                                         NaN\n",
       "ritmo_respiratorio_medio                                                    --\n",
       "ritmo_minimo_de_respiracion                                                 --\n",
       "ritmo_maximo_de_respiracion                                                 --\n",
       "cambio_en_estres                                                            --\n",
       "inicio_del_periodo_de_estres                                                --\n",
       "fin_del_periodo_de_estres                                                   --\n",
       "estres_medio                                                                --\n",
       "estres_maximo                                                               --\n",
       "tiempo_en_movimiento                                                  00:49:51\n",
       "tiempo_transcurrido                                                   00:52:26\n",
       "altura_minima                                                                4\n",
       "altura_maxima                                                               41\n",
       "Name: 0, dtype: object"
      ]
     },
     "execution_count": 11,
     "metadata": {},
     "output_type": "execute_result"
    }
   ],
   "source": [
    "run.iloc[0] # Inspecciono un registro para ver que datos trae."
   ]
  },
  {
   "cell_type": "markdown",
   "id": "19cec80f-cac1-4e56-baf7-729c558e7be6",
   "metadata": {},
   "source": [
    "Muchas columnas estan repletas de NaN, afortunadamente la mayoria no son de interes (salvo dificultad) por lo que las voy a borrar.\n",
    "\n",
    "\n",
    "Me armo un array con los indices de las columnas que quiero mantener."
   ]
  },
  {
   "cell_type": "code",
   "execution_count": 12,
   "id": "9fa2456f-6817-423b-a73d-7eef61c2f717",
   "metadata": {},
   "outputs": [
    {
     "name": "stdout",
     "output_type": "stream",
     "text": [
      "0 tipo_de_actividad\n",
      "1 fecha\n",
      "2 favorito\n",
      "3 titulo\n",
      "4 distancia\n",
      "5 calorias\n",
      "6 tiempo\n",
      "7 frecuencia_cardiaca_media\n",
      "8 fc_maxima\n",
      "9 cadencia_de_carrera_media\n",
      "10 cadencia_de_carrera_maxima\n",
      "11 ritmo_medio\n",
      "12 ritmo_optimo\n",
      "13 ascenso_total\n",
      "14 descenso_total\n",
      "15 longitud_media_de_zancada\n",
      "16 relacion_vertical_media\n",
      "17 oscilacion_vertical_media\n",
      "18 tiempo_medio_de_contacto_con_el_suelo\n",
      "19 training_stress_score®\n",
      "20 dificultad\n",
      "21 fluidez\n",
      "22 swolf_medio\n",
      "23 velocidad_media_de_palada\n",
      "24 repeticiones_totales\n",
      "25 descompresion\n",
      "26 mejor_tiempo_de_vuelta\n",
      "27 numero_de_vueltas\n",
      "28 temperatura_maxima\n",
      "29 ritmo_respiratorio_medio\n",
      "30 ritmo_minimo_de_respiracion\n",
      "31 ritmo_maximo_de_respiracion\n",
      "32 cambio_en_estres\n",
      "33 inicio_del_periodo_de_estres\n",
      "34 fin_del_periodo_de_estres\n",
      "35 estres_medio\n",
      "36 estres_maximo\n",
      "37 tiempo_en_movimiento\n",
      "38 tiempo_transcurrido\n",
      "39 altura_minima\n",
      "40 altura_maxima\n"
     ]
    }
   ],
   "source": [
    "for index, colname in enumerate(act.columns):\n",
    "    print(index, colname)"
   ]
  },
  {
   "cell_type": "code",
   "execution_count": 13,
   "id": "556e41f5-0d8b-4cfa-bdb2-1f9712e961e7",
   "metadata": {},
   "outputs": [
    {
     "data": {
      "text/plain": [
       "array(['fecha', 'titulo', 'distancia', 'calorias', 'tiempo',\n",
       "       'frecuencia_cardiaca_media', 'fc_maxima', 'ritmo_medio',\n",
       "       'ascenso_total', 'descenso_total', 'altura_minima',\n",
       "       'altura_maxima'], dtype=object)"
      ]
     },
     "execution_count": 13,
     "metadata": {},
     "output_type": "execute_result"
    }
   ],
   "source": [
    "indices = np.array((1,3,4,5,6,7,8,11,13,14,39,40))\n",
    "act.columns.values[indices]"
   ]
  },
  {
   "cell_type": "code",
   "execution_count": 14,
   "id": "dbcb9c1a-fe58-494f-b5b1-545ec3373e5d",
   "metadata": {},
   "outputs": [
    {
     "data": {
      "text/plain": [
       "(219, 12)"
      ]
     },
     "execution_count": 14,
     "metadata": {},
     "output_type": "execute_result"
    }
   ],
   "source": [
    "run = run[run.columns.values[indices]]\n",
    "run.shape"
   ]
  },
  {
   "cell_type": "markdown",
   "id": "c6ffeb9d-93ce-44af-b25a-e36baadc5f55",
   "metadata": {},
   "source": [
    "Pasamos de 41 columnas a 12. Y de 222 actividades a 219.\n",
    "\n",
    "Veamos ahora que tipo de datos se almacenan en estas columnas."
   ]
  },
  {
   "cell_type": "code",
   "execution_count": 15,
   "id": "ef5c8d25-6bab-46a9-8021-c543683b5ef0",
   "metadata": {
    "scrolled": true
   },
   "outputs": [
    {
     "data": {
      "text/plain": [
       "fecha                        object\n",
       "titulo                       object\n",
       "distancia                    object\n",
       "calorias                     object\n",
       "tiempo                       object\n",
       "frecuencia_cardiaca_media     int64\n",
       "fc_maxima                     int64\n",
       "ritmo_medio                  object\n",
       "ascenso_total                object\n",
       "descenso_total               object\n",
       "altura_minima                object\n",
       "altura_maxima                object\n",
       "dtype: object"
      ]
     },
     "execution_count": 15,
     "metadata": {},
     "output_type": "execute_result"
    }
   ],
   "source": [
    "run.dtypes"
   ]
  },
  {
   "cell_type": "markdown",
   "id": "57c37233-8413-420d-8ef3-3f99923a10be",
   "metadata": {},
   "source": [
    "Tengo que transformar varios tipos.\n",
    "\n",
    " - A date --> fecha\n",
    " - A time --> tiempo, ritmo_medio, tiempo_en_movimiento, tiempo_transcurrido\n",
    " - A float/int --> distancia, calorias, ascenso_total, descenso_total, altura_minimia, altura_maxima\n",
    "\n",
    "Arranco por la fecha. Para trabajar con fechas ~importo datetime~ uso el tipo da dato datetime de pandas."
   ]
  },
  {
   "cell_type": "code",
   "execution_count": 16,
   "id": "2fbf47d5-bdef-42f4-9674-5ae81fc7f38d",
   "metadata": {},
   "outputs": [
    {
     "data": {
      "text/plain": [
       "0     2024-07-31 19:23:59\n",
       "1     2024-07-26 18:57:16\n",
       "2     2024-07-24 18:12:00\n",
       "3     2024-07-21 19:04:20\n",
       "4     2024-07-19 17:31:37\n",
       "              ...        \n",
       "217   2023-02-16 19:34:51\n",
       "218   2023-02-14 20:21:18\n",
       "219   2023-02-11 20:23:02\n",
       "220   2023-02-09 19:32:05\n",
       "221   2023-02-07 20:04:40\n",
       "Name: fecha, Length: 219, dtype: datetime64[ns]"
      ]
     },
     "execution_count": 16,
     "metadata": {},
     "output_type": "execute_result"
    }
   ],
   "source": [
    "run.fecha = pd.to_datetime(run.fecha, format=\"%Y-%m-%d %H:%M:%S\")\n",
    "run.fecha"
   ]
  },
  {
   "cell_type": "markdown",
   "id": "6d8bdec7-3b32-401c-8454-225855117dbc",
   "metadata": {},
   "source": [
    "Algo que podemos hacer ahora es crear columnas para anio, mes y dia. Nos valemos de la fecha para ello."
   ]
  },
  {
   "cell_type": "code",
   "execution_count": 17,
   "id": "d6f4831c-df89-4f4d-bd18-dcd675ec37aa",
   "metadata": {},
   "outputs": [
    {
     "data": {
      "text/plain": [
       "Index(['fecha', 'titulo', 'distancia', 'calorias', 'tiempo',\n",
       "       'frecuencia_cardiaca_media', 'fc_maxima', 'ritmo_medio',\n",
       "       'ascenso_total', 'descenso_total', 'altura_minima', 'altura_maxima',\n",
       "       'anio', 'mes', 'dia'],\n",
       "      dtype='object')"
      ]
     },
     "execution_count": 17,
     "metadata": {},
     "output_type": "execute_result"
    }
   ],
   "source": [
    "run['anio'] = run.fecha.apply(lambda x: x.year)\n",
    "run['mes'] = run.fecha.apply(lambda x: x.month)\n",
    "run['dia'] = run.fecha.apply(lambda x: x.day)\n",
    "\n",
    "run.columns"
   ]
  },
  {
   "cell_type": "code",
   "execution_count": 18,
   "id": "5444c838-e9c2-4497-94a9-51ec6c710b2e",
   "metadata": {},
   "outputs": [
    {
     "data": {
      "text/html": [
       "<div>\n",
       "<style scoped>\n",
       "    .dataframe tbody tr th:only-of-type {\n",
       "        vertical-align: middle;\n",
       "    }\n",
       "\n",
       "    .dataframe tbody tr th {\n",
       "        vertical-align: top;\n",
       "    }\n",
       "\n",
       "    .dataframe thead th {\n",
       "        text-align: right;\n",
       "    }\n",
       "</style>\n",
       "<table border=\"1\" class=\"dataframe\">\n",
       "  <thead>\n",
       "    <tr style=\"text-align: right;\">\n",
       "      <th></th>\n",
       "      <th>fecha</th>\n",
       "      <th>anio</th>\n",
       "      <th>mes</th>\n",
       "      <th>dia</th>\n",
       "    </tr>\n",
       "  </thead>\n",
       "  <tbody>\n",
       "    <tr>\n",
       "      <th>42</th>\n",
       "      <td>2024-04-12 19:11:49</td>\n",
       "      <td>2024</td>\n",
       "      <td>4</td>\n",
       "      <td>12</td>\n",
       "    </tr>\n",
       "    <tr>\n",
       "      <th>199</th>\n",
       "      <td>2023-03-28 16:51:43</td>\n",
       "      <td>2023</td>\n",
       "      <td>3</td>\n",
       "      <td>28</td>\n",
       "    </tr>\n",
       "    <tr>\n",
       "      <th>72</th>\n",
       "      <td>2024-02-04 19:13:59</td>\n",
       "      <td>2024</td>\n",
       "      <td>2</td>\n",
       "      <td>4</td>\n",
       "    </tr>\n",
       "    <tr>\n",
       "      <th>143</th>\n",
       "      <td>2023-08-19 15:52:19</td>\n",
       "      <td>2023</td>\n",
       "      <td>8</td>\n",
       "      <td>19</td>\n",
       "    </tr>\n",
       "    <tr>\n",
       "      <th>103</th>\n",
       "      <td>2023-11-16 08:17:22</td>\n",
       "      <td>2023</td>\n",
       "      <td>11</td>\n",
       "      <td>16</td>\n",
       "    </tr>\n",
       "  </tbody>\n",
       "</table>\n",
       "</div>"
      ],
      "text/plain": [
       "                  fecha  anio  mes  dia\n",
       "42  2024-04-12 19:11:49  2024    4   12\n",
       "199 2023-03-28 16:51:43  2023    3   28\n",
       "72  2024-02-04 19:13:59  2024    2    4\n",
       "143 2023-08-19 15:52:19  2023    8   19\n",
       "103 2023-11-16 08:17:22  2023   11   16"
      ]
     },
     "execution_count": 18,
     "metadata": {},
     "output_type": "execute_result"
    }
   ],
   "source": [
    "run[[\"fecha\",\"anio\",\"mes\",\"dia\"]].sample(5)"
   ]
  },
  {
   "cell_type": "markdown",
   "id": "ff490527-3ccd-4ac9-bff9-9461d486b590",
   "metadata": {},
   "source": [
    "Sigo con los tiempos, el metodo es el mismo solo que ahora me quedo con el time."
   ]
  },
  {
   "cell_type": "code",
   "execution_count": 19,
   "id": "35ce3caa-1dbe-407d-91da-6765e0088559",
   "metadata": {},
   "outputs": [
    {
     "ename": "ValueError",
     "evalue": "unconverted data remains when parsing with format \"%H:%M:%S\": \".1\", at position 64. You might want to try:\n    - passing `format` if your strings have a consistent format;\n    - passing `format='ISO8601'` if your strings are all ISO8601 but not necessarily in exactly the same format;\n    - passing `format='mixed'`, and the format will be inferred for each element individually. You might want to use `dayfirst` alongside this.",
     "output_type": "error",
     "traceback": [
      "\u001b[1;31m---------------------------------------------------------------------------\u001b[0m",
      "\u001b[1;31mValueError\u001b[0m                                Traceback (most recent call last)",
      "Cell \u001b[1;32mIn[19], line 1\u001b[0m\n\u001b[1;32m----> 1\u001b[0m \u001b[43mpd\u001b[49m\u001b[38;5;241;43m.\u001b[39;49m\u001b[43mto_datetime\u001b[49m\u001b[43m(\u001b[49m\u001b[43mrun\u001b[49m\u001b[38;5;241;43m.\u001b[39;49m\u001b[43mtiempo\u001b[49m\u001b[43m,\u001b[49m\u001b[43m \u001b[49m\u001b[38;5;28;43mformat\u001b[39;49m\u001b[43m \u001b[49m\u001b[38;5;241;43m=\u001b[39;49m\u001b[43m \u001b[49m\u001b[38;5;124;43m\"\u001b[39;49m\u001b[38;5;124;43m%\u001b[39;49m\u001b[38;5;124;43mH:\u001b[39;49m\u001b[38;5;124;43m%\u001b[39;49m\u001b[38;5;124;43mM:\u001b[39;49m\u001b[38;5;124;43m%\u001b[39;49m\u001b[38;5;124;43mS\u001b[39;49m\u001b[38;5;124;43m\"\u001b[39;49m\u001b[43m)\u001b[49m\u001b[38;5;241m.\u001b[39mdt\u001b[38;5;241m.\u001b[39mtime\n",
      "File \u001b[1;32m~\\Desktop\\running_analysis\\running_analysis\\python\\env\\Lib\\site-packages\\pandas\\core\\tools\\datetimes.py:1067\u001b[0m, in \u001b[0;36mto_datetime\u001b[1;34m(arg, errors, dayfirst, yearfirst, utc, format, exact, unit, infer_datetime_format, origin, cache)\u001b[0m\n\u001b[0;32m   1065\u001b[0m         result \u001b[38;5;241m=\u001b[39m arg\u001b[38;5;241m.\u001b[39mmap(cache_array)\n\u001b[0;32m   1066\u001b[0m     \u001b[38;5;28;01melse\u001b[39;00m:\n\u001b[1;32m-> 1067\u001b[0m         values \u001b[38;5;241m=\u001b[39m \u001b[43mconvert_listlike\u001b[49m\u001b[43m(\u001b[49m\u001b[43marg\u001b[49m\u001b[38;5;241;43m.\u001b[39;49m\u001b[43m_values\u001b[49m\u001b[43m,\u001b[49m\u001b[43m \u001b[49m\u001b[38;5;28;43mformat\u001b[39;49m\u001b[43m)\u001b[49m\n\u001b[0;32m   1068\u001b[0m         result \u001b[38;5;241m=\u001b[39m arg\u001b[38;5;241m.\u001b[39m_constructor(values, index\u001b[38;5;241m=\u001b[39marg\u001b[38;5;241m.\u001b[39mindex, name\u001b[38;5;241m=\u001b[39marg\u001b[38;5;241m.\u001b[39mname)\n\u001b[0;32m   1069\u001b[0m \u001b[38;5;28;01melif\u001b[39;00m \u001b[38;5;28misinstance\u001b[39m(arg, (ABCDataFrame, abc\u001b[38;5;241m.\u001b[39mMutableMapping)):\n",
      "File \u001b[1;32m~\\Desktop\\running_analysis\\running_analysis\\python\\env\\Lib\\site-packages\\pandas\\core\\tools\\datetimes.py:433\u001b[0m, in \u001b[0;36m_convert_listlike_datetimes\u001b[1;34m(arg, format, name, utc, unit, errors, dayfirst, yearfirst, exact)\u001b[0m\n\u001b[0;32m    431\u001b[0m \u001b[38;5;66;03m# `format` could be inferred, or user didn't ask for mixed-format parsing.\u001b[39;00m\n\u001b[0;32m    432\u001b[0m \u001b[38;5;28;01mif\u001b[39;00m \u001b[38;5;28mformat\u001b[39m \u001b[38;5;129;01mis\u001b[39;00m \u001b[38;5;129;01mnot\u001b[39;00m \u001b[38;5;28;01mNone\u001b[39;00m \u001b[38;5;129;01mand\u001b[39;00m \u001b[38;5;28mformat\u001b[39m \u001b[38;5;241m!=\u001b[39m \u001b[38;5;124m\"\u001b[39m\u001b[38;5;124mmixed\u001b[39m\u001b[38;5;124m\"\u001b[39m:\n\u001b[1;32m--> 433\u001b[0m     \u001b[38;5;28;01mreturn\u001b[39;00m \u001b[43m_array_strptime_with_fallback\u001b[49m\u001b[43m(\u001b[49m\u001b[43marg\u001b[49m\u001b[43m,\u001b[49m\u001b[43m \u001b[49m\u001b[43mname\u001b[49m\u001b[43m,\u001b[49m\u001b[43m \u001b[49m\u001b[43mutc\u001b[49m\u001b[43m,\u001b[49m\u001b[43m \u001b[49m\u001b[38;5;28;43mformat\u001b[39;49m\u001b[43m,\u001b[49m\u001b[43m \u001b[49m\u001b[43mexact\u001b[49m\u001b[43m,\u001b[49m\u001b[43m \u001b[49m\u001b[43merrors\u001b[49m\u001b[43m)\u001b[49m\n\u001b[0;32m    435\u001b[0m result, tz_parsed \u001b[38;5;241m=\u001b[39m objects_to_datetime64(\n\u001b[0;32m    436\u001b[0m     arg,\n\u001b[0;32m    437\u001b[0m     dayfirst\u001b[38;5;241m=\u001b[39mdayfirst,\n\u001b[1;32m   (...)\u001b[0m\n\u001b[0;32m    441\u001b[0m     allow_object\u001b[38;5;241m=\u001b[39m\u001b[38;5;28;01mTrue\u001b[39;00m,\n\u001b[0;32m    442\u001b[0m )\n\u001b[0;32m    444\u001b[0m \u001b[38;5;28;01mif\u001b[39;00m tz_parsed \u001b[38;5;129;01mis\u001b[39;00m \u001b[38;5;129;01mnot\u001b[39;00m \u001b[38;5;28;01mNone\u001b[39;00m:\n\u001b[0;32m    445\u001b[0m     \u001b[38;5;66;03m# We can take a shortcut since the datetime64 numpy array\u001b[39;00m\n\u001b[0;32m    446\u001b[0m     \u001b[38;5;66;03m# is in UTC\u001b[39;00m\n",
      "File \u001b[1;32m~\\Desktop\\running_analysis\\running_analysis\\python\\env\\Lib\\site-packages\\pandas\\core\\tools\\datetimes.py:467\u001b[0m, in \u001b[0;36m_array_strptime_with_fallback\u001b[1;34m(arg, name, utc, fmt, exact, errors)\u001b[0m\n\u001b[0;32m    456\u001b[0m \u001b[38;5;28;01mdef\u001b[39;00m \u001b[38;5;21m_array_strptime_with_fallback\u001b[39m(\n\u001b[0;32m    457\u001b[0m     arg,\n\u001b[0;32m    458\u001b[0m     name,\n\u001b[1;32m   (...)\u001b[0m\n\u001b[0;32m    462\u001b[0m     errors: \u001b[38;5;28mstr\u001b[39m,\n\u001b[0;32m    463\u001b[0m ) \u001b[38;5;241m-\u001b[39m\u001b[38;5;241m>\u001b[39m Index:\n\u001b[0;32m    464\u001b[0m \u001b[38;5;250m    \u001b[39m\u001b[38;5;124;03m\"\"\"\u001b[39;00m\n\u001b[0;32m    465\u001b[0m \u001b[38;5;124;03m    Call array_strptime, with fallback behavior depending on 'errors'.\u001b[39;00m\n\u001b[0;32m    466\u001b[0m \u001b[38;5;124;03m    \"\"\"\u001b[39;00m\n\u001b[1;32m--> 467\u001b[0m     result, tz_out \u001b[38;5;241m=\u001b[39m \u001b[43marray_strptime\u001b[49m\u001b[43m(\u001b[49m\u001b[43marg\u001b[49m\u001b[43m,\u001b[49m\u001b[43m \u001b[49m\u001b[43mfmt\u001b[49m\u001b[43m,\u001b[49m\u001b[43m \u001b[49m\u001b[43mexact\u001b[49m\u001b[38;5;241;43m=\u001b[39;49m\u001b[43mexact\u001b[49m\u001b[43m,\u001b[49m\u001b[43m \u001b[49m\u001b[43merrors\u001b[49m\u001b[38;5;241;43m=\u001b[39;49m\u001b[43merrors\u001b[49m\u001b[43m,\u001b[49m\u001b[43m \u001b[49m\u001b[43mutc\u001b[49m\u001b[38;5;241;43m=\u001b[39;49m\u001b[43mutc\u001b[49m\u001b[43m)\u001b[49m\n\u001b[0;32m    468\u001b[0m     \u001b[38;5;28;01mif\u001b[39;00m tz_out \u001b[38;5;129;01mis\u001b[39;00m \u001b[38;5;129;01mnot\u001b[39;00m \u001b[38;5;28;01mNone\u001b[39;00m:\n\u001b[0;32m    469\u001b[0m         unit \u001b[38;5;241m=\u001b[39m np\u001b[38;5;241m.\u001b[39mdatetime_data(result\u001b[38;5;241m.\u001b[39mdtype)[\u001b[38;5;241m0\u001b[39m]\n",
      "File \u001b[1;32mstrptime.pyx:501\u001b[0m, in \u001b[0;36mpandas._libs.tslibs.strptime.array_strptime\u001b[1;34m()\u001b[0m\n",
      "File \u001b[1;32mstrptime.pyx:451\u001b[0m, in \u001b[0;36mpandas._libs.tslibs.strptime.array_strptime\u001b[1;34m()\u001b[0m\n",
      "File \u001b[1;32mstrptime.pyx:587\u001b[0m, in \u001b[0;36mpandas._libs.tslibs.strptime._parse_with_format\u001b[1;34m()\u001b[0m\n",
      "\u001b[1;31mValueError\u001b[0m: unconverted data remains when parsing with format \"%H:%M:%S\": \".1\", at position 64. You might want to try:\n    - passing `format` if your strings have a consistent format;\n    - passing `format='ISO8601'` if your strings are all ISO8601 but not necessarily in exactly the same format;\n    - passing `format='mixed'`, and the format will be inferred for each element individually. You might want to use `dayfirst` alongside this."
     ]
    }
   ],
   "source": [
    "pd.to_datetime(run.tiempo, format = \"%H:%M:%S\").dt.time"
   ]
  },
  {
   "cell_type": "markdown",
   "id": "ba3a4cd5-f34c-4d32-97a6-c88e393ab154",
   "metadata": {},
   "source": [
    "Hay alguna entrada que esta mal formateada. Al parecer tienen mas que segundos. Si en teoria vienen en formato \n",
    "HH:MM:SS, podemos filtrar por alguna cadena de longitud mayor a 8. Creo una mascara booleana para obtener los registros con longitud mayor a 8 y filtro con ella."
   ]
  },
  {
   "cell_type": "code",
   "execution_count": 21,
   "id": "deb0ac3d-591f-4d93-8cd3-0ded0510d00e",
   "metadata": {},
   "outputs": [
    {
     "data": {
      "text/plain": [
       "np.int64(1)"
      ]
     },
     "execution_count": 21,
     "metadata": {},
     "output_type": "execute_result"
    }
   ],
   "source": [
    "mask = run.tiempo.apply(len) > 8\n",
    "mask.sum()"
   ]
  },
  {
   "cell_type": "code",
   "execution_count": 22,
   "id": "547cdf3f-de4b-438e-8fad-34f29bc08781",
   "metadata": {},
   "outputs": [
    {
     "data": {
      "text/html": [
       "<div>\n",
       "<style scoped>\n",
       "    .dataframe tbody tr th:only-of-type {\n",
       "        vertical-align: middle;\n",
       "    }\n",
       "\n",
       "    .dataframe tbody tr th {\n",
       "        vertical-align: top;\n",
       "    }\n",
       "\n",
       "    .dataframe thead th {\n",
       "        text-align: right;\n",
       "    }\n",
       "</style>\n",
       "<table border=\"1\" class=\"dataframe\">\n",
       "  <thead>\n",
       "    <tr style=\"text-align: right;\">\n",
       "      <th></th>\n",
       "      <th>fecha</th>\n",
       "      <th>titulo</th>\n",
       "      <th>distancia</th>\n",
       "      <th>calorias</th>\n",
       "      <th>tiempo</th>\n",
       "      <th>frecuencia_cardiaca_media</th>\n",
       "      <th>fc_maxima</th>\n",
       "      <th>ritmo_medio</th>\n",
       "      <th>ascenso_total</th>\n",
       "      <th>descenso_total</th>\n",
       "      <th>altura_minima</th>\n",
       "      <th>altura_maxima</th>\n",
       "      <th>anio</th>\n",
       "      <th>mes</th>\n",
       "      <th>dia</th>\n",
       "    </tr>\n",
       "  </thead>\n",
       "  <tbody>\n",
       "    <tr>\n",
       "      <th>64</th>\n",
       "      <td>2024-02-21 07:56:20</td>\n",
       "      <td>Ciudad de Buenos Aires Carrera</td>\n",
       "      <td>1.64</td>\n",
       "      <td>93</td>\n",
       "      <td>00:06:19.1</td>\n",
       "      <td>165</td>\n",
       "      <td>198</td>\n",
       "      <td>3:52</td>\n",
       "      <td>9</td>\n",
       "      <td>10</td>\n",
       "      <td>8</td>\n",
       "      <td>18</td>\n",
       "      <td>2024</td>\n",
       "      <td>2</td>\n",
       "      <td>21</td>\n",
       "    </tr>\n",
       "  </tbody>\n",
       "</table>\n",
       "</div>"
      ],
      "text/plain": [
       "                 fecha                          titulo distancia calorias  \\\n",
       "64 2024-02-21 07:56:20  Ciudad de Buenos Aires Carrera      1.64       93   \n",
       "\n",
       "        tiempo  frecuencia_cardiaca_media  fc_maxima ritmo_medio  \\\n",
       "64  00:06:19.1                        165        198        3:52   \n",
       "\n",
       "   ascenso_total descenso_total altura_minima altura_maxima  anio  mes  dia  \n",
       "64             9             10             8            18  2024    2   21  "
      ]
     },
     "execution_count": 22,
     "metadata": {},
     "output_type": "execute_result"
    }
   ],
   "source": [
    "run.loc[mask]"
   ]
  },
  {
   "cell_type": "code",
   "execution_count": 23,
   "id": "ca06b614-000b-4200-9543-4861d99a0a0f",
   "metadata": {},
   "outputs": [],
   "source": [
    "run.loc[mask,\"tiempo\"] = \"00:06:19\""
   ]
  },
  {
   "cell_type": "markdown",
   "id": "2bc65346-d9c1-4d77-98e6-2634ff911e41",
   "metadata": {},
   "source": [
    "Ahora si convierto."
   ]
  },
  {
   "cell_type": "code",
   "execution_count": 24,
   "id": "436ed142-d955-4d6c-aa0b-d93722edc730",
   "metadata": {},
   "outputs": [],
   "source": [
    "run[\"tiempo_timedelta\"] = pd.to_timedelta(run.tiempo)"
   ]
  },
  {
   "cell_type": "code",
   "execution_count": 25,
   "id": "62fdf988-df01-4764-96fe-4855943f6855",
   "metadata": {
    "scrolled": true
   },
   "outputs": [
    {
     "ename": "TypeError",
     "evalue": "to_timedelta() got an unexpected keyword argument 'format'",
     "output_type": "error",
     "traceback": [
      "\u001b[1;31m---------------------------------------------------------------------------\u001b[0m",
      "\u001b[1;31mTypeError\u001b[0m                                 Traceback (most recent call last)",
      "Cell \u001b[1;32mIn[25], line 1\u001b[0m\n\u001b[1;32m----> 1\u001b[0m run[\u001b[38;5;124m\"\u001b[39m\u001b[38;5;124mritmo_medio_timedelta\u001b[39m\u001b[38;5;124m\"\u001b[39m] \u001b[38;5;241m=\u001b[39m \u001b[43mpd\u001b[49m\u001b[38;5;241;43m.\u001b[39;49m\u001b[43mto_timedelta\u001b[49m\u001b[43m(\u001b[49m\u001b[43mrun\u001b[49m\u001b[38;5;241;43m.\u001b[39;49m\u001b[43mritmo_medio\u001b[49m\u001b[43m,\u001b[49m\u001b[43m \u001b[49m\u001b[38;5;28;43mformat\u001b[39;49m\u001b[38;5;241;43m=\u001b[39;49m\u001b[38;5;124;43m\"\u001b[39;49m\u001b[38;5;124;43m%\u001b[39;49m\u001b[38;5;124;43mM:\u001b[39;49m\u001b[38;5;124;43m%\u001b[39;49m\u001b[38;5;124;43mS\u001b[39;49m\u001b[38;5;124;43m\"\u001b[39;49m\u001b[43m)\u001b[49m\n",
      "\u001b[1;31mTypeError\u001b[0m: to_timedelta() got an unexpected keyword argument 'format'"
     ]
    }
   ],
   "source": [
    "run[\"ritmo_medio_timedelta\"] = pd.to_timedelta(run.ritmo_medio, format=\"%M:%S\")"
   ]
  },
  {
   "cell_type": "code",
   "execution_count": null,
   "id": "9fc6351d-defe-4d34-bf4f-dd83c00f29c1",
   "metadata": {},
   "outputs": [],
   "source": [
    "run.ritmo_medio = run.ritmo_medio.apply(lambda x: datetime.datetime.strptime(x, \"%M:%S\").time())\n",
    "\n",
    "run.tiempo = run.tiempo.apply(lambda x: datetime.datetime.strptime(x, \"%H:%M:%S\").time())"
   ]
  },
  {
   "cell_type": "markdown",
   "id": "7277fbba-c279-4291-b156-5484c82b237a",
   "metadata": {},
   "source": [
    "Ahora convierto a enteros o flotantes. Las columnas a transformar eran:\n",
    "\n",
    "distancia, calorias, ascenso_total, descenso_total, altura_minimia, altura_maxima."
   ]
  },
  {
   "cell_type": "code",
   "execution_count": 26,
   "id": "078dffa4-ea41-425f-bb00-c92cde329680",
   "metadata": {},
   "outputs": [],
   "source": [
    "run.distancia = run.distancia.apply(float)\n",
    "run.ascenso_total = run.ascenso_total.apply(int)\n",
    "run.altura_minima = run.altura_minima.apply(int)\n",
    "run.altura_maxima = run.altura_maxima.apply(int)"
   ]
  },
  {
   "cell_type": "markdown",
   "id": "7fad6aa6-bef6-437e-97a8-9f58c8ae7296",
   "metadata": {},
   "source": [
    "Y las siguientes dos arrojan errores. Ambas por mal formateo"
   ]
  },
  {
   "cell_type": "code",
   "execution_count": 27,
   "id": "29b0d39d-6538-454f-b795-29a160a6a96e",
   "metadata": {
    "scrolled": true
   },
   "outputs": [
    {
     "ename": "ValueError",
     "evalue": "could not convert string to float: '--'",
     "output_type": "error",
     "traceback": [
      "\u001b[1;31m---------------------------------------------------------------------------\u001b[0m",
      "\u001b[1;31mValueError\u001b[0m                                Traceback (most recent call last)",
      "Cell \u001b[1;32mIn[27], line 1\u001b[0m\n\u001b[1;32m----> 1\u001b[0m \u001b[43mrun\u001b[49m\u001b[38;5;241;43m.\u001b[39;49m\u001b[43mdescenso_total\u001b[49m\u001b[38;5;241;43m.\u001b[39;49m\u001b[43mapply\u001b[49m\u001b[43m(\u001b[49m\u001b[38;5;28;43mfloat\u001b[39;49m\u001b[43m)\u001b[49m \u001b[38;5;66;03m# --\u001b[39;00m\n",
      "File \u001b[1;32m~\\Desktop\\running_analysis\\running_analysis\\python\\env\\Lib\\site-packages\\pandas\\core\\series.py:4924\u001b[0m, in \u001b[0;36mSeries.apply\u001b[1;34m(self, func, convert_dtype, args, by_row, **kwargs)\u001b[0m\n\u001b[0;32m   4789\u001b[0m \u001b[38;5;28;01mdef\u001b[39;00m \u001b[38;5;21mapply\u001b[39m(\n\u001b[0;32m   4790\u001b[0m     \u001b[38;5;28mself\u001b[39m,\n\u001b[0;32m   4791\u001b[0m     func: AggFuncType,\n\u001b[1;32m   (...)\u001b[0m\n\u001b[0;32m   4796\u001b[0m     \u001b[38;5;241m*\u001b[39m\u001b[38;5;241m*\u001b[39mkwargs,\n\u001b[0;32m   4797\u001b[0m ) \u001b[38;5;241m-\u001b[39m\u001b[38;5;241m>\u001b[39m DataFrame \u001b[38;5;241m|\u001b[39m Series:\n\u001b[0;32m   4798\u001b[0m \u001b[38;5;250m    \u001b[39m\u001b[38;5;124;03m\"\"\"\u001b[39;00m\n\u001b[0;32m   4799\u001b[0m \u001b[38;5;124;03m    Invoke function on values of Series.\u001b[39;00m\n\u001b[0;32m   4800\u001b[0m \n\u001b[1;32m   (...)\u001b[0m\n\u001b[0;32m   4915\u001b[0m \u001b[38;5;124;03m    dtype: float64\u001b[39;00m\n\u001b[0;32m   4916\u001b[0m \u001b[38;5;124;03m    \"\"\"\u001b[39;00m\n\u001b[0;32m   4917\u001b[0m     \u001b[38;5;28;01mreturn\u001b[39;00m \u001b[43mSeriesApply\u001b[49m\u001b[43m(\u001b[49m\n\u001b[0;32m   4918\u001b[0m \u001b[43m        \u001b[49m\u001b[38;5;28;43mself\u001b[39;49m\u001b[43m,\u001b[49m\n\u001b[0;32m   4919\u001b[0m \u001b[43m        \u001b[49m\u001b[43mfunc\u001b[49m\u001b[43m,\u001b[49m\n\u001b[0;32m   4920\u001b[0m \u001b[43m        \u001b[49m\u001b[43mconvert_dtype\u001b[49m\u001b[38;5;241;43m=\u001b[39;49m\u001b[43mconvert_dtype\u001b[49m\u001b[43m,\u001b[49m\n\u001b[0;32m   4921\u001b[0m \u001b[43m        \u001b[49m\u001b[43mby_row\u001b[49m\u001b[38;5;241;43m=\u001b[39;49m\u001b[43mby_row\u001b[49m\u001b[43m,\u001b[49m\n\u001b[0;32m   4922\u001b[0m \u001b[43m        \u001b[49m\u001b[43margs\u001b[49m\u001b[38;5;241;43m=\u001b[39;49m\u001b[43margs\u001b[49m\u001b[43m,\u001b[49m\n\u001b[0;32m   4923\u001b[0m \u001b[43m        \u001b[49m\u001b[43mkwargs\u001b[49m\u001b[38;5;241;43m=\u001b[39;49m\u001b[43mkwargs\u001b[49m\u001b[43m,\u001b[49m\n\u001b[1;32m-> 4924\u001b[0m \u001b[43m    \u001b[49m\u001b[43m)\u001b[49m\u001b[38;5;241;43m.\u001b[39;49m\u001b[43mapply\u001b[49m\u001b[43m(\u001b[49m\u001b[43m)\u001b[49m\n",
      "File \u001b[1;32m~\\Desktop\\running_analysis\\running_analysis\\python\\env\\Lib\\site-packages\\pandas\\core\\apply.py:1427\u001b[0m, in \u001b[0;36mSeriesApply.apply\u001b[1;34m(self)\u001b[0m\n\u001b[0;32m   1424\u001b[0m     \u001b[38;5;28;01mreturn\u001b[39;00m \u001b[38;5;28mself\u001b[39m\u001b[38;5;241m.\u001b[39mapply_compat()\n\u001b[0;32m   1426\u001b[0m \u001b[38;5;66;03m# self.func is Callable\u001b[39;00m\n\u001b[1;32m-> 1427\u001b[0m \u001b[38;5;28;01mreturn\u001b[39;00m \u001b[38;5;28;43mself\u001b[39;49m\u001b[38;5;241;43m.\u001b[39;49m\u001b[43mapply_standard\u001b[49m\u001b[43m(\u001b[49m\u001b[43m)\u001b[49m\n",
      "File \u001b[1;32m~\\Desktop\\running_analysis\\running_analysis\\python\\env\\Lib\\site-packages\\pandas\\core\\apply.py:1507\u001b[0m, in \u001b[0;36mSeriesApply.apply_standard\u001b[1;34m(self)\u001b[0m\n\u001b[0;32m   1501\u001b[0m \u001b[38;5;66;03m# row-wise access\u001b[39;00m\n\u001b[0;32m   1502\u001b[0m \u001b[38;5;66;03m# apply doesn't have a `na_action` keyword and for backward compat reasons\u001b[39;00m\n\u001b[0;32m   1503\u001b[0m \u001b[38;5;66;03m# we need to give `na_action=\"ignore\"` for categorical data.\u001b[39;00m\n\u001b[0;32m   1504\u001b[0m \u001b[38;5;66;03m# TODO: remove the `na_action=\"ignore\"` when that default has been changed in\u001b[39;00m\n\u001b[0;32m   1505\u001b[0m \u001b[38;5;66;03m#  Categorical (GH51645).\u001b[39;00m\n\u001b[0;32m   1506\u001b[0m action \u001b[38;5;241m=\u001b[39m \u001b[38;5;124m\"\u001b[39m\u001b[38;5;124mignore\u001b[39m\u001b[38;5;124m\"\u001b[39m \u001b[38;5;28;01mif\u001b[39;00m \u001b[38;5;28misinstance\u001b[39m(obj\u001b[38;5;241m.\u001b[39mdtype, CategoricalDtype) \u001b[38;5;28;01melse\u001b[39;00m \u001b[38;5;28;01mNone\u001b[39;00m\n\u001b[1;32m-> 1507\u001b[0m mapped \u001b[38;5;241m=\u001b[39m \u001b[43mobj\u001b[49m\u001b[38;5;241;43m.\u001b[39;49m\u001b[43m_map_values\u001b[49m\u001b[43m(\u001b[49m\n\u001b[0;32m   1508\u001b[0m \u001b[43m    \u001b[49m\u001b[43mmapper\u001b[49m\u001b[38;5;241;43m=\u001b[39;49m\u001b[43mcurried\u001b[49m\u001b[43m,\u001b[49m\u001b[43m \u001b[49m\u001b[43mna_action\u001b[49m\u001b[38;5;241;43m=\u001b[39;49m\u001b[43maction\u001b[49m\u001b[43m,\u001b[49m\u001b[43m \u001b[49m\u001b[43mconvert\u001b[49m\u001b[38;5;241;43m=\u001b[39;49m\u001b[38;5;28;43mself\u001b[39;49m\u001b[38;5;241;43m.\u001b[39;49m\u001b[43mconvert_dtype\u001b[49m\n\u001b[0;32m   1509\u001b[0m \u001b[43m\u001b[49m\u001b[43m)\u001b[49m\n\u001b[0;32m   1511\u001b[0m \u001b[38;5;28;01mif\u001b[39;00m \u001b[38;5;28mlen\u001b[39m(mapped) \u001b[38;5;129;01mand\u001b[39;00m \u001b[38;5;28misinstance\u001b[39m(mapped[\u001b[38;5;241m0\u001b[39m], ABCSeries):\n\u001b[0;32m   1512\u001b[0m     \u001b[38;5;66;03m# GH#43986 Need to do list(mapped) in order to get treated as nested\u001b[39;00m\n\u001b[0;32m   1513\u001b[0m     \u001b[38;5;66;03m#  See also GH#25959 regarding EA support\u001b[39;00m\n\u001b[0;32m   1514\u001b[0m     \u001b[38;5;28;01mreturn\u001b[39;00m obj\u001b[38;5;241m.\u001b[39m_constructor_expanddim(\u001b[38;5;28mlist\u001b[39m(mapped), index\u001b[38;5;241m=\u001b[39mobj\u001b[38;5;241m.\u001b[39mindex)\n",
      "File \u001b[1;32m~\\Desktop\\running_analysis\\running_analysis\\python\\env\\Lib\\site-packages\\pandas\\core\\base.py:921\u001b[0m, in \u001b[0;36mIndexOpsMixin._map_values\u001b[1;34m(self, mapper, na_action, convert)\u001b[0m\n\u001b[0;32m    918\u001b[0m \u001b[38;5;28;01mif\u001b[39;00m \u001b[38;5;28misinstance\u001b[39m(arr, ExtensionArray):\n\u001b[0;32m    919\u001b[0m     \u001b[38;5;28;01mreturn\u001b[39;00m arr\u001b[38;5;241m.\u001b[39mmap(mapper, na_action\u001b[38;5;241m=\u001b[39mna_action)\n\u001b[1;32m--> 921\u001b[0m \u001b[38;5;28;01mreturn\u001b[39;00m \u001b[43malgorithms\u001b[49m\u001b[38;5;241;43m.\u001b[39;49m\u001b[43mmap_array\u001b[49m\u001b[43m(\u001b[49m\u001b[43marr\u001b[49m\u001b[43m,\u001b[49m\u001b[43m \u001b[49m\u001b[43mmapper\u001b[49m\u001b[43m,\u001b[49m\u001b[43m \u001b[49m\u001b[43mna_action\u001b[49m\u001b[38;5;241;43m=\u001b[39;49m\u001b[43mna_action\u001b[49m\u001b[43m,\u001b[49m\u001b[43m \u001b[49m\u001b[43mconvert\u001b[49m\u001b[38;5;241;43m=\u001b[39;49m\u001b[43mconvert\u001b[49m\u001b[43m)\u001b[49m\n",
      "File \u001b[1;32m~\\Desktop\\running_analysis\\running_analysis\\python\\env\\Lib\\site-packages\\pandas\\core\\algorithms.py:1743\u001b[0m, in \u001b[0;36mmap_array\u001b[1;34m(arr, mapper, na_action, convert)\u001b[0m\n\u001b[0;32m   1741\u001b[0m values \u001b[38;5;241m=\u001b[39m arr\u001b[38;5;241m.\u001b[39mastype(\u001b[38;5;28mobject\u001b[39m, copy\u001b[38;5;241m=\u001b[39m\u001b[38;5;28;01mFalse\u001b[39;00m)\n\u001b[0;32m   1742\u001b[0m \u001b[38;5;28;01mif\u001b[39;00m na_action \u001b[38;5;129;01mis\u001b[39;00m \u001b[38;5;28;01mNone\u001b[39;00m:\n\u001b[1;32m-> 1743\u001b[0m     \u001b[38;5;28;01mreturn\u001b[39;00m \u001b[43mlib\u001b[49m\u001b[38;5;241;43m.\u001b[39;49m\u001b[43mmap_infer\u001b[49m\u001b[43m(\u001b[49m\u001b[43mvalues\u001b[49m\u001b[43m,\u001b[49m\u001b[43m \u001b[49m\u001b[43mmapper\u001b[49m\u001b[43m,\u001b[49m\u001b[43m \u001b[49m\u001b[43mconvert\u001b[49m\u001b[38;5;241;43m=\u001b[39;49m\u001b[43mconvert\u001b[49m\u001b[43m)\u001b[49m\n\u001b[0;32m   1744\u001b[0m \u001b[38;5;28;01melse\u001b[39;00m:\n\u001b[0;32m   1745\u001b[0m     \u001b[38;5;28;01mreturn\u001b[39;00m lib\u001b[38;5;241m.\u001b[39mmap_infer_mask(\n\u001b[0;32m   1746\u001b[0m         values, mapper, mask\u001b[38;5;241m=\u001b[39misna(values)\u001b[38;5;241m.\u001b[39mview(np\u001b[38;5;241m.\u001b[39muint8), convert\u001b[38;5;241m=\u001b[39mconvert\n\u001b[0;32m   1747\u001b[0m     )\n",
      "File \u001b[1;32mlib.pyx:2972\u001b[0m, in \u001b[0;36mpandas._libs.lib.map_infer\u001b[1;34m()\u001b[0m\n",
      "\u001b[1;31mValueError\u001b[0m: could not convert string to float: '--'"
     ]
    }
   ],
   "source": [
    "run.descenso_total.apply(float) # --"
   ]
  },
  {
   "cell_type": "code",
   "execution_count": 28,
   "id": "fe6ff73b-667f-4ddc-bfdc-d58cd78888a6",
   "metadata": {},
   "outputs": [
    {
     "data": {
      "text/html": [
       "<div>\n",
       "<style scoped>\n",
       "    .dataframe tbody tr th:only-of-type {\n",
       "        vertical-align: middle;\n",
       "    }\n",
       "\n",
       "    .dataframe tbody tr th {\n",
       "        vertical-align: top;\n",
       "    }\n",
       "\n",
       "    .dataframe thead th {\n",
       "        text-align: right;\n",
       "    }\n",
       "</style>\n",
       "<table border=\"1\" class=\"dataframe\">\n",
       "  <thead>\n",
       "    <tr style=\"text-align: right;\">\n",
       "      <th></th>\n",
       "      <th>fecha</th>\n",
       "      <th>titulo</th>\n",
       "      <th>distancia</th>\n",
       "      <th>calorias</th>\n",
       "      <th>tiempo</th>\n",
       "      <th>frecuencia_cardiaca_media</th>\n",
       "      <th>fc_maxima</th>\n",
       "      <th>ritmo_medio</th>\n",
       "      <th>ascenso_total</th>\n",
       "      <th>descenso_total</th>\n",
       "      <th>altura_minima</th>\n",
       "      <th>altura_maxima</th>\n",
       "      <th>anio</th>\n",
       "      <th>mes</th>\n",
       "      <th>dia</th>\n",
       "      <th>tiempo_timedelta</th>\n",
       "    </tr>\n",
       "  </thead>\n",
       "  <tbody>\n",
       "    <tr>\n",
       "      <th>221</th>\n",
       "      <td>2023-02-07 20:04:40</td>\n",
       "      <td>Junín - Benchmark Run</td>\n",
       "      <td>1.68</td>\n",
       "      <td>130</td>\n",
       "      <td>00:09:00</td>\n",
       "      <td>178</td>\n",
       "      <td>190</td>\n",
       "      <td>5:21</td>\n",
       "      <td>2</td>\n",
       "      <td>--</td>\n",
       "      <td>68</td>\n",
       "      <td>76</td>\n",
       "      <td>2023</td>\n",
       "      <td>2</td>\n",
       "      <td>7</td>\n",
       "      <td>0 days 00:09:00</td>\n",
       "    </tr>\n",
       "  </tbody>\n",
       "</table>\n",
       "</div>"
      ],
      "text/plain": [
       "                  fecha                 titulo  distancia calorias    tiempo  \\\n",
       "221 2023-02-07 20:04:40  Junín - Benchmark Run       1.68      130  00:09:00   \n",
       "\n",
       "     frecuencia_cardiaca_media  fc_maxima ritmo_medio  ascenso_total  \\\n",
       "221                        178        190        5:21              2   \n",
       "\n",
       "    descenso_total  altura_minima  altura_maxima  anio  mes  dia  \\\n",
       "221             --             68             76  2023    2    7   \n",
       "\n",
       "    tiempo_timedelta  \n",
       "221  0 days 00:09:00  "
      ]
     },
     "execution_count": 28,
     "metadata": {},
     "output_type": "execute_result"
    }
   ],
   "source": [
    "mask = run.descenso_total == \"--\"\n",
    "run[mask]"
   ]
  },
  {
   "cell_type": "code",
   "execution_count": 29,
   "id": "81512782-4609-4d0f-a479-550ccb5482bc",
   "metadata": {
    "scrolled": true
   },
   "outputs": [
    {
     "data": {
      "text/plain": [
       "0       66.0\n",
       "1      125.0\n",
       "2      167.0\n",
       "3      118.0\n",
       "4       70.0\n",
       "       ...  \n",
       "217      8.0\n",
       "218     15.0\n",
       "219     42.0\n",
       "220     15.0\n",
       "221      0.0\n",
       "Name: descenso_total, Length: 219, dtype: float64"
      ]
     },
     "execution_count": 29,
     "metadata": {},
     "output_type": "execute_result"
    }
   ],
   "source": [
    "run.loc[mask,\"descenso_total\"] = \"0\"\n",
    "\n",
    "run.descenso_total.apply(float)"
   ]
  },
  {
   "cell_type": "code",
   "execution_count": 30,
   "id": "58ec1520-e3c7-4c33-85dc-7cd632a75725",
   "metadata": {
    "scrolled": true
   },
   "outputs": [
    {
     "ename": "ValueError",
     "evalue": "invalid literal for int() with base 10: '1,235'",
     "output_type": "error",
     "traceback": [
      "\u001b[1;31m---------------------------------------------------------------------------\u001b[0m",
      "\u001b[1;31mValueError\u001b[0m                                Traceback (most recent call last)",
      "Cell \u001b[1;32mIn[30], line 1\u001b[0m\n\u001b[1;32m----> 1\u001b[0m \u001b[43mrun\u001b[49m\u001b[38;5;241;43m.\u001b[39;49m\u001b[43mcalorias\u001b[49m\u001b[38;5;241;43m.\u001b[39;49m\u001b[43mapply\u001b[49m\u001b[43m(\u001b[49m\u001b[38;5;28;43mint\u001b[39;49m\u001b[43m)\u001b[49m \u001b[38;5;66;03m# ,\u001b[39;00m\n",
      "File \u001b[1;32m~\\Desktop\\running_analysis\\running_analysis\\python\\env\\Lib\\site-packages\\pandas\\core\\series.py:4924\u001b[0m, in \u001b[0;36mSeries.apply\u001b[1;34m(self, func, convert_dtype, args, by_row, **kwargs)\u001b[0m\n\u001b[0;32m   4789\u001b[0m \u001b[38;5;28;01mdef\u001b[39;00m \u001b[38;5;21mapply\u001b[39m(\n\u001b[0;32m   4790\u001b[0m     \u001b[38;5;28mself\u001b[39m,\n\u001b[0;32m   4791\u001b[0m     func: AggFuncType,\n\u001b[1;32m   (...)\u001b[0m\n\u001b[0;32m   4796\u001b[0m     \u001b[38;5;241m*\u001b[39m\u001b[38;5;241m*\u001b[39mkwargs,\n\u001b[0;32m   4797\u001b[0m ) \u001b[38;5;241m-\u001b[39m\u001b[38;5;241m>\u001b[39m DataFrame \u001b[38;5;241m|\u001b[39m Series:\n\u001b[0;32m   4798\u001b[0m \u001b[38;5;250m    \u001b[39m\u001b[38;5;124;03m\"\"\"\u001b[39;00m\n\u001b[0;32m   4799\u001b[0m \u001b[38;5;124;03m    Invoke function on values of Series.\u001b[39;00m\n\u001b[0;32m   4800\u001b[0m \n\u001b[1;32m   (...)\u001b[0m\n\u001b[0;32m   4915\u001b[0m \u001b[38;5;124;03m    dtype: float64\u001b[39;00m\n\u001b[0;32m   4916\u001b[0m \u001b[38;5;124;03m    \"\"\"\u001b[39;00m\n\u001b[0;32m   4917\u001b[0m     \u001b[38;5;28;01mreturn\u001b[39;00m \u001b[43mSeriesApply\u001b[49m\u001b[43m(\u001b[49m\n\u001b[0;32m   4918\u001b[0m \u001b[43m        \u001b[49m\u001b[38;5;28;43mself\u001b[39;49m\u001b[43m,\u001b[49m\n\u001b[0;32m   4919\u001b[0m \u001b[43m        \u001b[49m\u001b[43mfunc\u001b[49m\u001b[43m,\u001b[49m\n\u001b[0;32m   4920\u001b[0m \u001b[43m        \u001b[49m\u001b[43mconvert_dtype\u001b[49m\u001b[38;5;241;43m=\u001b[39;49m\u001b[43mconvert_dtype\u001b[49m\u001b[43m,\u001b[49m\n\u001b[0;32m   4921\u001b[0m \u001b[43m        \u001b[49m\u001b[43mby_row\u001b[49m\u001b[38;5;241;43m=\u001b[39;49m\u001b[43mby_row\u001b[49m\u001b[43m,\u001b[49m\n\u001b[0;32m   4922\u001b[0m \u001b[43m        \u001b[49m\u001b[43margs\u001b[49m\u001b[38;5;241;43m=\u001b[39;49m\u001b[43margs\u001b[49m\u001b[43m,\u001b[49m\n\u001b[0;32m   4923\u001b[0m \u001b[43m        \u001b[49m\u001b[43mkwargs\u001b[49m\u001b[38;5;241;43m=\u001b[39;49m\u001b[43mkwargs\u001b[49m\u001b[43m,\u001b[49m\n\u001b[1;32m-> 4924\u001b[0m \u001b[43m    \u001b[49m\u001b[43m)\u001b[49m\u001b[38;5;241;43m.\u001b[39;49m\u001b[43mapply\u001b[49m\u001b[43m(\u001b[49m\u001b[43m)\u001b[49m\n",
      "File \u001b[1;32m~\\Desktop\\running_analysis\\running_analysis\\python\\env\\Lib\\site-packages\\pandas\\core\\apply.py:1427\u001b[0m, in \u001b[0;36mSeriesApply.apply\u001b[1;34m(self)\u001b[0m\n\u001b[0;32m   1424\u001b[0m     \u001b[38;5;28;01mreturn\u001b[39;00m \u001b[38;5;28mself\u001b[39m\u001b[38;5;241m.\u001b[39mapply_compat()\n\u001b[0;32m   1426\u001b[0m \u001b[38;5;66;03m# self.func is Callable\u001b[39;00m\n\u001b[1;32m-> 1427\u001b[0m \u001b[38;5;28;01mreturn\u001b[39;00m \u001b[38;5;28;43mself\u001b[39;49m\u001b[38;5;241;43m.\u001b[39;49m\u001b[43mapply_standard\u001b[49m\u001b[43m(\u001b[49m\u001b[43m)\u001b[49m\n",
      "File \u001b[1;32m~\\Desktop\\running_analysis\\running_analysis\\python\\env\\Lib\\site-packages\\pandas\\core\\apply.py:1507\u001b[0m, in \u001b[0;36mSeriesApply.apply_standard\u001b[1;34m(self)\u001b[0m\n\u001b[0;32m   1501\u001b[0m \u001b[38;5;66;03m# row-wise access\u001b[39;00m\n\u001b[0;32m   1502\u001b[0m \u001b[38;5;66;03m# apply doesn't have a `na_action` keyword and for backward compat reasons\u001b[39;00m\n\u001b[0;32m   1503\u001b[0m \u001b[38;5;66;03m# we need to give `na_action=\"ignore\"` for categorical data.\u001b[39;00m\n\u001b[0;32m   1504\u001b[0m \u001b[38;5;66;03m# TODO: remove the `na_action=\"ignore\"` when that default has been changed in\u001b[39;00m\n\u001b[0;32m   1505\u001b[0m \u001b[38;5;66;03m#  Categorical (GH51645).\u001b[39;00m\n\u001b[0;32m   1506\u001b[0m action \u001b[38;5;241m=\u001b[39m \u001b[38;5;124m\"\u001b[39m\u001b[38;5;124mignore\u001b[39m\u001b[38;5;124m\"\u001b[39m \u001b[38;5;28;01mif\u001b[39;00m \u001b[38;5;28misinstance\u001b[39m(obj\u001b[38;5;241m.\u001b[39mdtype, CategoricalDtype) \u001b[38;5;28;01melse\u001b[39;00m \u001b[38;5;28;01mNone\u001b[39;00m\n\u001b[1;32m-> 1507\u001b[0m mapped \u001b[38;5;241m=\u001b[39m \u001b[43mobj\u001b[49m\u001b[38;5;241;43m.\u001b[39;49m\u001b[43m_map_values\u001b[49m\u001b[43m(\u001b[49m\n\u001b[0;32m   1508\u001b[0m \u001b[43m    \u001b[49m\u001b[43mmapper\u001b[49m\u001b[38;5;241;43m=\u001b[39;49m\u001b[43mcurried\u001b[49m\u001b[43m,\u001b[49m\u001b[43m \u001b[49m\u001b[43mna_action\u001b[49m\u001b[38;5;241;43m=\u001b[39;49m\u001b[43maction\u001b[49m\u001b[43m,\u001b[49m\u001b[43m \u001b[49m\u001b[43mconvert\u001b[49m\u001b[38;5;241;43m=\u001b[39;49m\u001b[38;5;28;43mself\u001b[39;49m\u001b[38;5;241;43m.\u001b[39;49m\u001b[43mconvert_dtype\u001b[49m\n\u001b[0;32m   1509\u001b[0m \u001b[43m\u001b[49m\u001b[43m)\u001b[49m\n\u001b[0;32m   1511\u001b[0m \u001b[38;5;28;01mif\u001b[39;00m \u001b[38;5;28mlen\u001b[39m(mapped) \u001b[38;5;129;01mand\u001b[39;00m \u001b[38;5;28misinstance\u001b[39m(mapped[\u001b[38;5;241m0\u001b[39m], ABCSeries):\n\u001b[0;32m   1512\u001b[0m     \u001b[38;5;66;03m# GH#43986 Need to do list(mapped) in order to get treated as nested\u001b[39;00m\n\u001b[0;32m   1513\u001b[0m     \u001b[38;5;66;03m#  See also GH#25959 regarding EA support\u001b[39;00m\n\u001b[0;32m   1514\u001b[0m     \u001b[38;5;28;01mreturn\u001b[39;00m obj\u001b[38;5;241m.\u001b[39m_constructor_expanddim(\u001b[38;5;28mlist\u001b[39m(mapped), index\u001b[38;5;241m=\u001b[39mobj\u001b[38;5;241m.\u001b[39mindex)\n",
      "File \u001b[1;32m~\\Desktop\\running_analysis\\running_analysis\\python\\env\\Lib\\site-packages\\pandas\\core\\base.py:921\u001b[0m, in \u001b[0;36mIndexOpsMixin._map_values\u001b[1;34m(self, mapper, na_action, convert)\u001b[0m\n\u001b[0;32m    918\u001b[0m \u001b[38;5;28;01mif\u001b[39;00m \u001b[38;5;28misinstance\u001b[39m(arr, ExtensionArray):\n\u001b[0;32m    919\u001b[0m     \u001b[38;5;28;01mreturn\u001b[39;00m arr\u001b[38;5;241m.\u001b[39mmap(mapper, na_action\u001b[38;5;241m=\u001b[39mna_action)\n\u001b[1;32m--> 921\u001b[0m \u001b[38;5;28;01mreturn\u001b[39;00m \u001b[43malgorithms\u001b[49m\u001b[38;5;241;43m.\u001b[39;49m\u001b[43mmap_array\u001b[49m\u001b[43m(\u001b[49m\u001b[43marr\u001b[49m\u001b[43m,\u001b[49m\u001b[43m \u001b[49m\u001b[43mmapper\u001b[49m\u001b[43m,\u001b[49m\u001b[43m \u001b[49m\u001b[43mna_action\u001b[49m\u001b[38;5;241;43m=\u001b[39;49m\u001b[43mna_action\u001b[49m\u001b[43m,\u001b[49m\u001b[43m \u001b[49m\u001b[43mconvert\u001b[49m\u001b[38;5;241;43m=\u001b[39;49m\u001b[43mconvert\u001b[49m\u001b[43m)\u001b[49m\n",
      "File \u001b[1;32m~\\Desktop\\running_analysis\\running_analysis\\python\\env\\Lib\\site-packages\\pandas\\core\\algorithms.py:1743\u001b[0m, in \u001b[0;36mmap_array\u001b[1;34m(arr, mapper, na_action, convert)\u001b[0m\n\u001b[0;32m   1741\u001b[0m values \u001b[38;5;241m=\u001b[39m arr\u001b[38;5;241m.\u001b[39mastype(\u001b[38;5;28mobject\u001b[39m, copy\u001b[38;5;241m=\u001b[39m\u001b[38;5;28;01mFalse\u001b[39;00m)\n\u001b[0;32m   1742\u001b[0m \u001b[38;5;28;01mif\u001b[39;00m na_action \u001b[38;5;129;01mis\u001b[39;00m \u001b[38;5;28;01mNone\u001b[39;00m:\n\u001b[1;32m-> 1743\u001b[0m     \u001b[38;5;28;01mreturn\u001b[39;00m \u001b[43mlib\u001b[49m\u001b[38;5;241;43m.\u001b[39;49m\u001b[43mmap_infer\u001b[49m\u001b[43m(\u001b[49m\u001b[43mvalues\u001b[49m\u001b[43m,\u001b[49m\u001b[43m \u001b[49m\u001b[43mmapper\u001b[49m\u001b[43m,\u001b[49m\u001b[43m \u001b[49m\u001b[43mconvert\u001b[49m\u001b[38;5;241;43m=\u001b[39;49m\u001b[43mconvert\u001b[49m\u001b[43m)\u001b[49m\n\u001b[0;32m   1744\u001b[0m \u001b[38;5;28;01melse\u001b[39;00m:\n\u001b[0;32m   1745\u001b[0m     \u001b[38;5;28;01mreturn\u001b[39;00m lib\u001b[38;5;241m.\u001b[39mmap_infer_mask(\n\u001b[0;32m   1746\u001b[0m         values, mapper, mask\u001b[38;5;241m=\u001b[39misna(values)\u001b[38;5;241m.\u001b[39mview(np\u001b[38;5;241m.\u001b[39muint8), convert\u001b[38;5;241m=\u001b[39mconvert\n\u001b[0;32m   1747\u001b[0m     )\n",
      "File \u001b[1;32mlib.pyx:2972\u001b[0m, in \u001b[0;36mpandas._libs.lib.map_infer\u001b[1;34m()\u001b[0m\n",
      "\u001b[1;31mValueError\u001b[0m: invalid literal for int() with base 10: '1,235'"
     ]
    }
   ],
   "source": [
    "run.calorias.apply(int) # ,"
   ]
  },
  {
   "cell_type": "code",
   "execution_count": 32,
   "id": "1b93750e-26a1-4d7e-9a85-54d6ea577405",
   "metadata": {
    "scrolled": true
   },
   "outputs": [
    {
     "ename": "AttributeError",
     "evalue": "'int' object has no attribute 'replace'",
     "output_type": "error",
     "traceback": [
      "\u001b[1;31m---------------------------------------------------------------------------\u001b[0m",
      "\u001b[1;31mAttributeError\u001b[0m                            Traceback (most recent call last)",
      "Cell \u001b[1;32mIn[32], line 1\u001b[0m\n\u001b[1;32m----> 1\u001b[0m run\u001b[38;5;241m.\u001b[39mcalorias \u001b[38;5;241m=\u001b[39m \u001b[43mrun\u001b[49m\u001b[38;5;241;43m.\u001b[39;49m\u001b[43mcalorias\u001b[49m\u001b[38;5;241;43m.\u001b[39;49m\u001b[43mapply\u001b[49m\u001b[43m(\u001b[49m\u001b[38;5;28;43;01mlambda\u001b[39;49;00m\u001b[43m \u001b[49m\u001b[43mx\u001b[49m\u001b[43m:\u001b[49m\u001b[43m \u001b[49m\u001b[38;5;28;43mint\u001b[39;49m\u001b[43m(\u001b[49m\u001b[43mx\u001b[49m\u001b[38;5;241;43m.\u001b[39;49m\u001b[43mreplace\u001b[49m\u001b[43m(\u001b[49m\u001b[38;5;124;43m\"\u001b[39;49m\u001b[38;5;124;43m,\u001b[39;49m\u001b[38;5;124;43m\"\u001b[39;49m\u001b[43m,\u001b[49m\u001b[38;5;124;43m\"\u001b[39;49m\u001b[38;5;124;43m\"\u001b[39;49m\u001b[43m)\u001b[49m\u001b[43m)\u001b[49m\u001b[43m)\u001b[49m\n",
      "File \u001b[1;32m~\\Desktop\\running_analysis\\running_analysis\\python\\env\\Lib\\site-packages\\pandas\\core\\series.py:4924\u001b[0m, in \u001b[0;36mSeries.apply\u001b[1;34m(self, func, convert_dtype, args, by_row, **kwargs)\u001b[0m\n\u001b[0;32m   4789\u001b[0m \u001b[38;5;28;01mdef\u001b[39;00m \u001b[38;5;21mapply\u001b[39m(\n\u001b[0;32m   4790\u001b[0m     \u001b[38;5;28mself\u001b[39m,\n\u001b[0;32m   4791\u001b[0m     func: AggFuncType,\n\u001b[1;32m   (...)\u001b[0m\n\u001b[0;32m   4796\u001b[0m     \u001b[38;5;241m*\u001b[39m\u001b[38;5;241m*\u001b[39mkwargs,\n\u001b[0;32m   4797\u001b[0m ) \u001b[38;5;241m-\u001b[39m\u001b[38;5;241m>\u001b[39m DataFrame \u001b[38;5;241m|\u001b[39m Series:\n\u001b[0;32m   4798\u001b[0m \u001b[38;5;250m    \u001b[39m\u001b[38;5;124;03m\"\"\"\u001b[39;00m\n\u001b[0;32m   4799\u001b[0m \u001b[38;5;124;03m    Invoke function on values of Series.\u001b[39;00m\n\u001b[0;32m   4800\u001b[0m \n\u001b[1;32m   (...)\u001b[0m\n\u001b[0;32m   4915\u001b[0m \u001b[38;5;124;03m    dtype: float64\u001b[39;00m\n\u001b[0;32m   4916\u001b[0m \u001b[38;5;124;03m    \"\"\"\u001b[39;00m\n\u001b[0;32m   4917\u001b[0m     \u001b[38;5;28;01mreturn\u001b[39;00m \u001b[43mSeriesApply\u001b[49m\u001b[43m(\u001b[49m\n\u001b[0;32m   4918\u001b[0m \u001b[43m        \u001b[49m\u001b[38;5;28;43mself\u001b[39;49m\u001b[43m,\u001b[49m\n\u001b[0;32m   4919\u001b[0m \u001b[43m        \u001b[49m\u001b[43mfunc\u001b[49m\u001b[43m,\u001b[49m\n\u001b[0;32m   4920\u001b[0m \u001b[43m        \u001b[49m\u001b[43mconvert_dtype\u001b[49m\u001b[38;5;241;43m=\u001b[39;49m\u001b[43mconvert_dtype\u001b[49m\u001b[43m,\u001b[49m\n\u001b[0;32m   4921\u001b[0m \u001b[43m        \u001b[49m\u001b[43mby_row\u001b[49m\u001b[38;5;241;43m=\u001b[39;49m\u001b[43mby_row\u001b[49m\u001b[43m,\u001b[49m\n\u001b[0;32m   4922\u001b[0m \u001b[43m        \u001b[49m\u001b[43margs\u001b[49m\u001b[38;5;241;43m=\u001b[39;49m\u001b[43margs\u001b[49m\u001b[43m,\u001b[49m\n\u001b[0;32m   4923\u001b[0m \u001b[43m        \u001b[49m\u001b[43mkwargs\u001b[49m\u001b[38;5;241;43m=\u001b[39;49m\u001b[43mkwargs\u001b[49m\u001b[43m,\u001b[49m\n\u001b[1;32m-> 4924\u001b[0m \u001b[43m    \u001b[49m\u001b[43m)\u001b[49m\u001b[38;5;241;43m.\u001b[39;49m\u001b[43mapply\u001b[49m\u001b[43m(\u001b[49m\u001b[43m)\u001b[49m\n",
      "File \u001b[1;32m~\\Desktop\\running_analysis\\running_analysis\\python\\env\\Lib\\site-packages\\pandas\\core\\apply.py:1427\u001b[0m, in \u001b[0;36mSeriesApply.apply\u001b[1;34m(self)\u001b[0m\n\u001b[0;32m   1424\u001b[0m     \u001b[38;5;28;01mreturn\u001b[39;00m \u001b[38;5;28mself\u001b[39m\u001b[38;5;241m.\u001b[39mapply_compat()\n\u001b[0;32m   1426\u001b[0m \u001b[38;5;66;03m# self.func is Callable\u001b[39;00m\n\u001b[1;32m-> 1427\u001b[0m \u001b[38;5;28;01mreturn\u001b[39;00m \u001b[38;5;28;43mself\u001b[39;49m\u001b[38;5;241;43m.\u001b[39;49m\u001b[43mapply_standard\u001b[49m\u001b[43m(\u001b[49m\u001b[43m)\u001b[49m\n",
      "File \u001b[1;32m~\\Desktop\\running_analysis\\running_analysis\\python\\env\\Lib\\site-packages\\pandas\\core\\apply.py:1507\u001b[0m, in \u001b[0;36mSeriesApply.apply_standard\u001b[1;34m(self)\u001b[0m\n\u001b[0;32m   1501\u001b[0m \u001b[38;5;66;03m# row-wise access\u001b[39;00m\n\u001b[0;32m   1502\u001b[0m \u001b[38;5;66;03m# apply doesn't have a `na_action` keyword and for backward compat reasons\u001b[39;00m\n\u001b[0;32m   1503\u001b[0m \u001b[38;5;66;03m# we need to give `na_action=\"ignore\"` for categorical data.\u001b[39;00m\n\u001b[0;32m   1504\u001b[0m \u001b[38;5;66;03m# TODO: remove the `na_action=\"ignore\"` when that default has been changed in\u001b[39;00m\n\u001b[0;32m   1505\u001b[0m \u001b[38;5;66;03m#  Categorical (GH51645).\u001b[39;00m\n\u001b[0;32m   1506\u001b[0m action \u001b[38;5;241m=\u001b[39m \u001b[38;5;124m\"\u001b[39m\u001b[38;5;124mignore\u001b[39m\u001b[38;5;124m\"\u001b[39m \u001b[38;5;28;01mif\u001b[39;00m \u001b[38;5;28misinstance\u001b[39m(obj\u001b[38;5;241m.\u001b[39mdtype, CategoricalDtype) \u001b[38;5;28;01melse\u001b[39;00m \u001b[38;5;28;01mNone\u001b[39;00m\n\u001b[1;32m-> 1507\u001b[0m mapped \u001b[38;5;241m=\u001b[39m \u001b[43mobj\u001b[49m\u001b[38;5;241;43m.\u001b[39;49m\u001b[43m_map_values\u001b[49m\u001b[43m(\u001b[49m\n\u001b[0;32m   1508\u001b[0m \u001b[43m    \u001b[49m\u001b[43mmapper\u001b[49m\u001b[38;5;241;43m=\u001b[39;49m\u001b[43mcurried\u001b[49m\u001b[43m,\u001b[49m\u001b[43m \u001b[49m\u001b[43mna_action\u001b[49m\u001b[38;5;241;43m=\u001b[39;49m\u001b[43maction\u001b[49m\u001b[43m,\u001b[49m\u001b[43m \u001b[49m\u001b[43mconvert\u001b[49m\u001b[38;5;241;43m=\u001b[39;49m\u001b[38;5;28;43mself\u001b[39;49m\u001b[38;5;241;43m.\u001b[39;49m\u001b[43mconvert_dtype\u001b[49m\n\u001b[0;32m   1509\u001b[0m \u001b[43m\u001b[49m\u001b[43m)\u001b[49m\n\u001b[0;32m   1511\u001b[0m \u001b[38;5;28;01mif\u001b[39;00m \u001b[38;5;28mlen\u001b[39m(mapped) \u001b[38;5;129;01mand\u001b[39;00m \u001b[38;5;28misinstance\u001b[39m(mapped[\u001b[38;5;241m0\u001b[39m], ABCSeries):\n\u001b[0;32m   1512\u001b[0m     \u001b[38;5;66;03m# GH#43986 Need to do list(mapped) in order to get treated as nested\u001b[39;00m\n\u001b[0;32m   1513\u001b[0m     \u001b[38;5;66;03m#  See also GH#25959 regarding EA support\u001b[39;00m\n\u001b[0;32m   1514\u001b[0m     \u001b[38;5;28;01mreturn\u001b[39;00m obj\u001b[38;5;241m.\u001b[39m_constructor_expanddim(\u001b[38;5;28mlist\u001b[39m(mapped), index\u001b[38;5;241m=\u001b[39mobj\u001b[38;5;241m.\u001b[39mindex)\n",
      "File \u001b[1;32m~\\Desktop\\running_analysis\\running_analysis\\python\\env\\Lib\\site-packages\\pandas\\core\\base.py:921\u001b[0m, in \u001b[0;36mIndexOpsMixin._map_values\u001b[1;34m(self, mapper, na_action, convert)\u001b[0m\n\u001b[0;32m    918\u001b[0m \u001b[38;5;28;01mif\u001b[39;00m \u001b[38;5;28misinstance\u001b[39m(arr, ExtensionArray):\n\u001b[0;32m    919\u001b[0m     \u001b[38;5;28;01mreturn\u001b[39;00m arr\u001b[38;5;241m.\u001b[39mmap(mapper, na_action\u001b[38;5;241m=\u001b[39mna_action)\n\u001b[1;32m--> 921\u001b[0m \u001b[38;5;28;01mreturn\u001b[39;00m \u001b[43malgorithms\u001b[49m\u001b[38;5;241;43m.\u001b[39;49m\u001b[43mmap_array\u001b[49m\u001b[43m(\u001b[49m\u001b[43marr\u001b[49m\u001b[43m,\u001b[49m\u001b[43m \u001b[49m\u001b[43mmapper\u001b[49m\u001b[43m,\u001b[49m\u001b[43m \u001b[49m\u001b[43mna_action\u001b[49m\u001b[38;5;241;43m=\u001b[39;49m\u001b[43mna_action\u001b[49m\u001b[43m,\u001b[49m\u001b[43m \u001b[49m\u001b[43mconvert\u001b[49m\u001b[38;5;241;43m=\u001b[39;49m\u001b[43mconvert\u001b[49m\u001b[43m)\u001b[49m\n",
      "File \u001b[1;32m~\\Desktop\\running_analysis\\running_analysis\\python\\env\\Lib\\site-packages\\pandas\\core\\algorithms.py:1743\u001b[0m, in \u001b[0;36mmap_array\u001b[1;34m(arr, mapper, na_action, convert)\u001b[0m\n\u001b[0;32m   1741\u001b[0m values \u001b[38;5;241m=\u001b[39m arr\u001b[38;5;241m.\u001b[39mastype(\u001b[38;5;28mobject\u001b[39m, copy\u001b[38;5;241m=\u001b[39m\u001b[38;5;28;01mFalse\u001b[39;00m)\n\u001b[0;32m   1742\u001b[0m \u001b[38;5;28;01mif\u001b[39;00m na_action \u001b[38;5;129;01mis\u001b[39;00m \u001b[38;5;28;01mNone\u001b[39;00m:\n\u001b[1;32m-> 1743\u001b[0m     \u001b[38;5;28;01mreturn\u001b[39;00m \u001b[43mlib\u001b[49m\u001b[38;5;241;43m.\u001b[39;49m\u001b[43mmap_infer\u001b[49m\u001b[43m(\u001b[49m\u001b[43mvalues\u001b[49m\u001b[43m,\u001b[49m\u001b[43m \u001b[49m\u001b[43mmapper\u001b[49m\u001b[43m,\u001b[49m\u001b[43m \u001b[49m\u001b[43mconvert\u001b[49m\u001b[38;5;241;43m=\u001b[39;49m\u001b[43mconvert\u001b[49m\u001b[43m)\u001b[49m\n\u001b[0;32m   1744\u001b[0m \u001b[38;5;28;01melse\u001b[39;00m:\n\u001b[0;32m   1745\u001b[0m     \u001b[38;5;28;01mreturn\u001b[39;00m lib\u001b[38;5;241m.\u001b[39mmap_infer_mask(\n\u001b[0;32m   1746\u001b[0m         values, mapper, mask\u001b[38;5;241m=\u001b[39misna(values)\u001b[38;5;241m.\u001b[39mview(np\u001b[38;5;241m.\u001b[39muint8), convert\u001b[38;5;241m=\u001b[39mconvert\n\u001b[0;32m   1747\u001b[0m     )\n",
      "File \u001b[1;32mlib.pyx:2972\u001b[0m, in \u001b[0;36mpandas._libs.lib.map_infer\u001b[1;34m()\u001b[0m\n",
      "Cell \u001b[1;32mIn[32], line 1\u001b[0m, in \u001b[0;36m<lambda>\u001b[1;34m(x)\u001b[0m\n\u001b[1;32m----> 1\u001b[0m run\u001b[38;5;241m.\u001b[39mcalorias \u001b[38;5;241m=\u001b[39m run\u001b[38;5;241m.\u001b[39mcalorias\u001b[38;5;241m.\u001b[39mapply(\u001b[38;5;28;01mlambda\u001b[39;00m x: \u001b[38;5;28mint\u001b[39m(\u001b[43mx\u001b[49m\u001b[38;5;241;43m.\u001b[39;49m\u001b[43mreplace\u001b[49m(\u001b[38;5;124m\"\u001b[39m\u001b[38;5;124m,\u001b[39m\u001b[38;5;124m\"\u001b[39m,\u001b[38;5;124m\"\u001b[39m\u001b[38;5;124m\"\u001b[39m)))\n",
      "\u001b[1;31mAttributeError\u001b[0m: 'int' object has no attribute 'replace'"
     ]
    }
   ],
   "source": [
    "run.calorias = run.calorias.apply(lambda x: int(x.replace(\",\",\"\")))"
   ]
  },
  {
   "cell_type": "code",
   "execution_count": 33,
   "id": "097a54bf-67ca-4e46-a33e-4ba1cf3d674e",
   "metadata": {},
   "outputs": [
    {
     "data": {
      "text/plain": [
       "fecha                         datetime64[ns]\n",
       "titulo                                object\n",
       "distancia                            float64\n",
       "calorias                               int64\n",
       "tiempo                                object\n",
       "frecuencia_cardiaca_media              int64\n",
       "fc_maxima                              int64\n",
       "ritmo_medio                           object\n",
       "ascenso_total                          int64\n",
       "descenso_total                        object\n",
       "altura_minima                          int64\n",
       "altura_maxima                          int64\n",
       "anio                                   int64\n",
       "mes                                    int64\n",
       "dia                                    int64\n",
       "tiempo_timedelta             timedelta64[ns]\n",
       "dtype: object"
      ]
     },
     "execution_count": 33,
     "metadata": {},
     "output_type": "execute_result"
    }
   ],
   "source": [
    "run.dtypes"
   ]
  },
  {
   "cell_type": "code",
   "execution_count": 39,
   "id": "ee0fef1c-1312-4fe1-92b9-193284b12727",
   "metadata": {},
   "outputs": [
    {
     "data": {
      "text/plain": [
       "fecha                        0\n",
       "titulo                       0\n",
       "distancia                    0\n",
       "calorias                     0\n",
       "tiempo                       0\n",
       "frecuencia_cardiaca_media    0\n",
       "fc_maxima                    0\n",
       "ritmo_medio                  0\n",
       "ascenso_total                0\n",
       "descenso_total               0\n",
       "altura_minima                0\n",
       "altura_maxima                0\n",
       "anio                         0\n",
       "mes                          0\n",
       "dia                          0\n",
       "tiempo_timedelta             0\n",
       "dtype: int64"
      ]
     },
     "execution_count": 39,
     "metadata": {},
     "output_type": "execute_result"
    }
   ],
   "source": [
    "run.isna().sum()"
   ]
  },
  {
   "cell_type": "markdown",
   "id": "32bbb2da-d4dc-4505-9d9c-e564acaf27e7",
   "metadata": {},
   "source": [
    "# Visualizacion\n",
    "\n",
    "\n",
    "Ahora si. Podemos visualizar los datos. Comenzamos visualizando la cantidad de entrenamientos por anio."
   ]
  },
  {
   "cell_type": "markdown",
   "id": "7791c3c1-f520-4561-8d2f-d0f3a0881bb7",
   "metadata": {},
   "source": [
    "### Bar plot\n",
    "\n",
    "Cantidad de entrenamientos por anio"
   ]
  },
  {
   "cell_type": "code",
   "execution_count": 43,
   "id": "ccc2c400-2531-42f9-8e80-58f0ac55b757",
   "metadata": {
    "scrolled": true
   },
   "outputs": [
    {
     "data": {
      "text/plain": [
       "anio\n",
       "2023    134\n",
       "2024     85\n",
       "Name: count, dtype: int64"
      ]
     },
     "execution_count": 43,
     "metadata": {},
     "output_type": "execute_result"
    }
   ],
   "source": [
    "runs_by_year = run.anio.value_counts(dropna=False)\n",
    "runs_by_year"
   ]
  },
  {
   "cell_type": "code",
   "execution_count": 61,
   "id": "642e5f94-9225-40d4-b218-95c616c8289d",
   "metadata": {},
   "outputs": [
    {
     "name": "stdout",
     "output_type": "stream",
     "text": [
      "Hay una diferencia de 49 entrenamientos entre 2023 y 2024\n"
     ]
    }
   ],
   "source": [
    "print(f'Hay una diferencia de {runs_by_year[2023] - runs_by_year[2024]} entrenamientos entre 2023 y 2024')"
   ]
  },
  {
   "cell_type": "code",
   "execution_count": 55,
   "id": "f1953a84-f340-4a12-8c88-e1e4b0adf084",
   "metadata": {
    "scrolled": true
   },
   "outputs": [
    {
     "data": {
      "image/png": "[encoded data removed]",
      "text/plain": [
       "<Figure size 640x480 with 1 Axes>"
      ]
     },
     "metadata": {},
     "output_type": "display_data"
    }
   ],
   "source": [
    "years=['2023','2024']\n",
    "color_dict = {2023:'orange',2024:'blue'}\n",
    "\n",
    "fig, ax = plt.subplots()\n",
    "\n",
    "ax.bar(x=years, height = runs_by_year.values, color=color_dict.values(), label = color_dict.keys())\n",
    "ax.set_title(\"Cantidad de entrenamientos por anio\")\n",
    "ax.set_xlabel(\"Anio\")\n",
    "ax.set_ylabel(\"Cantidad\")\n",
    "ax.legend()\n",
    "plt.show()"
   ]
  },
  {
   "cell_type": "markdown",
   "id": "28b54861-09e2-411b-ac9b-aa1f8e896cdc",
   "metadata": {},
   "source": [
    "### Pie chart\n",
    "\n",
    "Cantidad de entrenamientos por anio. Necesito los porcentajes del total para cada anio."
   ]
  },
  {
   "cell_type": "code",
   "execution_count": 56,
   "id": "c20069b1-6148-46de-b199-b82737f4b905",
   "metadata": {},
   "outputs": [
    {
     "name": "stdout",
     "output_type": "stream",
     "text": [
      "anio\n",
      "2023    61.2\n",
      "2024    38.8\n",
      "Name: count, dtype: float64\n"
     ]
    }
   ],
   "source": [
    "total_runs = run.shape[0]\n",
    "percentage_run_by_year = round(run.anio.value_counts() / total_runs,3) * 100\n",
    "print(percentage_run_by_year)"
   ]
  },
  {
   "cell_type": "code",
   "execution_count": 57,
   "id": "5c7a7185-c978-4474-a087-07d74f6bb69c",
   "metadata": {
    "scrolled": true
   },
   "outputs": [
    {
     "data": {
      "image/png": "[encoded data removed]",
      "text/plain": [
       "<Figure size 640x480 with 1 Axes>"
      ]
     },
     "metadata": {},
     "output_type": "display_data"
    }
   ],
   "source": [
    "sizes = percentage_run_by_year.values\n",
    "fig, ax = plt.subplots()\n",
    "ax.pie(sizes,labels = years,autopct='%1.1f%%', colors = color_dict.values())\n",
    "ax.set_title('Porcentaje cantidad de entrenamientos por anio')\n",
    "ax.legend()\n",
    "plt.show()"
   ]
  },
  {
   "cell_type": "markdown",
   "id": "4c6e0fcd-bef0-44eb-976b-1a2682e7a395",
   "metadata": {},
   "source": [
    "Veamos la cantidad de entrenamientos por mes y anio."
   ]
  },
  {
   "cell_type": "code",
   "execution_count": 58,
   "id": "085ccd11-d354-4af3-9685-fc8f24772b94",
   "metadata": {},
   "outputs": [
    {
     "data": {
      "text/html": [
       "<div>\n",
       "<style scoped>\n",
       "    .dataframe tbody tr th:only-of-type {\n",
       "        vertical-align: middle;\n",
       "    }\n",
       "\n",
       "    .dataframe tbody tr th {\n",
       "        vertical-align: top;\n",
       "    }\n",
       "\n",
       "    .dataframe thead th {\n",
       "        text-align: right;\n",
       "    }\n",
       "</style>\n",
       "<table border=\"1\" class=\"dataframe\">\n",
       "  <thead>\n",
       "    <tr style=\"text-align: right;\">\n",
       "      <th>anio</th>\n",
       "      <th>2023</th>\n",
       "      <th>2024</th>\n",
       "    </tr>\n",
       "    <tr>\n",
       "      <th>mes</th>\n",
       "      <th></th>\n",
       "      <th></th>\n",
       "    </tr>\n",
       "  </thead>\n",
       "  <tbody>\n",
       "    <tr>\n",
       "      <th>1</th>\n",
       "      <td>0</td>\n",
       "      <td>11</td>\n",
       "    </tr>\n",
       "    <tr>\n",
       "      <th>2</th>\n",
       "      <td>10</td>\n",
       "      <td>14</td>\n",
       "    </tr>\n",
       "    <tr>\n",
       "      <th>3</th>\n",
       "      <td>12</td>\n",
       "      <td>14</td>\n",
       "    </tr>\n",
       "    <tr>\n",
       "      <th>4</th>\n",
       "      <td>8</td>\n",
       "      <td>10</td>\n",
       "    </tr>\n",
       "    <tr>\n",
       "      <th>5</th>\n",
       "      <td>3</td>\n",
       "      <td>11</td>\n",
       "    </tr>\n",
       "    <tr>\n",
       "      <th>6</th>\n",
       "      <td>17</td>\n",
       "      <td>13</td>\n",
       "    </tr>\n",
       "    <tr>\n",
       "      <th>7</th>\n",
       "      <td>17</td>\n",
       "      <td>12</td>\n",
       "    </tr>\n",
       "    <tr>\n",
       "      <th>8</th>\n",
       "      <td>17</td>\n",
       "      <td>0</td>\n",
       "    </tr>\n",
       "    <tr>\n",
       "      <th>9</th>\n",
       "      <td>12</td>\n",
       "      <td>0</td>\n",
       "    </tr>\n",
       "    <tr>\n",
       "      <th>10</th>\n",
       "      <td>13</td>\n",
       "      <td>0</td>\n",
       "    </tr>\n",
       "    <tr>\n",
       "      <th>11</th>\n",
       "      <td>12</td>\n",
       "      <td>0</td>\n",
       "    </tr>\n",
       "    <tr>\n",
       "      <th>12</th>\n",
       "      <td>13</td>\n",
       "      <td>0</td>\n",
       "    </tr>\n",
       "  </tbody>\n",
       "</table>\n",
       "</div>"
      ],
      "text/plain": [
       "anio  2023  2024\n",
       "mes             \n",
       "1        0    11\n",
       "2       10    14\n",
       "3       12    14\n",
       "4        8    10\n",
       "5        3    11\n",
       "6       17    13\n",
       "7       17    12\n",
       "8       17     0\n",
       "9       12     0\n",
       "10      13     0\n",
       "11      12     0\n",
       "12      13     0"
      ]
     },
     "execution_count": 58,
     "metadata": {},
     "output_type": "execute_result"
    }
   ],
   "source": [
    "run_by_month_year = run.pivot_table('titulo',index='mes',columns='anio', aggfunc=\"count\", fill_value=0)\n",
    "run_by_month_year"
   ]
  },
  {
   "cell_type": "code",
   "execution_count": 59,
   "id": "049203ad-6343-457a-b3f2-1c3206cb6511",
   "metadata": {
    "scrolled": true
   },
   "outputs": [
    {
     "data": {
      "image/png": "[encoded data removed]",
      "text/plain": [
       "<Figure size 640x480 with 1 Axes>"
      ]
     },
     "metadata": {},
     "output_type": "display_data"
    }
   ],
   "source": [
    "months_in_spanish = [\n",
    "    \"Enero\", \n",
    "    \"Febrero\", \n",
    "    \"Marzo\", \n",
    "    \"Abril\", \n",
    "    \"Mayo\", \n",
    "    \"Junio\", \n",
    "    \"Julio\", \n",
    "    \"Agosto\", \n",
    "    \"Septiembre\", \n",
    "    \"Octubre\", \n",
    "    \"Noviembre\", \n",
    "    \"Diciembre\"\n",
    "]\n",
    "run_by_month_year.index = months_in_spanish\n",
    "run_by_month_year.plot.bar(stacked=True, rot=45, xlabel=\"Mes\", ylabel=\"Cantidad\", color = color_dict.values())\n",
    "plt.show()\n",
    "# Agregar labels"
   ]
  },
  {
   "cell_type": "markdown",
   "id": "13d1f505-7eaa-495d-8e6a-21967ca5618a",
   "metadata": {},
   "source": [
    "### Kilometros por anio\n",
    "\n",
    "\n",
    "Veamos cuantos kilometros corri a lo largo de cada anio."
   ]
  },
  {
   "cell_type": "code",
   "execution_count": 62,
   "id": "8b87e297-86e7-47b8-93fb-034294c848d3",
   "metadata": {},
   "outputs": [
    {
     "data": {
      "image/png": "[encoded data removed]",
      "text/plain": [
       "<Figure size 640x480 with 1 Axes>"
      ]
     },
     "metadata": {},
     "output_type": "display_data"
    }
   ],
   "source": [
    "kms_per_year = round(run.groupby('anio').aggregate({'distancia':'sum'}).distancia)\n",
    "\n",
    "fig, ax = plt.subplots()\n",
    "\n",
    "for anio, kilometros in kms_per_year.items():\n",
    "    b = ax.bar(str(anio), kilometros, label = anio, color = color_dict[anio])\n",
    "    ax.bar_label(b, label_type='edge')\n",
    "\n",
    "ax.legend()\n",
    "plt.show()"
   ]
  },
  {
   "cell_type": "markdown",
   "id": "827b2a7b-0bdc-4ad6-83c4-0c9e2616d7a0",
   "metadata": {},
   "source": [
    "Y ahora veamos kilometros por mes y anio"
   ]
  },
  {
   "cell_type": "code",
   "execution_count": 63,
   "id": "efbd8189-02b9-4751-a4a3-68a0dd2f28cb",
   "metadata": {},
   "outputs": [
    {
     "data": {
      "text/html": [
       "<div>\n",
       "<style scoped>\n",
       "    .dataframe tbody tr th:only-of-type {\n",
       "        vertical-align: middle;\n",
       "    }\n",
       "\n",
       "    .dataframe tbody tr th {\n",
       "        vertical-align: top;\n",
       "    }\n",
       "\n",
       "    .dataframe thead th {\n",
       "        text-align: right;\n",
       "    }\n",
       "</style>\n",
       "<table border=\"1\" class=\"dataframe\">\n",
       "  <thead>\n",
       "    <tr style=\"text-align: right;\">\n",
       "      <th>anio</th>\n",
       "      <th>2023</th>\n",
       "      <th>2024</th>\n",
       "    </tr>\n",
       "    <tr>\n",
       "      <th>mes</th>\n",
       "      <th></th>\n",
       "      <th></th>\n",
       "    </tr>\n",
       "  </thead>\n",
       "  <tbody>\n",
       "    <tr>\n",
       "      <th>1</th>\n",
       "      <td>0.00</td>\n",
       "      <td>87.41</td>\n",
       "    </tr>\n",
       "    <tr>\n",
       "      <th>2</th>\n",
       "      <td>74.94</td>\n",
       "      <td>123.59</td>\n",
       "    </tr>\n",
       "    <tr>\n",
       "      <th>3</th>\n",
       "      <td>103.56</td>\n",
       "      <td>114.96</td>\n",
       "    </tr>\n",
       "    <tr>\n",
       "      <th>4</th>\n",
       "      <td>95.02</td>\n",
       "      <td>120.38</td>\n",
       "    </tr>\n",
       "    <tr>\n",
       "      <th>5</th>\n",
       "      <td>21.03</td>\n",
       "      <td>109.53</td>\n",
       "    </tr>\n",
       "    <tr>\n",
       "      <th>6</th>\n",
       "      <td>129.19</td>\n",
       "      <td>142.11</td>\n",
       "    </tr>\n",
       "    <tr>\n",
       "      <th>7</th>\n",
       "      <td>190.31</td>\n",
       "      <td>140.39</td>\n",
       "    </tr>\n",
       "    <tr>\n",
       "      <th>8</th>\n",
       "      <td>197.11</td>\n",
       "      <td>0.00</td>\n",
       "    </tr>\n",
       "    <tr>\n",
       "      <th>9</th>\n",
       "      <td>145.32</td>\n",
       "      <td>0.00</td>\n",
       "    </tr>\n",
       "    <tr>\n",
       "      <th>10</th>\n",
       "      <td>125.55</td>\n",
       "      <td>0.00</td>\n",
       "    </tr>\n",
       "    <tr>\n",
       "      <th>11</th>\n",
       "      <td>119.02</td>\n",
       "      <td>0.00</td>\n",
       "    </tr>\n",
       "    <tr>\n",
       "      <th>12</th>\n",
       "      <td>109.07</td>\n",
       "      <td>0.00</td>\n",
       "    </tr>\n",
       "  </tbody>\n",
       "</table>\n",
       "</div>"
      ],
      "text/plain": [
       "anio    2023    2024\n",
       "mes                 \n",
       "1       0.00   87.41\n",
       "2      74.94  123.59\n",
       "3     103.56  114.96\n",
       "4      95.02  120.38\n",
       "5      21.03  109.53\n",
       "6     129.19  142.11\n",
       "7     190.31  140.39\n",
       "8     197.11    0.00\n",
       "9     145.32    0.00\n",
       "10    125.55    0.00\n",
       "11    119.02    0.00\n",
       "12    109.07    0.00"
      ]
     },
     "execution_count": 63,
     "metadata": {},
     "output_type": "execute_result"
    }
   ],
   "source": [
    "kms_per_month_year = run.pivot_table('distancia', index = 'mes', columns = 'anio', aggfunc='sum', fill_value=0)\n",
    "kms_per_month_year"
   ]
  },
  {
   "cell_type": "code",
   "execution_count": 66,
   "id": "7c39bcf5-f1c3-4955-a6fb-89cc1674152b",
   "metadata": {},
   "outputs": [],
   "source": [
    "kms_per_month_year.index = months_in_spanish"
   ]
  },
  {
   "cell_type": "code",
   "execution_count": 67,
   "id": "7aaef7b0-2e13-4bc6-b743-b97bc583f0c7",
   "metadata": {},
   "outputs": [
    {
     "data": {
      "image/png": "[encoded data removed]",
      "text/plain": [
       "<Figure size 640x480 with 1 Axes>"
      ]
     },
     "metadata": {},
     "output_type": "display_data"
    }
   ],
   "source": [
    "kms_per_month_year.plot.bar(stacked=True, rot=45, xlabel=\"Mes\", ylabel=\"Kilometros\", color = color_dict.values())\n",
    "plt.show()\n",
    "# Agregar labels sobre las barras."
   ]
  },
  {
   "cell_type": "markdown",
   "id": "e47f2ffd-0128-48df-8f37-2f0f182b9220",
   "metadata": {},
   "source": [
    "Puedo hacerlo por separado.."
   ]
  },
  {
   "cell_type": "code",
   "execution_count": 68,
   "id": "cf8a90e9-955b-41d2-accf-0b6226e631bc",
   "metadata": {},
   "outputs": [],
   "source": [
    "kms_per_month_2023 = kms_per_month_year[2023]\n",
    "kms_per_month_2024 = kms_per_month_year[2024]"
   ]
  },
  {
   "cell_type": "code",
   "execution_count": 70,
   "id": "0d6f93a3-1ff2-4c5a-aff4-acef55c6f6a6",
   "metadata": {},
   "outputs": [
    {
     "data": {
      "image/png": "[encoded data removed]",
      "text/plain": [
       "<Figure size 640x480 with 2 Axes>"
      ]
     },
     "metadata": {},
     "output_type": "display_data"
    }
   ],
   "source": [
    "fig, ax = plt.subplots(2, sharex=True, sharey=True)\n",
    "\n",
    "fig.supylabel('Kilometros')\n",
    "fig.suptitle('Cantidad de kilometros por mes')\n",
    "\n",
    "ax[0].bar(x = kms_per_month_2024.index, height = kms_per_month_2024.values, color=color_dict[2023], label = '2024')\n",
    "ax[0].legend()\n",
    "\n",
    "ax[1].bar(x = kms_per_month_2024.index, height = kms_per_month_2023.values, color=color_dict[2024], label = '2023')\n",
    "ax[1].legend()\n",
    "ax[1].set_xticks(range(len(kms_per_month_2024.index)))\n",
    "ax[1].set_xticklabels(kms_per_month_2024.index,rotation=90, ha=\"right\")\n",
    "ax[1].set_xlabel('Mes')\n",
    "plt.show()"
   ]
  },
  {
   "cell_type": "markdown",
   "id": "c7667920-0191-4bb5-9490-7d29bfc28f7b",
   "metadata": {},
   "source": [
    "### Agosto 2023\n",
    "\n"
   ]
  },
  {
   "cell_type": "code",
   "execution_count": 71,
   "id": "19a5d81e-f0e8-4d3c-9079-60ed4de141fc",
   "metadata": {},
   "outputs": [
    {
     "data": {
      "text/html": [
       "<div>\n",
       "<style scoped>\n",
       "    .dataframe tbody tr th:only-of-type {\n",
       "        vertical-align: middle;\n",
       "    }\n",
       "\n",
       "    .dataframe tbody tr th {\n",
       "        vertical-align: top;\n",
       "    }\n",
       "\n",
       "    .dataframe thead th {\n",
       "        text-align: right;\n",
       "    }\n",
       "</style>\n",
       "<table border=\"1\" class=\"dataframe\">\n",
       "  <thead>\n",
       "    <tr style=\"text-align: right;\">\n",
       "      <th></th>\n",
       "      <th>fecha</th>\n",
       "      <th>titulo</th>\n",
       "      <th>distancia</th>\n",
       "      <th>calorias</th>\n",
       "      <th>tiempo</th>\n",
       "      <th>frecuencia_cardiaca_media</th>\n",
       "      <th>fc_maxima</th>\n",
       "      <th>ritmo_medio</th>\n",
       "      <th>ascenso_total</th>\n",
       "      <th>descenso_total</th>\n",
       "      <th>altura_minima</th>\n",
       "      <th>altura_maxima</th>\n",
       "      <th>anio</th>\n",
       "      <th>mes</th>\n",
       "      <th>dia</th>\n",
       "      <th>tiempo_timedelta</th>\n",
       "    </tr>\n",
       "  </thead>\n",
       "  <tbody>\n",
       "    <tr>\n",
       "      <th>136</th>\n",
       "      <td>2023-08-31 14:50:00</td>\n",
       "      <td>Ciudad de Buenos Aires - 40' reg + 4x20 prog</td>\n",
       "      <td>7.62</td>\n",
       "      <td>585</td>\n",
       "      <td>00:45:24</td>\n",
       "      <td>154</td>\n",
       "      <td>174</td>\n",
       "      <td>5:58</td>\n",
       "      <td>109</td>\n",
       "      <td>113</td>\n",
       "      <td>-2</td>\n",
       "      <td>35</td>\n",
       "      <td>2023</td>\n",
       "      <td>8</td>\n",
       "      <td>31</td>\n",
       "      <td>0 days 00:45:24</td>\n",
       "    </tr>\n",
       "    <tr>\n",
       "      <th>137</th>\n",
       "      <td>2023-08-29 08:13:31</td>\n",
       "      <td>Ciudad de Buenos Aires - 40' regenerativos</td>\n",
       "      <td>5.15</td>\n",
       "      <td>362</td>\n",
       "      <td>00:40:04</td>\n",
       "      <td>122</td>\n",
       "      <td>139</td>\n",
       "      <td>7:47</td>\n",
       "      <td>100</td>\n",
       "      <td>100</td>\n",
       "      <td>4</td>\n",
       "      <td>25</td>\n",
       "      <td>2023</td>\n",
       "      <td>8</td>\n",
       "      <td>29</td>\n",
       "      <td>0 days 00:40:04</td>\n",
       "    </tr>\n",
       "    <tr>\n",
       "      <th>138</th>\n",
       "      <td>2023-08-27 07:09:57</td>\n",
       "      <td>Ciudad de Buenos Aires Carrera</td>\n",
       "      <td>21.31</td>\n",
       "      <td>1543</td>\n",
       "      <td>01:52:41</td>\n",
       "      <td>161</td>\n",
       "      <td>185</td>\n",
       "      <td>5:17</td>\n",
       "      <td>336</td>\n",
       "      <td>336</td>\n",
       "      <td>-3</td>\n",
       "      <td>55</td>\n",
       "      <td>2023</td>\n",
       "      <td>8</td>\n",
       "      <td>27</td>\n",
       "      <td>0 days 01:52:41</td>\n",
       "    </tr>\n",
       "    <tr>\n",
       "      <th>139</th>\n",
       "      <td>2023-08-26 15:14:48</td>\n",
       "      <td>Ciudad de Buenos Aires - 15' reg + 4 prog</td>\n",
       "      <td>3.31</td>\n",
       "      <td>255</td>\n",
       "      <td>00:20:13</td>\n",
       "      <td>152</td>\n",
       "      <td>173</td>\n",
       "      <td>6:07</td>\n",
       "      <td>62</td>\n",
       "      <td>61</td>\n",
       "      <td>4</td>\n",
       "      <td>36</td>\n",
       "      <td>2023</td>\n",
       "      <td>8</td>\n",
       "      <td>26</td>\n",
       "      <td>0 days 00:20:13</td>\n",
       "    </tr>\n",
       "    <tr>\n",
       "      <th>140</th>\n",
       "      <td>2023-08-24 18:53:24</td>\n",
       "      <td>Ciudad de Buenos Aires - 30' suaves</td>\n",
       "      <td>4.91</td>\n",
       "      <td>358</td>\n",
       "      <td>00:30:02</td>\n",
       "      <td>147</td>\n",
       "      <td>167</td>\n",
       "      <td>6:07</td>\n",
       "      <td>99</td>\n",
       "      <td>103</td>\n",
       "      <td>5</td>\n",
       "      <td>39</td>\n",
       "      <td>2023</td>\n",
       "      <td>8</td>\n",
       "      <td>24</td>\n",
       "      <td>0 days 00:30:02</td>\n",
       "    </tr>\n",
       "    <tr>\n",
       "      <th>141</th>\n",
       "      <td>2023-08-23 15:38:43</td>\n",
       "      <td>Ciudad de Buenos Aires - 5x200 /30</td>\n",
       "      <td>6.14</td>\n",
       "      <td>473</td>\n",
       "      <td>00:35:52</td>\n",
       "      <td>159</td>\n",
       "      <td>181</td>\n",
       "      <td>5:50</td>\n",
       "      <td>98</td>\n",
       "      <td>100</td>\n",
       "      <td>4</td>\n",
       "      <td>36</td>\n",
       "      <td>2023</td>\n",
       "      <td>8</td>\n",
       "      <td>23</td>\n",
       "      <td>0 days 00:35:52</td>\n",
       "    </tr>\n",
       "    <tr>\n",
       "      <th>142</th>\n",
       "      <td>2023-08-21 19:32:22</td>\n",
       "      <td>Ciudad de Buenos Aires - 1x1k/1' + 2x500/30</td>\n",
       "      <td>6.23</td>\n",
       "      <td>460</td>\n",
       "      <td>00:35:47</td>\n",
       "      <td>156</td>\n",
       "      <td>186</td>\n",
       "      <td>5:45</td>\n",
       "      <td>102</td>\n",
       "      <td>91</td>\n",
       "      <td>6</td>\n",
       "      <td>38</td>\n",
       "      <td>2023</td>\n",
       "      <td>8</td>\n",
       "      <td>21</td>\n",
       "      <td>0 days 00:35:47</td>\n",
       "    </tr>\n",
       "    <tr>\n",
       "      <th>143</th>\n",
       "      <td>2023-08-19 15:52:19</td>\n",
       "      <td>Junín - 50' prog con cuestas</td>\n",
       "      <td>8.17</td>\n",
       "      <td>633</td>\n",
       "      <td>00:50:04</td>\n",
       "      <td>156</td>\n",
       "      <td>169</td>\n",
       "      <td>6:08</td>\n",
       "      <td>23</td>\n",
       "      <td>25</td>\n",
       "      <td>74</td>\n",
       "      <td>90</td>\n",
       "      <td>2023</td>\n",
       "      <td>8</td>\n",
       "      <td>19</td>\n",
       "      <td>0 days 00:50:04</td>\n",
       "    </tr>\n",
       "    <tr>\n",
       "      <th>144</th>\n",
       "      <td>2023-08-17 19:22:44</td>\n",
       "      <td>Ciudad de Buenos Aires - 12k cambios de ritmo</td>\n",
       "      <td>15.77</td>\n",
       "      <td>1237</td>\n",
       "      <td>01:26:18</td>\n",
       "      <td>177</td>\n",
       "      <td>194</td>\n",
       "      <td>5:28</td>\n",
       "      <td>181</td>\n",
       "      <td>186</td>\n",
       "      <td>1</td>\n",
       "      <td>38</td>\n",
       "      <td>2023</td>\n",
       "      <td>8</td>\n",
       "      <td>17</td>\n",
       "      <td>0 days 01:26:18</td>\n",
       "    </tr>\n",
       "    <tr>\n",
       "      <th>145</th>\n",
       "      <td>2023-08-15 19:04:14</td>\n",
       "      <td>Ciudad de Buenos Aires - 8x1k/1'</td>\n",
       "      <td>13.36</td>\n",
       "      <td>1039</td>\n",
       "      <td>01:14:23</td>\n",
       "      <td>172</td>\n",
       "      <td>192</td>\n",
       "      <td>5:34</td>\n",
       "      <td>178</td>\n",
       "      <td>184</td>\n",
       "      <td>4</td>\n",
       "      <td>38</td>\n",
       "      <td>2023</td>\n",
       "      <td>8</td>\n",
       "      <td>15</td>\n",
       "      <td>0 days 01:14:23</td>\n",
       "    </tr>\n",
       "    <tr>\n",
       "      <th>146</th>\n",
       "      <td>2023-08-12 15:24:50</td>\n",
       "      <td>Junín - 2h prog con cuestas</td>\n",
       "      <td>19.86</td>\n",
       "      <td>1487</td>\n",
       "      <td>02:00:04</td>\n",
       "      <td>155</td>\n",
       "      <td>168</td>\n",
       "      <td>6:03</td>\n",
       "      <td>111</td>\n",
       "      <td>119</td>\n",
       "      <td>68</td>\n",
       "      <td>95</td>\n",
       "      <td>2023</td>\n",
       "      <td>8</td>\n",
       "      <td>12</td>\n",
       "      <td>0 days 02:00:04</td>\n",
       "    </tr>\n",
       "    <tr>\n",
       "      <th>147</th>\n",
       "      <td>2023-08-10 19:02:37</td>\n",
       "      <td>Ciudad de Buenos Aires - 3x5k /1'</td>\n",
       "      <td>19.84</td>\n",
       "      <td>1467</td>\n",
       "      <td>01:50:01</td>\n",
       "      <td>165</td>\n",
       "      <td>182</td>\n",
       "      <td>5:33</td>\n",
       "      <td>227</td>\n",
       "      <td>229</td>\n",
       "      <td>-3</td>\n",
       "      <td>36</td>\n",
       "      <td>2023</td>\n",
       "      <td>8</td>\n",
       "      <td>10</td>\n",
       "      <td>0 days 01:50:01</td>\n",
       "    </tr>\n",
       "    <tr>\n",
       "      <th>148</th>\n",
       "      <td>2023-08-08 16:16:13</td>\n",
       "      <td>Ciudad de Buenos Aires - 50' z1 z2</td>\n",
       "      <td>7.73</td>\n",
       "      <td>564</td>\n",
       "      <td>00:50:02</td>\n",
       "      <td>139</td>\n",
       "      <td>156</td>\n",
       "      <td>6:28</td>\n",
       "      <td>61</td>\n",
       "      <td>68</td>\n",
       "      <td>-3</td>\n",
       "      <td>57</td>\n",
       "      <td>2023</td>\n",
       "      <td>8</td>\n",
       "      <td>8</td>\n",
       "      <td>0 days 00:50:02</td>\n",
       "    </tr>\n",
       "    <tr>\n",
       "      <th>149</th>\n",
       "      <td>2023-08-07 19:09:15</td>\n",
       "      <td>Ciudad de Buenos Aires - 1x3k 2x2k 3x1k /1'</td>\n",
       "      <td>15.34</td>\n",
       "      <td>1097</td>\n",
       "      <td>01:23:39</td>\n",
       "      <td>160</td>\n",
       "      <td>183</td>\n",
       "      <td>5:27</td>\n",
       "      <td>186</td>\n",
       "      <td>198</td>\n",
       "      <td>4</td>\n",
       "      <td>36</td>\n",
       "      <td>2023</td>\n",
       "      <td>8</td>\n",
       "      <td>7</td>\n",
       "      <td>0 days 01:23:39</td>\n",
       "    </tr>\n",
       "    <tr>\n",
       "      <th>150</th>\n",
       "      <td>2023-08-05 10:14:20</td>\n",
       "      <td>Ciudad de Buenos Aires - 90' prog con cuestas</td>\n",
       "      <td>15.82</td>\n",
       "      <td>1174</td>\n",
       "      <td>01:30:05</td>\n",
       "      <td>158</td>\n",
       "      <td>182</td>\n",
       "      <td>5:42</td>\n",
       "      <td>381</td>\n",
       "      <td>395</td>\n",
       "      <td>4</td>\n",
       "      <td>38</td>\n",
       "      <td>2023</td>\n",
       "      <td>8</td>\n",
       "      <td>5</td>\n",
       "      <td>0 days 01:30:05</td>\n",
       "    </tr>\n",
       "    <tr>\n",
       "      <th>151</th>\n",
       "      <td>2023-08-03 19:07:15</td>\n",
       "      <td>Ciudad de Buenos Aires - 3x4k /1'</td>\n",
       "      <td>16.68</td>\n",
       "      <td>1238</td>\n",
       "      <td>01:31:45</td>\n",
       "      <td>165</td>\n",
       "      <td>188</td>\n",
       "      <td>5:30</td>\n",
       "      <td>232</td>\n",
       "      <td>236</td>\n",
       "      <td>5</td>\n",
       "      <td>41</td>\n",
       "      <td>2023</td>\n",
       "      <td>8</td>\n",
       "      <td>3</td>\n",
       "      <td>0 days 01:31:45</td>\n",
       "    </tr>\n",
       "    <tr>\n",
       "      <th>152</th>\n",
       "      <td>2023-08-01 15:22:24</td>\n",
       "      <td>Ciudad de Buenos Aires - 5x1k pausa progresiva</td>\n",
       "      <td>9.87</td>\n",
       "      <td>763</td>\n",
       "      <td>00:56:55</td>\n",
       "      <td>166</td>\n",
       "      <td>197</td>\n",
       "      <td>5:46</td>\n",
       "      <td>164</td>\n",
       "      <td>164</td>\n",
       "      <td>5</td>\n",
       "      <td>55</td>\n",
       "      <td>2023</td>\n",
       "      <td>8</td>\n",
       "      <td>1</td>\n",
       "      <td>0 days 00:56:55</td>\n",
       "    </tr>\n",
       "  </tbody>\n",
       "</table>\n",
       "</div>"
      ],
      "text/plain": [
       "                  fecha                                          titulo  \\\n",
       "136 2023-08-31 14:50:00    Ciudad de Buenos Aires - 40' reg + 4x20 prog   \n",
       "137 2023-08-29 08:13:31      Ciudad de Buenos Aires - 40' regenerativos   \n",
       "138 2023-08-27 07:09:57                  Ciudad de Buenos Aires Carrera   \n",
       "139 2023-08-26 15:14:48       Ciudad de Buenos Aires - 15' reg + 4 prog   \n",
       "140 2023-08-24 18:53:24             Ciudad de Buenos Aires - 30' suaves   \n",
       "141 2023-08-23 15:38:43              Ciudad de Buenos Aires - 5x200 /30   \n",
       "142 2023-08-21 19:32:22     Ciudad de Buenos Aires - 1x1k/1' + 2x500/30   \n",
       "143 2023-08-19 15:52:19                    Junín - 50' prog con cuestas   \n",
       "144 2023-08-17 19:22:44   Ciudad de Buenos Aires - 12k cambios de ritmo   \n",
       "145 2023-08-15 19:04:14                Ciudad de Buenos Aires - 8x1k/1'   \n",
       "146 2023-08-12 15:24:50                     Junín - 2h prog con cuestas   \n",
       "147 2023-08-10 19:02:37               Ciudad de Buenos Aires - 3x5k /1'   \n",
       "148 2023-08-08 16:16:13              Ciudad de Buenos Aires - 50' z1 z2   \n",
       "149 2023-08-07 19:09:15     Ciudad de Buenos Aires - 1x3k 2x2k 3x1k /1'   \n",
       "150 2023-08-05 10:14:20   Ciudad de Buenos Aires - 90' prog con cuestas   \n",
       "151 2023-08-03 19:07:15               Ciudad de Buenos Aires - 3x4k /1'   \n",
       "152 2023-08-01 15:22:24  Ciudad de Buenos Aires - 5x1k pausa progresiva   \n",
       "\n",
       "     distancia  calorias    tiempo  frecuencia_cardiaca_media  fc_maxima  \\\n",
       "136       7.62       585  00:45:24                        154        174   \n",
       "137       5.15       362  00:40:04                        122        139   \n",
       "138      21.31      1543  01:52:41                        161        185   \n",
       "139       3.31       255  00:20:13                        152        173   \n",
       "140       4.91       358  00:30:02                        147        167   \n",
       "141       6.14       473  00:35:52                        159        181   \n",
       "142       6.23       460  00:35:47                        156        186   \n",
       "143       8.17       633  00:50:04                        156        169   \n",
       "144      15.77      1237  01:26:18                        177        194   \n",
       "145      13.36      1039  01:14:23                        172        192   \n",
       "146      19.86      1487  02:00:04                        155        168   \n",
       "147      19.84      1467  01:50:01                        165        182   \n",
       "148       7.73       564  00:50:02                        139        156   \n",
       "149      15.34      1097  01:23:39                        160        183   \n",
       "150      15.82      1174  01:30:05                        158        182   \n",
       "151      16.68      1238  01:31:45                        165        188   \n",
       "152       9.87       763  00:56:55                        166        197   \n",
       "\n",
       "    ritmo_medio  ascenso_total descenso_total  altura_minima  altura_maxima  \\\n",
       "136        5:58            109            113             -2             35   \n",
       "137        7:47            100            100              4             25   \n",
       "138        5:17            336            336             -3             55   \n",
       "139        6:07             62             61              4             36   \n",
       "140        6:07             99            103              5             39   \n",
       "141        5:50             98            100              4             36   \n",
       "142        5:45            102             91              6             38   \n",
       "143        6:08             23             25             74             90   \n",
       "144        5:28            181            186              1             38   \n",
       "145        5:34            178            184              4             38   \n",
       "146        6:03            111            119             68             95   \n",
       "147        5:33            227            229             -3             36   \n",
       "148        6:28             61             68             -3             57   \n",
       "149        5:27            186            198              4             36   \n",
       "150        5:42            381            395              4             38   \n",
       "151        5:30            232            236              5             41   \n",
       "152        5:46            164            164              5             55   \n",
       "\n",
       "     anio  mes  dia tiempo_timedelta  \n",
       "136  2023    8   31  0 days 00:45:24  \n",
       "137  2023    8   29  0 days 00:40:04  \n",
       "138  2023    8   27  0 days 01:52:41  \n",
       "139  2023    8   26  0 days 00:20:13  \n",
       "140  2023    8   24  0 days 00:30:02  \n",
       "141  2023    8   23  0 days 00:35:52  \n",
       "142  2023    8   21  0 days 00:35:47  \n",
       "143  2023    8   19  0 days 00:50:04  \n",
       "144  2023    8   17  0 days 01:26:18  \n",
       "145  2023    8   15  0 days 01:14:23  \n",
       "146  2023    8   12  0 days 02:00:04  \n",
       "147  2023    8   10  0 days 01:50:01  \n",
       "148  2023    8    8  0 days 00:50:02  \n",
       "149  2023    8    7  0 days 01:23:39  \n",
       "150  2023    8    5  0 days 01:30:05  \n",
       "151  2023    8    3  0 days 01:31:45  \n",
       "152  2023    8    1  0 days 00:56:55  "
      ]
     },
     "execution_count": 71,
     "metadata": {},
     "output_type": "execute_result"
    }
   ],
   "source": [
    "run.mes == 8\n",
    "run.anio == 2023\n",
    "\n",
    "agosto_2023 = run[ (run.mes == 8) & (run.anio == 2023) ]\n",
    "agosto_2023"
   ]
  },
  {
   "cell_type": "code",
   "execution_count": 72,
   "id": "46241ffe-ee90-4946-94aa-e260752ae794",
   "metadata": {},
   "outputs": [],
   "source": [
    "cantidad_entrenos_agosto_2023 = agosto_2023.shape[0]\n",
    "km_agosto_2023 = agosto_2023.distancia.sum()\n",
    "tiempo_agosto_2023 = round(agosto_2023.tiempo_timedelta.sum().seconds / 3600)\n",
    "promedio_tiempo_agosto_2023 = round(agosto_2023.tiempo_timedelta.mean().seconds / 3600, 2)\n",
    "promedio_kilometros_agosto_2023 = round(agosto_2023.distancia.mean(),2)"
   ]
  },
  {
   "cell_type": "code",
   "execution_count": 73,
   "id": "ce9d0525-42be-4920-a4c1-59ea08ea23a0",
   "metadata": {},
   "outputs": [
    {
     "name": "stdout",
     "output_type": "stream",
     "text": [
      "\n",
      "Algunos datos de Agosto 2023.\n",
      "\n",
      "Cantidad de entrenamientos: 17\n",
      "Total de kilometros: 197.11\n",
      "Horas entrenando: 19\n",
      "Promedio tiempo por entrenamiento: 1.11 horas. \n",
      "Promedio kilometros por entrenamiento 11.59\n",
      "\n"
     ]
    }
   ],
   "source": [
    "print(f\"\"\"\n",
    "Algunos datos de Agosto 2023.\n",
    "\n",
    "Cantidad de entrenamientos: {cantidad_entrenos_agosto_2023}\n",
    "Total de kilometros: {km_agosto_2023}\n",
    "Horas entrenando: {tiempo_agosto_2023}\n",
    "Promedio tiempo por entrenamiento: {promedio_tiempo_agosto_2023} horas. \n",
    "Promedio kilometros por entrenamiento {promedio_kilometros_agosto_2023}\n",
    "\"\"\")"
   ]
  }
 ],
 "metadata": {
  "kernelspec": {
   "display_name": "Python 3 (ipykernel)",
   "language": "python",
   "name": "python3"
  },
  "language_info": {
   "codemirror_mode": {
    "name": "ipython",
    "version": 3
   },
   "file_extension": ".py",
   "mimetype": "text/x-python",
   "name": "python",
   "nbconvert_exporter": "python",
   "pygments_lexer": "ipython3",
   "version": "3.11.9"
  }
 },
 "nbformat": 4,
 "nbformat_minor": 5
}
